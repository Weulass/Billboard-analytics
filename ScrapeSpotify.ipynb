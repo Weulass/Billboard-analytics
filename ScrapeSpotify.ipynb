{
 "cells": [
  {
   "cell_type": "markdown",
   "metadata": {},
   "source": [
    "We start by importing the required libraries and connecting to Spotify"
   ]
  },
  {
   "cell_type": "code",
   "execution_count": null,
   "metadata": {},
   "outputs": [],
   "source": [
    "import spotipy\n",
    "import spotipy.util as util\n",
    "import pickle\n",
    "import sys\n",
    "import requests\n",
    "from tqdm import tqdm_notebook as tqdm\n",
    "import os\n",
    "import pandas as pd\n",
    "import numpy as np\n",
    "from multiprocessing import Pool\n",
    "from fuzzywuzzy import fuzz\n",
    "import string\n",
    "import json\n",
    "import unidecode"
   ]
  },
  {
   "cell_type": "code",
   "execution_count": null,
   "metadata": {},
   "outputs": [],
   "source": [
    "with open('hot-100_data.pkl', 'rb') as f:\n",
    "        df = pickle.load(f)\n",
    "with open('hot-100_chart.pkl', 'rb') as f:\n",
    "        chart = pickle.load(f)"
   ]
  },
  {
   "cell_type": "code",
   "execution_count": null,
   "metadata": {},
   "outputs": [],
   "source": [
    "\n",
    "\n",
    "# Spotify Infos\n",
    "scope = 'user-library-read'\n",
    "username = \"ilias.miraoui@gmail.com\"\n",
    "\n",
    "token = util.prompt_for_user_token(username, scope, client_id='6d6b00a4a500471e94c5a3f1559e8cc6', client_secret='500950b79db94ac88f6859d24e4e6033', redirect_uri='http://localhost:8888/callback')\n",
    "if token:\n",
    "    spotify = spotipy.Spotify(auth=token)\n",
    "else:\n",
    "    print(\"Connexion to spotify API failed.\")\n",
    "    sys.exit()\n",
    "\n",
    "    \n"
   ]
  },
  {
   "cell_type": "markdown",
   "metadata": {},
   "source": [
    "We create a function to compare strings and make sure that we are fetching the right songs"
   ]
  },
  {
   "cell_type": "code",
   "execution_count": null,
   "metadata": {},
   "outputs": [],
   "source": [
    "def simplify_string(s):\n",
    "    return unidecode.unidecode(s.lower()).replace('the', ' ').replace(' ', '').translate(str.maketrans('', '', string.punctuation))\n",
    "\n",
    "def similar(a, b, threshold=70):\n",
    "    return fuzz.partial_ratio(simplify_string(a), simplify_string(b)) >= threshold"
   ]
  },
  {
   "cell_type": "markdown",
   "metadata": {},
   "source": [
    "We define a few functions to get the required data from spotify"
   ]
  },
  {
   "cell_type": "code",
   "execution_count": null,
   "metadata": {},
   "outputs": [],
   "source": [
    "def get_song_details(artist,track):\n",
    "    song_details = dict()\n",
    "    results = spotify.search(q=\" track:\" + track + ' artist:' + artist  , type='track')\n",
    "    maxi = None\n",
    "    if results['tracks']['total'] > 0:\n",
    "        for i in results['tracks']['items']:\n",
    "            #and similar(artist, i[\"artists\"][0][\"name\"], 80)\n",
    "            if similar(track, i['name'], 80):\n",
    "                maxi = i\n",
    "                break\n",
    "        if maxi is None:\n",
    "            return None\n",
    "        if results is None or len(results) == 0:\n",
    "            return None\n",
    "        _id = maxi[\"id\"] \n",
    "        song_details[_id] = dict()\n",
    "        song_details[_id][\"explicit\"] = maxi[\"explicit\"]\n",
    "        song_details[_id][\"duration_ms\"] = maxi[\"duration_ms\"]\n",
    "        song_details[_id][\"disc_number\"] = maxi[\"disc_number\"]\n",
    "        song_details[_id][\"track_number\"] = maxi[\"track_number\"]\n",
    "        song_details[_id][\"album_id\"] = maxi[\"album\"][\"id\"]\n",
    "        song_details[_id][\"album_release_date\"] = maxi[\"album\"][\"release_date\"]\n",
    "        song_details[_id][\"album_release_date_precision\"] = maxi[\"album\"][\"release_date_precision\"]\n",
    "        song_df.loc[song,\"num_artists\"] = len(maxi[\"artists\"])\n",
    "    return song_details\n",
    "\n",
    "\n",
    "    "
   ]
  },
  {
   "cell_type": "code",
   "execution_count": null,
   "metadata": {},
   "outputs": [],
   "source": [
    "def get_song_features(_id):\n",
    "    song_features = dict()\n",
    "    results = spotify.audio_features(_id)\n",
    "    results = results[0]\n",
    "    if results != None: \n",
    "        song_features[\"danceability\"] = results[\"danceability\"]\n",
    "        song_features[\"energy\"] = results[\"energy\"]\n",
    "        song_features[\"key\"] = results[\"key\"]\n",
    "        song_features[\"loudness\"] = results[\"loudness\"]\n",
    "        song_features[\"mode\"] = results[\"mode\"]\n",
    "        song_features[\"speechiness\"] = results[\"speechiness\"]\n",
    "        song_features[\"acousticness\"] = results[\"acousticness\"]\n",
    "        song_features[\"instrumentalness\"] = results[\"instrumentalness\"]\n",
    "        song_features[\"liveness\"] = results[\"liveness\"]\n",
    "        song_features[\"valence\"] = results[\"valence\"]\n",
    "        song_features[\"tempo\"] = results[\"tempo\"]\n",
    "        song_features[\"time_signature\"] = results[\"time_signature\"]\n",
    "        return song_features\n",
    "    else:\n",
    "        return None"
   ]
  },
  {
   "cell_type": "code",
   "execution_count": null,
   "metadata": {},
   "outputs": [],
   "source": [
    "def get_label(album_id):\n",
    "    label = spotify.album(album_id)[\"label\"]\n",
    "    return label\n",
    "\n",
    "def get_album_type(album_id):\n",
    "    album_type = spotify.album(album_id)[\"album_type\"]\n",
    "    return album_type"
   ]
  },
  {
   "cell_type": "markdown",
   "metadata": {},
   "source": [
    "We only keep one line per song and we start fetching the data via the Spotify API"
   ]
  },
  {
   "cell_type": "code",
   "execution_count": null,
   "metadata": {},
   "outputs": [],
   "source": [
    "song_df = df.drop_duplicates([\"artist\",\"title\"])\n",
    "song_df[\"spotify_id\"] = None"
   ]
  },
  {
   "cell_type": "code",
   "execution_count": null,
   "metadata": {
    "scrolled": true
   },
   "outputs": [],
   "source": [
    "i=0\n",
    "for song in song_df.index:\n",
    "    if pd.isna(song_df.loc[song,\"spotify_id\"]) == True:\n",
    "        title = song_df.loc[song,\"title\"]\n",
    "        artist = song_df.loc[song,\"artist\"]\n",
    "        song_details = get_song_details(artist,title)\n",
    "        if type(song_details) == dict and len(song_details)>0 :\n",
    "            song_df.loc[song,\"spotify_id\"] = list(song_details.keys())[0]\n",
    "            for feature in list(song_details[list(song_details.keys())[0]].keys()):\n",
    "                song_df.loc[song,\"spotify_\"+feature] = song_details[list(song_details.keys())[0]][feature]\n",
    "            song_df.loc[song,\"album_label\"] = get_label(song_df.loc[song,\"spotify_album_id\"])\n",
    "            song_df.loc[song,\"album_type\"] = get_album_type(song_df.loc[song,\"spotify_album_id\"])"
   ]
  },
  {
   "cell_type": "markdown",
   "metadata": {},
   "source": [
    "Unfortunately, the Spotify Search API has very specific requirements and almost half of the songs are not caught directly. Sometimes, the way multiple artists are presented trips up the spotify API. It could also be the way the track has been modified (because of some explicit words or because of some special characters). We create a new functions to adjust for these problems and we run the following to complete our dataset"
   ]
  },
  {
   "cell_type": "code",
   "execution_count": null,
   "metadata": {
    "scrolled": true
   },
   "outputs": [],
   "source": [
    "def get_song_details_multiple(artist,track):\n",
    "    song_details = dict()\n",
    "    artist = artist.split(\" & \")[0]\n",
    "    artist = artist.split(\" x \")[0]\n",
    "    artist = artist.split(\" + \")[0]\n",
    "    artist = artist.split(\", \")[0]\n",
    "    artist = artist.split(\" From \")[0]\n",
    "    artist = artist.split(\"(\")[0]\n",
    "    artist = artist.split(\" Presents \")[0]\n",
    "    artist = artist.split(\" featuring \")[0]\n",
    "    artist = artist.split(\" Featuring \")[0]\n",
    "    artist = artist.split(\" Feauring \")[0]\n",
    "    artist = artist.split(\" Or \")[0]\n",
    "    artist = artist.split(\" And \")[0]\n",
    "    track = track.replace(\"****\",\"igga\")\n",
    "    track = track.replace(\"***\",\"igg\")\n",
    "    track = track.replace(\"**\",\"uc\")\n",
    "    track = track.replace(\":\",\".\")\n",
    "    track = track.replace(\"$\",\"s\")\n",
    "    \n",
    "    results = spotify.search(q=\" track:\" + track + ' artist:' + artist  , type='track')\n",
    "    maxi = None\n",
    "    if results['tracks']['total'] > 0:\n",
    "        for i in results['tracks']['items']:\n",
    "            spotify_track = i['name'].split(\"(\")[0]\n",
    "            spotify_track = i['name'].split(\" - \")[0]\n",
    "            print(spotify_track)\n",
    "            print(track)\n",
    "            if similar(track,spotify_track, 60):\n",
    "                maxi = i\n",
    "                break\n",
    "        if maxi is None:\n",
    "            return None\n",
    "        if results is None or len(results) == 0:\n",
    "            return None\n",
    "        _id = maxi[\"id\"] \n",
    "        song_details[_id] = dict()\n",
    "        song_details[_id][\"explicit\"] = maxi[\"explicit\"]\n",
    "        song_details[_id][\"duration_ms\"] = maxi[\"duration_ms\"]\n",
    "        song_details[_id][\"disc_number\"] = maxi[\"disc_number\"]\n",
    "        song_details[_id][\"track_number\"] = maxi[\"track_number\"]\n",
    "        song_details[_id][\"album_id\"] = maxi[\"album\"][\"id\"]\n",
    "        song_details[_id][\"album_release_date\"] = maxi[\"album\"][\"release_date\"]\n",
    "        song_details[_id][\"album_release_date_precision\"] = maxi[\"album\"][\"release_date_precision\"]\n",
    "    return song_details\n",
    "\n",
    "i=0\n",
    "pbar = tqdm(song_df.index)\n",
    "for song in pbar:\n",
    "    if pd.isna(song_df.loc[song,\"spotify_id\"]) == True:\n",
    "        title = song_df.loc[song,\"title\"]\n",
    "        artist = song_df.loc[song,\"artist\"]\n",
    "        song_details = get_song_details_multiple(artist,title)\n",
    "        if type(song_details) == dict and len(song_details)>0 :\n",
    "            song_df.loc[song,\"spotify_id\"] = list(song_details.keys())[0]\n",
    "            for feature in list(song_details[list(song_details.keys())[0]].keys()):\n",
    "                song_df.loc[song,\"spotify_\"+feature] = song_details[list(song_details.keys())[0]][feature]\n",
    "            song_df.loc[song,\"album_label\"] = get_label(song_df.loc[song,\"spotify_album_id\"])"
   ]
  },
  {
   "cell_type": "code",
   "execution_count": null,
   "metadata": {},
   "outputs": [],
   "source": [
    "for song in song_df[song_df[\"spotify_id\"].notnull()].index:\n",
    "    spotify_key = song_df.loc[song,\"spotify_key\"]\n",
    "    spotify_id = song_df.loc[song,\"spotify_id\"]\n",
    "    if pd.isna(spotify_key) == True:\n",
    "        song_features = get_song_features(spotify_id)\n",
    "        if song_features != None:\n",
    "            for feature in list(song_features.keys()):\n",
    "                song_df.loc[song,\"spotify_\"+feature] = song_features[feature]"
   ]
  },
  {
   "cell_type": "markdown",
   "metadata": {},
   "source": [
    "We are missing just a bit more than 200 lines which is already a very good results (most of the missing songs are very old and do not exist on Spotify given Spotify is a relatively recent Streaming Website). So we save the file"
   ]
  },
  {
   "cell_type": "code",
   "execution_count": null,
   "metadata": {},
   "outputs": [],
   "source": [
    "with open('song_df.pkl', 'wb') as f:\n",
    "    pickle.dump(song_df, f)"
   ]
  }
 ],
 "metadata": {
  "kernelspec": {
   "display_name": "Python 3",
   "language": "python",
   "name": "python3"
  },
  "language_info": {
   "codemirror_mode": {
    "name": "ipython",
    "version": 3
   },
   "file_extension": ".py",
   "mimetype": "text/x-python",
   "name": "python",
   "nbconvert_exporter": "python",
   "pygments_lexer": "ipython3",
   "version": "3.7.4"
  }
 },
 "nbformat": 4,
 "nbformat_minor": 2
}
