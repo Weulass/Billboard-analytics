{
 "cells": [
  {
   "cell_type": "code",
   "execution_count": 1,
   "metadata": {},
   "outputs": [
    {
     "name": "stderr",
     "output_type": "stream",
     "text": [
      "/Users/iliasmiraoui/anaconda3/lib/python3.7/site-packages/fuzzywuzzy/fuzz.py:11: UserWarning: Using slow pure-python SequenceMatcher. Install python-Levenshtein to remove this warning\n",
      "  warnings.warn('Using slow pure-python SequenceMatcher. Install python-Levenshtein to remove this warning')\n"
     ]
    }
   ],
   "source": [
    "import spotipy\n",
    "import spotipy.util as util\n",
    "import pickle\n",
    "import sys\n",
    "import requests\n",
    "from tqdm import tqdm\n",
    "import os\n",
    "import pandas as pd\n",
    "import numpy as np\n",
    "from multiprocessing import Pool\n",
    "from fuzzywuzzy import fuzz\n",
    "import string\n",
    "import json\n",
    "import unidecode"
   ]
  },
  {
   "cell_type": "code",
   "execution_count": 2,
   "metadata": {},
   "outputs": [],
   "source": [
    "\n",
    "\n",
    "# Spotify Infos\n",
    "scope = 'user-library-read'\n",
    "username = \"ilias.miraoui@gmail.com\"\n",
    "\n",
    "token = util.prompt_for_user_token(username, scope, client_id='6d6b00a4a500471e94c5a3f1559e8cc6', client_secret='500950b79db94ac88f6859d24e4e6033', redirect_uri='http://localhost:8888/callback')\n",
    "if token:\n",
    "    spotify = spotipy.Spotify(auth=token)\n",
    "else:\n",
    "    print(\"Connexion to spotify API failed.\")\n",
    "    sys.exit()\n",
    "\n",
    "    \n"
   ]
  },
  {
   "cell_type": "code",
   "execution_count": 3,
   "metadata": {},
   "outputs": [],
   "source": [
    "def simplify_string(s):\n",
    "    return unidecode.unidecode(s.lower()).replace('the', ' ').replace(' ', '').translate(str.maketrans('', '', string.punctuation))\n",
    "\n",
    "\n",
    "def similar(a, b, threshold=80):\n",
    "    return fuzz.ratio(simplify_string(a), simplify_string(b)) >= threshold"
   ]
  },
  {
   "cell_type": "code",
   "execution_count": 10,
   "metadata": {},
   "outputs": [],
   "source": [
    "def get_song_details(artist,track):\n",
    "    song_details = dict()\n",
    "    results = spotify.search(q=\" track:\" + track + ' artist:' + artist  , type='track')\n",
    "    if results['tracks']['total'] > 0:\n",
    "        for i in results['tracks']['items']:\n",
    "            if similar(track, i['name'], 80) and similar(artist, i[\"artists\"][0][\"name\"], 80):\n",
    "                maxi = i\n",
    "                break\n",
    "        if maxi is None:\n",
    "            return None\n",
    "        if results is None or len(results) == 0:\n",
    "            return None\n",
    "    _id = maxi[\"id\"] \n",
    "    print(maxi)\n",
    "    song_details[_id] = dict()\n",
    "    song_details[_id][\"explicit\"] = maxi[\"explicit\"]\n",
    "    song_details[_id][\"duration_ms\"] = maxi[\"duration_ms\"]\n",
    "    song_details[_id][\"disc_number\"] = maxi[\"disc_number\"]\n",
    "    song_details[_id][\"track_number\"] = maxi[\"track_number\"]\n",
    "    return song_details\n",
    "\n",
    "\n",
    "    "
   ]
  },
  {
   "cell_type": "code",
   "execution_count": 11,
   "metadata": {},
   "outputs": [],
   "source": [
    "def get_song_features(_id):\n",
    "    song_features = dict()\n",
    "    results = spotify.audio_features(_id)[0]\n",
    "    song_features[\"danceability\"] = results[\"danceability\"]\n",
    "    song_features[\"energy\"] = results[\"energy\"]\n",
    "    song_features[\"key\"] = results[\"key\"]\n",
    "    song_features[\"loudness\"] = results[\"loudness\"]\n",
    "    song_features[\"mode\"] = results[\"mode\"]\n",
    "    song_features[\"speechiness\"] = results[\"speechiness\"]\n",
    "    song_features[\"acousticness\"] = results[\"acousticness\"]\n",
    "    song_features[\"instrumentalness\"] = results[\"instrumentalness\"]\n",
    "    song_features[\"liveness\"] = results[\"liveness\"]\n",
    "    song_features[\"valence\"] = results[\"valence\"]\n",
    "    song_features[\"tempo\"] = results[\"tempo\"]\n",
    "    song_features[\"time_signature\"] = results[\"time_signature\"]\n",
    "    return song_features\n",
    "\n",
    "\n",
    "#SIZE OF THE RELEASE?"
   ]
  },
  {
   "cell_type": "code",
   "execution_count": 13,
   "metadata": {},
   "outputs": [
    {
     "name": "stdout",
     "output_type": "stream",
     "text": [
      "{'album': {'album_type': 'single', 'artists': [{'external_urls': {'spotify': 'https://open.spotify.com/artist/4gzpq5DPGxSnKTe4SA8HAU'}, 'href': 'https://api.spotify.com/v1/artists/4gzpq5DPGxSnKTe4SA8HAU', 'id': '4gzpq5DPGxSnKTe4SA8HAU', 'name': 'Coldplay', 'type': 'artist', 'uri': 'spotify:artist:4gzpq5DPGxSnKTe4SA8HAU'}], 'available_markets': ['AD', 'AE', 'AR', 'AT', 'AU', 'BE', 'BG', 'BH', 'BO', 'BR', 'CA', 'CH', 'CL', 'CO', 'CR', 'CY', 'CZ', 'DE', 'DK', 'DO', 'DZ', 'EC', 'EE', 'EG', 'ES', 'FI', 'FR', 'GB', 'GR', 'GT', 'HK', 'HN', 'HU', 'ID', 'IE', 'IL', 'IS', 'IT', 'JO', 'JP', 'KW', 'LB', 'LI', 'LT', 'LU', 'LV', 'MA', 'MC', 'MT', 'MX', 'MY', 'NI', 'NL', 'NO', 'NZ', 'OM', 'PA', 'PE', 'PH', 'PL', 'PS', 'PT', 'PY', 'QA', 'RO', 'SA', 'SE', 'SG', 'SK', 'SV', 'TH', 'TN', 'TR', 'TW', 'US', 'UY', 'VN', 'ZA'], 'external_urls': {'spotify': 'https://open.spotify.com/album/6DX4K0afv5l01Pf6lymJuB'}, 'href': 'https://api.spotify.com/v1/albums/6DX4K0afv5l01Pf6lymJuB', 'id': '6DX4K0afv5l01Pf6lymJuB', 'images': [{'height': 640, 'url': 'https://i.scdn.co/image/6874209ed7a2ecd4a42654fe2da16330919e5421', 'width': 640}, {'height': 300, 'url': 'https://i.scdn.co/image/c0bbf531b0cba11f3b6a0839df28152fa5315f04', 'width': 300}, {'height': 64, 'url': 'https://i.scdn.co/image/244aff0cb2b3abdeb094ef9296f2f1aedc5ae8c0', 'width': 64}], 'name': 'Orphans / Arabesque', 'release_date': '2019-10-24', 'release_date_precision': 'day', 'total_tracks': 2, 'type': 'album', 'uri': 'spotify:album:6DX4K0afv5l01Pf6lymJuB'}, 'artists': [{'external_urls': {'spotify': 'https://open.spotify.com/artist/4gzpq5DPGxSnKTe4SA8HAU'}, 'href': 'https://api.spotify.com/v1/artists/4gzpq5DPGxSnKTe4SA8HAU', 'id': '4gzpq5DPGxSnKTe4SA8HAU', 'name': 'Coldplay', 'type': 'artist', 'uri': 'spotify:artist:4gzpq5DPGxSnKTe4SA8HAU'}], 'available_markets': ['AD', 'AE', 'AR', 'AT', 'AU', 'BE', 'BG', 'BH', 'BO', 'BR', 'CA', 'CH', 'CL', 'CO', 'CR', 'CY', 'CZ', 'DE', 'DK', 'DO', 'DZ', 'EC', 'EE', 'EG', 'ES', 'FI', 'FR', 'GB', 'GR', 'GT', 'HK', 'HN', 'HU', 'ID', 'IE', 'IL', 'IS', 'IT', 'JO', 'JP', 'KW', 'LB', 'LI', 'LT', 'LU', 'LV', 'MA', 'MC', 'MT', 'MX', 'MY', 'NI', 'NL', 'NO', 'NZ', 'OM', 'PA', 'PE', 'PH', 'PL', 'PS', 'PT', 'PY', 'QA', 'RO', 'SA', 'SE', 'SG', 'SK', 'SV', 'TH', 'TN', 'TR', 'TW', 'US', 'UY', 'VN', 'ZA'], 'disc_number': 1, 'duration_ms': 197533, 'explicit': False, 'external_ids': {'isrc': 'GBAYE1901251'}, 'external_urls': {'spotify': 'https://open.spotify.com/track/6muOWhMh7Tf0UFUtMDBhUR'}, 'href': 'https://api.spotify.com/v1/tracks/6muOWhMh7Tf0UFUtMDBhUR', 'id': '6muOWhMh7Tf0UFUtMDBhUR', 'is_local': False, 'name': 'Orphans', 'popularity': 85, 'preview_url': 'https://p.scdn.co/mp3-preview/a8b42c780896fc232025aeb2942b92f127f2ade7?cid=6d6b00a4a500471e94c5a3f1559e8cc6', 'track_number': 1, 'type': 'track', 'uri': 'spotify:track:6muOWhMh7Tf0UFUtMDBhUR'}\n"
     ]
    }
   ],
   "source": [
    "song = get_song_details(\"Coldplay\",\"Orphans\")\n",
    "features = get_song_features(song.keys())"
   ]
  },
  {
   "cell_type": "code",
   "execution_count": 7,
   "metadata": {},
   "outputs": [
    {
     "data": {
      "text/plain": [
       "dict_keys(['0wJoRiX5K5BxlqZTolB2LD'])"
      ]
     },
     "execution_count": 7,
     "metadata": {},
     "output_type": "execute_result"
    }
   ],
   "source": [
    "song.keys()"
   ]
  },
  {
   "cell_type": "code",
   "execution_count": 8,
   "metadata": {},
   "outputs": [
    {
     "data": {
      "text/plain": [
       "{'0wJoRiX5K5BxlqZTolB2LD': {'explicit': False,\n",
       "  'duration_ms': 170813,\n",
       "  'disc_number': 1,\n",
       "  'track_number': 1}}"
      ]
     },
     "execution_count": 8,
     "metadata": {},
     "output_type": "execute_result"
    }
   ],
   "source": [
    "song"
   ]
  },
  {
   "cell_type": "code",
   "execution_count": 9,
   "metadata": {},
   "outputs": [
    {
     "data": {
      "text/plain": [
       "{'danceability': 0.533,\n",
       " 'energy': 0.905,\n",
       " 'key': 2,\n",
       " 'loudness': -5.27,\n",
       " 'mode': 1,\n",
       " 'speechiness': 0.0754,\n",
       " 'acousticness': 0.00876,\n",
       " 'instrumentalness': 0.578,\n",
       " 'liveness': 0.0698,\n",
       " 'valence': 0.486,\n",
       " 'tempo': 108.9,\n",
       " 'time_signature': 4}"
      ]
     },
     "execution_count": 9,
     "metadata": {},
     "output_type": "execute_result"
    }
   ],
   "source": [
    "features"
   ]
  },
  {
   "cell_type": "code",
   "execution_count": 20,
   "metadata": {},
   "outputs": [],
   "source": [
    "results = spotify.new_releases(country=\"US\", limit=50, offset=100)"
   ]
  },
  {
   "cell_type": "code",
   "execution_count": 21,
   "metadata": {},
   "outputs": [
    {
     "data": {
      "text/plain": [
       "{'albums': {'href': 'https://api.spotify.com/v1/browse/new-releases?country=US&offset=100&limit=50',\n",
       "  'items': [],\n",
       "  'limit': 50,\n",
       "  'next': None,\n",
       "  'offset': 100,\n",
       "  'previous': 'https://api.spotify.com/v1/browse/new-releases?country=US&offset=50&limit=50',\n",
       "  'total': 100}}"
      ]
     },
     "execution_count": 21,
     "metadata": {},
     "output_type": "execute_result"
    }
   ],
   "source": [
    "results"
   ]
  },
  {
   "cell_type": "code",
   "execution_count": null,
   "metadata": {},
   "outputs": [],
   "source": []
  }
 ],
 "metadata": {
  "kernelspec": {
   "display_name": "Python 3",
   "language": "python",
   "name": "python3"
  },
  "language_info": {
   "codemirror_mode": {
    "name": "ipython",
    "version": 3
   },
   "file_extension": ".py",
   "mimetype": "text/x-python",
   "name": "python",
   "nbconvert_exporter": "python",
   "pygments_lexer": "ipython3",
   "version": "3.7.4"
  }
 },
 "nbformat": 4,
 "nbformat_minor": 2
}
