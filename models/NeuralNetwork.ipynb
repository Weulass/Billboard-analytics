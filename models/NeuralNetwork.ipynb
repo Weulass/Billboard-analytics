{
 "cells": [
  {
   "cell_type": "code",
   "execution_count": 4,
   "metadata": {},
   "outputs": [],
   "source": [
    "import pandas as pd\n",
    "import tensorflow as tf\n",
    "from sklearn.model_selection import train_test_split\n",
    "from sklearn import preprocessing\n",
    "import pickle\n",
    "import numpy as np"
   ]
  },
  {
   "cell_type": "code",
   "execution_count": 338,
   "metadata": {},
   "outputs": [],
   "source": [
    "with open('test_set.pkl', 'rb') as f:\n",
    "        X_test= pickle.load(f)  \n",
    "with open('train_set.pkl', 'rb') as f:\n",
    "        X_train= pickle.load(f)  \n",
    "with open('ytest.pkl', 'rb') as f:\n",
    "        y_test= pickle.load(f)  \n",
    "with open('ytrain.pkl', 'rb') as f:\n",
    "        y_train= pickle.load(f)  \n",
    "for i in [X_train,X_test]:\n",
    "    i.pop(\"artist_has_award\")\n"
   ]
  },
  {
   "cell_type": "code",
   "execution_count": 369,
   "metadata": {},
   "outputs": [],
   "source": [
    "from imblearn.over_sampling import SMOTE\n",
    "\n",
    "sm = SMOTE(random_state=2)\n",
    "X_train_sm, y_train_sm = sm.fit_sample(X_train, y_train.pop(\"top10\"))\n"
   ]
  },
  {
   "cell_type": "code",
   "execution_count": 370,
   "metadata": {},
   "outputs": [],
   "source": [
    "X = X_train_sm.iloc[:,:26].values\n",
    "y = y_train_sm.values"
   ]
  },
  {
   "cell_type": "code",
   "execution_count": 371,
   "metadata": {},
   "outputs": [],
   "source": [
    "#Normalizing the data\n",
    "from sklearn.preprocessing import StandardScaler\n",
    "sc = StandardScaler()\n",
    "X = sc.fit_transform(X)"
   ]
  },
  {
   "cell_type": "code",
   "execution_count": 372,
   "metadata": {},
   "outputs": [],
   "source": [
    "#Creating categorical variables \n",
    "from sklearn.preprocessing import OneHotEncoder\n",
    "ohe = OneHotEncoder()\n",
    "y = y.reshape(-1,1)\n",
    "y = ohe.fit_transform(y).toarray()"
   ]
  },
  {
   "cell_type": "code",
   "execution_count": 375,
   "metadata": {},
   "outputs": [
    {
     "name": "stdout",
     "output_type": "stream",
     "text": [
      "Train on 10940 samples\n",
      "Epoch 1/10\n",
      "10940/10940 [==============================] - 6s 574us/sample - loss: 0.0337 - accuracy: 0.9895\n",
      "Epoch 2/10\n",
      "10940/10940 [==============================] - 6s 586us/sample - loss: 0.0075 - accuracy: 0.9988\n",
      "Epoch 3/10\n",
      "10940/10940 [==============================] - 6s 556us/sample - loss: 2.1519e-05 - accuracy: 1.0000\n",
      "Epoch 4/10\n",
      "10940/10940 [==============================] - 5s 484us/sample - loss: 5.9347e-06 - accuracy: 1.0000\n",
      "Epoch 5/10\n",
      "10940/10940 [==============================] - 5s 486us/sample - loss: 4.5604e-06 - accuracy: 1.0000\n",
      "Epoch 6/10\n",
      "10940/10940 [==============================] - 5s 491us/sample - loss: 1.2240e-06 - accuracy: 1.0000\n",
      "Epoch 7/10\n",
      "10940/10940 [==============================] - 6s 543us/sample - loss: 5.2863e-07 - accuracy: 1.0000\n",
      "Epoch 8/10\n",
      "10940/10940 [==============================] - 6s 574us/sample - loss: 1.4103e-08 - accuracy: 1.0000\n",
      "Epoch 9/10\n",
      "10940/10940 [==============================] - 6s 513us/sample - loss: 2.3212e-07 - accuracy: 1.0000\n",
      "Epoch 10/10\n",
      "10940/10940 [==============================] - 6s 512us/sample - loss: 2.3939e-08 - accuracy: 1.0000\n"
     ]
    }
   ],
   "source": [
    "#Neural Net\n",
    "def get_compiled_model():\n",
    "    model = tf.keras.Sequential([\n",
    "    tf.keras.layers.Dense(1000, input_dim=26, activation='relu'),\n",
    "    tf.keras.layers.Dropout(0.2),\n",
    "    tf.keras.layers.Dense(1000, activation='relu'),\n",
    "    tf.keras.layers.Dropout(0.3),\n",
    "    tf.keras.layers.Dense(1000, activation='relu'),\n",
    "    tf.keras.layers.Dropout(0.3),\n",
    "    tf.keras.layers.Dense(1000, activation='relu'),\n",
    "    tf.keras.layers.Dropout(0.3),\n",
    "    tf.keras.layers.Dense(2, activation='sigmoid')\n",
    "    ])\n",
    "    model.compile(optimizer='adam',\n",
    "              loss='binary_crossentropy',\n",
    "              metrics=['accuracy'])\n",
    "    return model\n",
    "\n",
    "model = get_compiled_model()\n",
    "model.fit(X, y, epochs=10, batch_size=64)\n",
    "model.save(\"neuralnet1.h5\")"
   ]
  },
  {
   "cell_type": "code",
   "execution_count": null,
   "metadata": {},
   "outputs": [],
   "source": [
    "# predictions = model.predict(X_test.iloc[:,:26].values)\n",
    "# predictions"
   ]
  },
  {
   "cell_type": "code",
   "execution_count": null,
   "metadata": {
    "scrolled": true
   },
   "outputs": [],
   "source": [
    "# nn_probs = predictions[:,1]\n",
    "# nn_probs"
   ]
  },
  {
   "cell_type": "code",
   "execution_count": 348,
   "metadata": {},
   "outputs": [],
   "source": [
    "import sklearn.metrics as metrics"
   ]
  },
  {
   "cell_type": "code",
   "execution_count": 378,
   "metadata": {},
   "outputs": [
    {
     "data": {
      "image/png": "[encoded data removed]",
      "text/plain": [
       "<Figure size 432x288 with 1 Axes>"
      ]
     },
     "metadata": {
      "needs_background": "light"
     },
     "output_type": "display_data"
    }
   ],
   "source": [
    "#ROC Curve\n",
    "fpr, tpr, threshold = metrics.roc_curve(y_test, nn_probs)\n",
    "roc_auc = metrics.auc(fpr, tpr)\n",
    "\n",
    "# method I: plt\n",
    "import matplotlib.pyplot as plt\n",
    "%matplotlib inline\n",
    "plt.title('Receiver Operating Characteristic')\n",
    "plt.plot(fpr, tpr, 'b', label = 'AUC = %0.2f' % roc_auc)\n",
    "plt.legend(loc = 'lower right')\n",
    "plt.plot([0, 1], [0, 1],'r--')\n",
    "plt.xlim([0, 1])\n",
    "plt.ylim([0, 1])\n",
    "plt.ylabel('True Positive Rate')\n",
    "plt.xlabel('False Positive Rate')\n",
    "plt.savefig(\"NN\")\n",
    "plt.show()"
   ]
  },
  {
   "cell_type": "code",
   "execution_count": 379,
   "metadata": {},
   "outputs": [
    {
     "data": {
      "text/plain": [
       "array([[1506,    0],\n",
       "       [  96,    0]], dtype=int64)"
      ]
     },
     "execution_count": 379,
     "metadata": {},
     "output_type": "execute_result"
    }
   ],
   "source": [
    "#Confusion matrix\n",
    "from sklearn.metrics import confusion_matrix\n",
    "\n",
    "predictions_matrix = [1 if pred > 0.65 else 0 for pred in nn_probs]\n",
    "confusion_matrix(y_test,predictions_matrix)"
   ]
  },
  {
   "cell_type": "code",
   "execution_count": 388,
   "metadata": {},
   "outputs": [],
   "source": [
    "# #Boostrapping the results\n",
    "# from sklearn.utils import resample\n",
    "# df = X_test.copy()\n",
    "# df[\"top10\"] = y_test.values\n",
    "# stats = list()\n",
    "# for i in range(1000):\n",
    "#     boot = resample(df, replace=True, n_samples=10000)\n",
    "#     boot_y = boot.pop(\"top10\")\n",
    "#     boot_pred = model.predict(boot.iloc[:,:26].values)\n",
    "#     pro = boot_pred[:,1]\n",
    "#     predictions_matrix = [1 if pred > 0.65 else 0 for pred in pro]\n",
    "#     precision = (confusion_matrix(boot_y,predictions_matrix)[1][1]) / (confusion_matrix(boot_y,predictions_matrix)[0][1] + confusion_matrix(boot_y,predictions_matrix)[0][1]) \n",
    "#     stats.append(precision)\n",
    "    \n",
    "# # plot scores\n",
    "# plt.hist(stats)\n",
    "# plt.show()\n",
    "# # confidence intervals\n",
    "# alpha = 0.95\n",
    "# p = ((1.0-alpha)/2.0) * 100\n",
    "# lower = max(0.0, np.percentile(stats, p))\n",
    "# p = (alpha+((1.0-alpha)/2.0)) * 100\n",
    "# upper = min(1.0, np.percentile(stats, p))\n",
    "# print('%.1f confidence interval %.1f%% and %.1f%%' % (alpha*100, lower*100, upper*100))"
   ]
  },
  {
   "cell_type": "code",
   "execution_count": null,
   "metadata": {},
   "outputs": [],
   "source": []
  }
 ],
 "metadata": {
  "kernelspec": {
   "display_name": "Python 3",
   "language": "python",
   "name": "python3"
  },
  "language_info": {
   "codemirror_mode": {
    "name": "ipython",
    "version": 3
   },
   "file_extension": ".py",
   "mimetype": "text/x-python",
   "name": "python",
   "nbconvert_exporter": "python",
   "pygments_lexer": "ipython3",
   "version": "3.7.0"
  }
 },
 "nbformat": 4,
 "nbformat_minor": 2
}
