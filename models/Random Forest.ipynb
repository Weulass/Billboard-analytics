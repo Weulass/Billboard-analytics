{
 "cells": [
  {
   "cell_type": "code",
   "execution_count": 84,
   "metadata": {},
   "outputs": [],
   "source": [
    "#import the libraries we may use\n",
    "import numpy as np\n",
    "import pandas as pd\n",
    "import pickle\n",
    "from sklearn import preprocessing\n",
    "from sklearn.ensemble import RandomForestClassifier\n",
    "from sklearn.model_selection import train_test_split, GridSearchCV, StratifiedKFold\n",
    "from sklearn.metrics import roc_curve, precision_recall_curve, auc, make_scorer, recall_score, accuracy_score, precision_score, confusion_matrix"
   ]
  },
  {
   "cell_type": "markdown",
   "metadata": {},
   "source": [
    "Building the data"
   ]
  },
  {
   "cell_type": "code",
   "execution_count": 85,
   "metadata": {},
   "outputs": [],
   "source": [
    "#use the dataset stored in a pickle file\n",
    "with open('song_df_aggregate.pkl', 'rb') as f:\n",
    "        df = pickle.load(f)"
   ]
  },
  {
   "cell_type": "code",
   "execution_count": 86,
   "metadata": {},
   "outputs": [
    {
     "name": "stderr",
     "output_type": "stream",
     "text": [
      "C:\\ProgramData\\Anaconda3\\lib\\site-packages\\ipykernel_launcher.py:3: UserWarning: Boolean Series key will be reindexed to match DataFrame index.\n",
      "  This is separate from the ipykernel package so we can avoid doing imports until\n"
     ]
    }
   ],
   "source": [
    "#we select only songs released before the 2019-10-5\n",
    "#and to use first rank, we delete the songs which first rank is inferior to 10 to avoid leakage\n",
    "dataset=df[df.date<\"2019-10-05\"][df.firstrank>10]"
   ]
  },
  {
   "cell_type": "code",
   "execution_count": 87,
   "metadata": {},
   "outputs": [],
   "source": [
    "#we delete rows with NaN on those columns\n",
    "#due to spotify's lack of information on some songs \n",
    "\n",
    "nan_col=[\"spotify_duration_ms\",\"spotify_track_number\",\"spotify_danceability\",\"spotify_energy\",\"spotify_loudness\",\n",
    "            \"spotify_mode\",\"spotify_speechiness\",\"spotify_acousticness\",\"spotify_instrumentalness\",\n",
    "           \"spotify_liveness\",\"spotify_valence\",\"spotify_tempo\",\"spotify_time_signature\",\"artist_has_award\"]\n",
    "\n",
    "dataset=dataset.dropna(axis=0,subset=nan_col)"
   ]
  },
  {
   "cell_type": "code",
   "execution_count": 88,
   "metadata": {},
   "outputs": [],
   "source": [
    "#delete unuseful features\n",
    "dataset=dataset.drop([\"release_year\",\"label_category\",\"artist\",\"title\",\"spotify_album_id\",\n",
    "                      \"spotify_album_release_date_precision\",\"album_label\",\"datetime\",\"join\",\n",
    "                      \"spotify_id\",\"spotify_disc_number\",\"spotify_album_release_date\",\"spotify_key\",\n",
    "                      \"top50\",\"top25\",\"top75\",\"top5\",\"spotify_album_release_date_datetime\",\n",
    "                      \"first_date\",\"datetime\",\"isnew\",\"rank\",\"release_month\",\"last_award_type\",\"label_appearance_count\",\"label_appearance_count_group\",\"numberofappearances\"],axis=1)"
   ]
  },
  {
   "cell_type": "code",
   "execution_count": 90,
   "metadata": {},
   "outputs": [
    {
     "name": "stdout",
     "output_type": "stream",
     "text": [
      "<class 'pandas.core.frame.DataFrame'>\n",
      "Int64Index: 7889 entries, 174 to 8518\n",
      "Data columns (total 30 columns):\n",
      "date                                7889 non-null object\n",
      "spotify_explicit                    7889 non-null object\n",
      "spotify_duration_ms                 7889 non-null float64\n",
      "spotify_track_number                7889 non-null float64\n",
      "spotify_danceability                7889 non-null float64\n",
      "spotify_energy                      7889 non-null float64\n",
      "spotify_loudness                    7889 non-null float64\n",
      "spotify_mode                        7889 non-null float64\n",
      "spotify_speechiness                 7889 non-null float64\n",
      "spotify_acousticness                7889 non-null float64\n",
      "spotify_instrumentalness            7889 non-null float64\n",
      "spotify_liveness                    7889 non-null float64\n",
      "spotify_valence                     7889 non-null float64\n",
      "spotify_tempo                       7889 non-null float64\n",
      "spotify_time_signature              7889 non-null float64\n",
      "num_artists                         7889 non-null float64\n",
      "award_num                           7889 non-null float64\n",
      "gold_count                          7889 non-null float64\n",
      "platinum_count                      7889 non-null float64\n",
      "artist_has_award                    7889 non-null bool\n",
      "num_songs_awards                    7889 non-null float64\n",
      "bestrank                            7889 non-null int64\n",
      "firstrank                           7889 non-null int64\n",
      "top10                               7889 non-null bool\n",
      "label_category_group                7889 non-null object\n",
      "album_type                          7889 non-null object\n",
      "datetime_year                       7889 non-null int64\n",
      "datetime_month                      7889 non-null int64\n",
      "numberofappearances_artist          7889 non-null int64\n",
      "numberofappearances_artist_top10    7889 non-null int64\n",
      "dtypes: bool(2), float64(18), int64(6), object(4)\n",
      "memory usage: 1.8+ MB\n"
     ]
    }
   ],
   "source": [
    "#summary of the dataset infos\n",
    "dataset.info()"
   ]
  },
  {
   "cell_type": "code",
   "execution_count": 9,
   "metadata": {},
   "outputs": [],
   "source": [
    "#train and test set split\n",
    "test_set=dataset[dataset.date>=\"2016-06-11\"]\n",
    "train_set=dataset[dataset.date<\"2016-06-11\"]"
   ]
  },
  {
   "cell_type": "code",
   "execution_count": 91,
   "metadata": {},
   "outputs": [
    {
     "data": {
      "text/plain": [
       "0.2030675624286982"
      ]
     },
     "execution_count": 91,
     "metadata": {},
     "output_type": "execute_result"
    }
   ],
   "source": [
    "len(test_set)/len(dataset)"
   ]
  },
  {
   "cell_type": "code",
   "execution_count": 92,
   "metadata": {},
   "outputs": [],
   "source": [
    "ytrain=train_set[\"top10\"]\n",
    "ytest=test_set[\"top10\"]\n",
    "train=train_set.drop([\"date\",\"bestrank\"],axis=1)\n",
    "test=test_set.drop([\"date\",\"top10\",\"bestrank\"],axis=1)"
   ]
  },
  {
   "cell_type": "code",
   "execution_count": 93,
   "metadata": {},
   "outputs": [],
   "source": [
    "#we encode the categorical variables \n",
    "le = preprocessing.LabelEncoder()\n",
    "train['label_category_group'] = le.fit_transform(train['label_category_group'].astype(str))\n",
    "train['album_type'] = le.fit_transform(train['album_type'].astype(str))\n",
    "train['spotify_explicit'] = le.fit_transform(train['spotify_explicit'].astype(str))\n",
    "train[\"datetime_year\"]=le.fit_transform(train[\"datetime_year\"])\n",
    "train[\"datetime_month\"]=le.fit_transform(train[\"datetime_month\"])\n",
    "train[\"top10\"]=le.fit_transform(train[\"top10\"])\n",
    "\n",
    "test['label_category_group'] = le.fit_transform(test['label_category_group'].astype(str))\n",
    "test['album_type'] = le.fit_transform(test['album_type'].astype(str))\n",
    "test[\"datetime_year\"]=le.fit_transform(test[\"datetime_year\"])\n",
    "test[\"datetime_month\"]=le.fit_transform(test[\"datetime_month\"])\n",
    "test['spotify_explicit'] = le.fit_transform(test['spotify_explicit'].astype(str))\n",
    "\n",
    "ytrain=pd.DataFrame(le.fit_transform(ytrain),columns=[\"top10\"])\n",
    "ytest=pd.DataFrame(le.fit_transform(ytest),columns=[\"top10\"])"
   ]
  },
  {
   "cell_type": "code",
   "execution_count": 94,
   "metadata": {},
   "outputs": [
    {
     "data": {
      "text/plain": [
       "spotify_explicit                      int32\n",
       "spotify_duration_ms                 float64\n",
       "spotify_track_number                float64\n",
       "spotify_danceability                float64\n",
       "spotify_energy                      float64\n",
       "spotify_loudness                    float64\n",
       "spotify_mode                        float64\n",
       "spotify_speechiness                 float64\n",
       "spotify_acousticness                float64\n",
       "spotify_instrumentalness            float64\n",
       "spotify_liveness                    float64\n",
       "spotify_valence                     float64\n",
       "spotify_tempo                       float64\n",
       "spotify_time_signature              float64\n",
       "num_artists                         float64\n",
       "award_num                           float64\n",
       "gold_count                          float64\n",
       "platinum_count                      float64\n",
       "artist_has_award                       bool\n",
       "num_songs_awards                    float64\n",
       "firstrank                             int64\n",
       "label_category_group                  int32\n",
       "album_type                            int32\n",
       "datetime_year                         int64\n",
       "datetime_month                        int64\n",
       "numberofappearances_artist            int64\n",
       "numberofappearances_artist_top10      int64\n",
       "dtype: object"
      ]
     },
     "execution_count": 94,
     "metadata": {},
     "output_type": "execute_result"
    }
   ],
   "source": [
    "#verify the type of the dataset\n",
    "test.dtypes  "
   ]
  },
  {
   "cell_type": "code",
   "execution_count": 95,
   "metadata": {},
   "outputs": [],
   "source": [
    "# #to pickle to share with others\n",
    "# test.to_pickle(\"test_set.pkl\")\n",
    "# ytrain.to_pickle(\"ytrain.pkl\")\n",
    "# train.to_pickle(\"train_set.pkl\")\n",
    "# ytest.to_pickle(\"ytest.pkl\")"
   ]
  },
  {
   "cell_type": "code",
   "execution_count": null,
   "metadata": {},
   "outputs": [],
   "source": []
  },
  {
   "cell_type": "markdown",
   "metadata": {},
   "source": [
    "Building models"
   ]
  },
  {
   "cell_type": "code",
   "execution_count": 97,
   "metadata": {},
   "outputs": [],
   "source": [
    "#we use here again the SMOTE technique to balance our dataset\n",
    "\n",
    "from imblearn.over_sampling import SMOTE\n",
    "y=ytrain.values.reshape((-1,)) #shape needed for SMOTE\n",
    "train.columns = train.columns.str.strip()\n",
    "sm = SMOTE(random_state=42)\n",
    "train, ytrain = sm.fit_resample(train,y)"
   ]
  },
  {
   "cell_type": "code",
   "execution_count": 98,
   "metadata": {},
   "outputs": [
    {
     "data": {
      "text/plain": [
       "10940"
      ]
     },
     "execution_count": 98,
     "metadata": {},
     "output_type": "execute_result"
    }
   ],
   "source": [
    "len(train)"
   ]
  },
  {
   "cell_type": "code",
   "execution_count": 99,
   "metadata": {},
   "outputs": [],
   "source": [
    "train=train.drop([\"top10\"],axis=1)"
   ]
  },
  {
   "cell_type": "code",
   "execution_count": 100,
   "metadata": {},
   "outputs": [
    {
     "data": {
      "text/plain": [
       "RandomForestClassifier(bootstrap=True, ccp_alpha=0.0, class_weight=None,\n",
       "                       criterion='gini', max_depth=None, max_features='auto',\n",
       "                       max_leaf_nodes=None, max_samples=None,\n",
       "                       min_impurity_decrease=0.0, min_impurity_split=None,\n",
       "                       min_samples_leaf=1, min_samples_split=2,\n",
       "                       min_weight_fraction_leaf=0.0, n_estimators=100,\n",
       "                       n_jobs=None, oob_score=False, random_state=42, verbose=0,\n",
       "                       warm_start=False)"
      ]
     },
     "execution_count": 100,
     "metadata": {},
     "output_type": "execute_result"
    }
   ],
   "source": [
    "#basic Random Forest\n",
    "from sklearn.ensemble import RandomForestClassifier\n",
    "\n",
    "rfc = RandomForestClassifier(random_state=42)\n",
    "\n",
    "#basic random forest\n",
    "rfc.fit(train,ytrain)"
   ]
  },
  {
   "cell_type": "code",
   "execution_count": 101,
   "metadata": {},
   "outputs": [
    {
     "name": "stdout",
     "output_type": "stream",
     "text": [
      "[[1425   76]\n",
      " [  81   20]]\n"
     ]
    }
   ],
   "source": [
    "#prediction\n",
    "rfc_predict = rfc.predict(test)\n",
    "print(confusion_matrix(rfc_predict,ytest))"
   ]
  },
  {
   "cell_type": "code",
   "execution_count": 102,
   "metadata": {},
   "outputs": [
    {
     "name": "stdout",
     "output_type": "stream",
     "text": [
      "0.027364418992522305 spotify_explicit\n",
      "0.03651924562288483 spotify_duration_ms\n",
      "0.038746974067541365 spotify_track_number\n",
      "0.053482353533710586 spotify_danceability\n",
      "0.04241878979413063 spotify_energy\n",
      "0.029940902426950355 spotify_loudness\n",
      "0.10707332729465391 spotify_mode\n",
      "0.05764506498118279 spotify_speechiness\n",
      "0.037881450776708334 spotify_acousticness\n",
      "0.02182769100371082 spotify_instrumentalness\n",
      "0.02907100165617432 spotify_liveness\n",
      "0.0340274182021949 spotify_valence\n",
      "0.02986954715738928 spotify_tempo\n",
      "0.005313221557194349 spotify_time_signature\n",
      "0.07056523601943326 num_artists\n",
      "0.028966165833728633 award_num\n",
      "0.04016730405671397 gold_count\n",
      "0.03178703429156032 platinum_count\n",
      "0.005830061901342779 artist_has_award\n",
      "0.04217779454164381 num_songs_awards\n",
      "0.08801675613156906 firstrank\n",
      "0.02100066882605432 label_category_group\n",
      "0.011456346407591175 album_type\n",
      "0.05105653605291149 datetime_year\n",
      "0.022464497406013962 datetime_month\n",
      "0.022808687260509487 numberofappearances_artist\n",
      "0.012521504203978927 numberofappearances_artist_top10\n"
     ]
    }
   ],
   "source": [
    "\n",
    "# Record the feature importances\n",
    "feature_importances = rfc.feature_importances_\n",
    "for i in range(len(feature_importances)):\n",
    "    print(feature_importances[i],train.columns[i])"
   ]
  },
  {
   "cell_type": "code",
   "execution_count": 114,
   "metadata": {},
   "outputs": [
    {
     "data": {
      "image/png": "[encoded data removed]",
      "text/plain": [
       "<Figure size 432x288 with 1 Axes>"
      ]
     },
     "metadata": {
      "needs_background": "light"
     },
     "output_type": "display_data"
    },
    {
     "name": "stdout",
     "output_type": "stream",
     "text": [
      "95.0 confidence interval 16.9% and 23.0%\n"
     ]
    }
   ],
   "source": [
    "from sklearn.utils import resample\n",
    "df = test.copy()\n",
    "df[\"top10\"] = ytest.values\n",
    "stats = list()\n",
    "for i in range(1000):\n",
    "    boot = resample(df, replace=True, n_samples=10000)\n",
    "    boot_y = boot.pop(\"top10\")\n",
    "    boot_pred = rfc.predict(boot)\n",
    "   \n",
    "    precision = (confusion_matrix(boot_y,boot_pred)[1][1]) / (confusion_matrix(boot_y,boot_pred)[1][1] + confusion_matrix(boot_y,boot_pred)[0][1]) \n",
    "    stats.append(precision)\n",
    "    \n",
    "# plot scores\n",
    "plt.hist(stats)\n",
    "plt.show()\n",
    "# confidence intervals\n",
    "alpha = 0.95\n",
    "p = ((1.0-alpha)/2.0) * 100\n",
    "lower = max(0.0, np.percentile(stats, p))\n",
    "p = (alpha+((1.0-alpha)/2.0)) * 100\n",
    "upper = min(1.0, np.percentile(stats, p))\n",
    "print('%.1f confidence interval %.1f%% and %.1f%%' % (alpha*100, lower*100, upper*100))"
   ]
  },
  {
   "cell_type": "code",
   "execution_count": null,
   "metadata": {},
   "outputs": [],
   "source": []
  }
 ],
 "metadata": {
  "kernelspec": {
   "display_name": "Python 3",
   "language": "python",
   "name": "python3"
  },
  "language_info": {
   "codemirror_mode": {
    "name": "ipython",
    "version": 3
   },
   "file_extension": ".py",
   "mimetype": "text/x-python",
   "name": "python",
   "nbconvert_exporter": "python",
   "pygments_lexer": "ipython3",
   "version": "3.7.0"
  }
 },
 "nbformat": 4,
 "nbformat_minor": 2
}
