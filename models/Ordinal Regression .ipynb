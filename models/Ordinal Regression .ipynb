{
 "cells": [
  {
   "cell_type": "code",
   "execution_count": 2,
   "metadata": {},
   "outputs": [],
   "source": [
    "#import the libraries we may use\n",
    "import numpy as np\n",
    "import pandas as pd\n",
    "import pickle\n",
    "from sklearn import preprocessing\n",
    "from sklearn.ensemble import RandomForestClassifier\n",
    "from sklearn.model_selection import train_test_split, GridSearchCV, StratifiedKFold\n",
    "from sklearn.metrics import roc_curve, precision_recall_curve, auc, make_scorer, recall_score, accuracy_score, precision_score, confusion_matrix"
   ]
  },
  {
   "cell_type": "code",
   "execution_count": 3,
   "metadata": {},
   "outputs": [],
   "source": [
    "#use the dataset stored in a pickle file\n",
    "with open('song_df_aggregate.pkl', 'rb') as f:\n",
    "        df = pickle.load(f)"
   ]
  },
  {
   "cell_type": "code",
   "execution_count": 4,
   "metadata": {},
   "outputs": [
    {
     "name": "stderr",
     "output_type": "stream",
     "text": [
      "C:\\ProgramData\\Anaconda3\\lib\\site-packages\\ipykernel_launcher.py:3: UserWarning: Boolean Series key will be reindexed to match DataFrame index.\n",
      "  This is separate from the ipykernel package so we can avoid doing imports until\n"
     ]
    }
   ],
   "source": [
    "#we select only songs released before the 2019-10-5\n",
    "#and to use first rank, we delete the songs which first rank is inferior to 10 to avoid leakage\n",
    "dataset=df[df.date<\"2019-10-05\"][df.firstrank>10]"
   ]
  },
  {
   "cell_type": "code",
   "execution_count": 5,
   "metadata": {},
   "outputs": [],
   "source": [
    "#we delete rows with NaN on those columns\n",
    "#due to spotify's lack of information on some songs \n",
    "\n",
    "nan_col=[\"spotify_duration_ms\",\"spotify_track_number\",\"spotify_danceability\",\"spotify_energy\",\"spotify_loudness\",\n",
    "            \"spotify_mode\",\"spotify_speechiness\",\"spotify_acousticness\",\"spotify_instrumentalness\",\n",
    "           \"spotify_liveness\",\"spotify_valence\",\"spotify_tempo\",\"spotify_time_signature\",\"artist_has_award\"]\n",
    "\n",
    "dataset=dataset.dropna(axis=0,subset=nan_col)"
   ]
  },
  {
   "cell_type": "code",
   "execution_count": 6,
   "metadata": {},
   "outputs": [],
   "source": [
    "#delete unuseful features\n",
    "dataset=dataset.drop([\"release_year\",\"label_category\",\"artist\",\"title\",\"spotify_album_id\",\n",
    "                      \"spotify_album_release_date_precision\",\"album_label\",\"datetime\",\"join\",\n",
    "                      \"spotify_id\",\"spotify_disc_number\",\"spotify_album_release_date\",\"spotify_key\",\n",
    "                      \"top50\",\"top25\",\"top75\",\"top5\",\"spotify_album_release_date_datetime\",\n",
    "                      \"first_date\",\"datetime\",\"isnew\",\"rank\",\"release_month\",\"last_award_type\",\"label_appearance_count\",\"label_appearance_count_group\",\"numberofappearances\"],axis=1)"
   ]
  },
  {
   "cell_type": "code",
   "execution_count": 7,
   "metadata": {},
   "outputs": [
    {
     "name": "stdout",
     "output_type": "stream",
     "text": [
      "<class 'pandas.core.frame.DataFrame'>\n",
      "Int64Index: 7889 entries, 174 to 8518\n",
      "Data columns (total 30 columns):\n",
      "date                                7889 non-null object\n",
      "spotify_explicit                    7889 non-null object\n",
      "spotify_duration_ms                 7889 non-null float64\n",
      "spotify_track_number                7889 non-null float64\n",
      "spotify_danceability                7889 non-null float64\n",
      "spotify_energy                      7889 non-null float64\n",
      "spotify_loudness                    7889 non-null float64\n",
      "spotify_mode                        7889 non-null float64\n",
      "spotify_speechiness                 7889 non-null float64\n",
      "spotify_acousticness                7889 non-null float64\n",
      "spotify_instrumentalness            7889 non-null float64\n",
      "spotify_liveness                    7889 non-null float64\n",
      "spotify_valence                     7889 non-null float64\n",
      "spotify_tempo                       7889 non-null float64\n",
      "spotify_time_signature              7889 non-null float64\n",
      "num_artists                         7889 non-null float64\n",
      "award_num                           7889 non-null float64\n",
      "gold_count                          7889 non-null float64\n",
      "platinum_count                      7889 non-null float64\n",
      "artist_has_award                    7889 non-null bool\n",
      "num_songs_awards                    7889 non-null float64\n",
      "bestrank                            7889 non-null int64\n",
      "firstrank                           7889 non-null int64\n",
      "top10                               7889 non-null bool\n",
      "label_category_group                7889 non-null object\n",
      "album_type                          7889 non-null object\n",
      "datetime_year                       7889 non-null int64\n",
      "datetime_month                      7889 non-null int64\n",
      "numberofappearances_artist          7889 non-null int64\n",
      "numberofappearances_artist_top10    7889 non-null int64\n",
      "dtypes: bool(2), float64(18), int64(6), object(4)\n",
      "memory usage: 1.8+ MB\n"
     ]
    }
   ],
   "source": [
    "#summary of the dataset infos\n",
    "dataset.info()"
   ]
  },
  {
   "cell_type": "code",
   "execution_count": 8,
   "metadata": {},
   "outputs": [],
   "source": [
    "#train and test set split\n",
    "test_set=dataset[dataset.date>=\"2016-06-11\"]\n",
    "train_set=dataset[dataset.date<\"2016-06-11\"]"
   ]
  },
  {
   "cell_type": "code",
   "execution_count": 9,
   "metadata": {},
   "outputs": [
    {
     "data": {
      "text/plain": [
       "0.2030675624286982"
      ]
     },
     "execution_count": 9,
     "metadata": {},
     "output_type": "execute_result"
    }
   ],
   "source": [
    "len(test_set)/len(dataset)"
   ]
  },
  {
   "cell_type": "code",
   "execution_count": 10,
   "metadata": {},
   "outputs": [],
   "source": [
    "ytrain=train_set[\"top10\"]\n",
    "ytest=test_set[\"top10\"]\n",
    "train=train_set.drop([\"date\",\"bestrank\"],axis=1)\n",
    "test=test_set.drop([\"date\",\"top10\",\"bestrank\"],axis=1)"
   ]
  },
  {
   "cell_type": "code",
   "execution_count": 11,
   "metadata": {},
   "outputs": [],
   "source": [
    "#we encode the categorical variables \n",
    "le = preprocessing.LabelEncoder()\n",
    "train['label_category_group'] = le.fit_transform(train['label_category_group'].astype(str))\n",
    "train['album_type'] = le.fit_transform(train['album_type'].astype(str))\n",
    "train['spotify_explicit'] = le.fit_transform(train['spotify_explicit'].astype(str))\n",
    "train[\"datetime_year\"]=le.fit_transform(train[\"datetime_year\"])\n",
    "train[\"datetime_month\"]=le.fit_transform(train[\"datetime_month\"])\n",
    "train[\"top10\"]=le.fit_transform(train[\"top10\"])\n",
    "\n",
    "test['label_category_group'] = le.fit_transform(test['label_category_group'].astype(str))\n",
    "test['album_type'] = le.fit_transform(test['album_type'].astype(str))\n",
    "test[\"datetime_year\"]=le.fit_transform(test[\"datetime_year\"])\n",
    "test[\"datetime_month\"]=le.fit_transform(test[\"datetime_month\"])\n",
    "test['spotify_explicit'] = le.fit_transform(test['spotify_explicit'].astype(str))\n",
    "\n",
    "ytrain=pd.DataFrame(le.fit_transform(ytrain),columns=[\"top10\"])\n",
    "ytest=pd.DataFrame(le.fit_transform(ytest),columns=[\"top10\"])"
   ]
  },
  {
   "cell_type": "code",
   "execution_count": 15,
   "metadata": {},
   "outputs": [
    {
     "name": "stderr",
     "output_type": "stream",
     "text": [
      "Using TensorFlow backend.\n"
     ]
    }
   ],
   "source": [
    "#we use here again the SMOTE technique to balance our dataset\n",
    "\n",
    "from imblearn.over_sampling import SMOTE\n",
    "y=ytrain.values.reshape((-1,)) #shape needed for SMOTE\n",
    "train.columns = train.columns.str.strip()\n",
    "sm = SMOTE(random_state=42)\n",
    "train, ytrain = sm.fit_resample(train,y)"
   ]
  },
  {
   "cell_type": "code",
   "execution_count": 16,
   "metadata": {},
   "outputs": [
    {
     "data": {
      "text/plain": [
       "10940"
      ]
     },
     "execution_count": 16,
     "metadata": {},
     "output_type": "execute_result"
    }
   ],
   "source": [
    "len(train)"
   ]
  },
  {
   "cell_type": "code",
   "execution_count": 17,
   "metadata": {},
   "outputs": [],
   "source": [
    "train=train.drop([\"top10\"],axis=1)"
   ]
  },
  {
   "cell_type": "code",
   "execution_count": 12,
   "metadata": {},
   "outputs": [],
   "source": [
    "#CV to fine tune the parameters\n",
    "\n",
    "param_grid = {\n",
    "    'min_samples_split': [2, 3, 4,5], \n",
    "    'n_estimators' : [50,60,70],\n",
    "    'max_depth': [15, 20, 25],\n",
    "    'max_features': [ 12, 15, 18, 20],\n",
    "    'min_samples_leaf': [2, 4, 6],\n",
    "}\n",
    "\n",
    "scorers = {\n",
    "    'precision_score': make_scorer(precision_score),\n",
    "    'accuracy_score': make_scorer(accuracy_score),\n",
    "    'recall_score': make_scorer(recall_score)\n",
    "}\n"
   ]
  },
  {
   "cell_type": "code",
   "execution_count": 13,
   "metadata": {},
   "outputs": [],
   "source": [
    "#to take into account the fact that we are dealing with ordinal variables, we'll use an ordinal LogReg\n",
    "from mord import LogisticAT\n",
    "model_ordinal = LogisticAT()\n",
    "param_grid_ord={\n",
    "    'alpha': [0.1, 0.3, 0.4,0.5,0.7,0.9,1,1.5,2,5], \n",
    "}\n",
    "\n",
    "\n",
    "def grid_search_wrapper_ord(refit_score='precision_score'):\n",
    "    \"\"\"\n",
    "    fits a GridSearchCV classifier using refit_score for optimization\n",
    "    prints classifier performance metrics\n",
    "    \"\"\"\n",
    "    skf = StratifiedKFold(n_splits=10) #The folds are made by preserving the percentage of samples for each class.\n",
    "    grid_search_ord = GridSearchCV(model_ordinal, param_grid_ord, scoring=scorers, refit=refit_score,\n",
    "                           cv=skf, return_train_score=True, n_jobs=-1)\n",
    "    grid_search_ord.fit(train, ytrain)\n",
    "\n",
    "    # make the predictions\n",
    "    y_pred = grid_search_ord.predict(test)\n",
    "\n",
    "    print('Best params for {}'.format(refit_score))\n",
    "    print(grid_search_ord.best_params_)\n",
    "\n",
    "    # confusion matrix on the test data.\n",
    "    print('\\nConfusion matrix of Random Forest optimized for {} on the test data:'.format(refit_score))\n",
    "    print(pd.DataFrame(confusion_matrix(ytest, y_pred),\n",
    "                 columns=['pred_neg', 'pred_pos'], index=['neg', 'pos']))\n",
    "    return grid_search_ord\n"
   ]
  },
  {
   "cell_type": "code",
   "execution_count": 18,
   "metadata": {},
   "outputs": [
    {
     "name": "stdout",
     "output_type": "stream",
     "text": [
      "Best params for precision_score\n",
      "{'alpha': 0.5}\n",
      "\n",
      "Confusion matrix of Random Forest optimized for precision_score on the test data:\n",
      "     pred_neg  pred_pos\n",
      "neg      1104       402\n",
      "pos        49        47\n"
     ]
    }
   ],
   "source": [
    "mod_ord=grid_search_wrapper_ord()"
   ]
  },
  {
   "cell_type": "code",
   "execution_count": 19,
   "metadata": {},
   "outputs": [],
   "source": [
    "ypred_ord=mod_ord.predict_proba(test)"
   ]
  },
  {
   "cell_type": "code",
   "execution_count": 20,
   "metadata": {},
   "outputs": [
    {
     "name": "stdout",
     "output_type": "stream",
     "text": [
      "Accuracy of Ordinal Logistic regression classifier on test set: 0.10\n"
     ]
    },
    {
     "data": {
      "image/png": "[encoded data removed]",
      "text/plain": [
       "<Figure size 432x288 with 1 Axes>"
      ]
     },
     "metadata": {
      "needs_background": "light"
     },
     "output_type": "display_data"
    }
   ],
   "source": [
    "#ROC ordinal LogReg\n",
    "import sklearn.metrics as metrics\n",
    "\n",
    "a = mod_ord.predict_proba(test)\n",
    "lr_probs = a[:,1]\n",
    "print('Accuracy of Ordinal Logistic regression classifier on test set: {:.2f}'.format(mod_ord.score(test, ytest)))\n",
    "\n",
    "fpr, tpr, threshold = metrics.roc_curve(ytest, lr_probs)\n",
    "roc_auc = metrics.auc(fpr, tpr)\n",
    "\n",
    "# method I: plt\n",
    "import matplotlib.pyplot as plt\n",
    "%matplotlib inline\n",
    "plt.title('Receiver Operating Characteristic')\n",
    "plt.plot(fpr, tpr, 'b', label = 'AUC = %0.2f' % roc_auc)\n",
    "plt.legend(loc = 'lower right')\n",
    "plt.plot([0, 1], [0, 1],'r--')\n",
    "plt.xlim([0, 1])\n",
    "plt.ylim([0, 1])\n",
    "plt.ylabel('True Positive Rate')\n",
    "plt.xlabel('False Positive Rate')\n",
    "plt.savefig(\"Logisticregression\")\n",
    "plt.show()"
   ]
  },
  {
   "cell_type": "code",
   "execution_count": 21,
   "metadata": {},
   "outputs": [],
   "source": [
    "#confusion matrix \n",
    "pred_ord=[]\n",
    "count=0\n",
    "for proba in ypred_ord[:,1]:\n",
    "    if proba>0.75:\n",
    "            pred_ord.append(1)\n",
    "            count+=1\n",
    "    else:\n",
    "        pred_ord.append(0)"
   ]
  },
  {
   "cell_type": "code",
   "execution_count": 22,
   "metadata": {},
   "outputs": [
    {
     "name": "stdout",
     "output_type": "stream",
     "text": [
      "[[1423   83]\n",
      " [  78   18]]\n"
     ]
    }
   ],
   "source": [
    "print(confusion_matrix(ytest,pred_ord))"
   ]
  },
  {
   "cell_type": "markdown",
   "metadata": {},
   "source": [
    "Bootstrap"
   ]
  },
  {
   "cell_type": "code",
   "execution_count": 23,
   "metadata": {},
   "outputs": [],
   "source": [
    "toto = test.copy()\n",
    "toto[\"top10\"]= ytest.values"
   ]
  },
  {
   "cell_type": "code",
   "execution_count": 24,
   "metadata": {},
   "outputs": [],
   "source": [
    "from sklearn.utils import resample\n",
    "\n",
    "stats = list()\n",
    "df = test.copy()\n",
    "\n",
    "for i in range(1000):\n",
    "    boot = resample(toto, replace=True, n_samples=10000)\n",
    "    boot_y = boot.pop(\"top10\")\n",
    "    ypred_ord=mod_ord.predict_proba(boot)\n",
    "    pred_ord=[]\n",
    "    count=0\n",
    "    for proba in ypred_ord[:,1]:\n",
    "        if proba>0.75:\n",
    "                pred_ord.append(1)\n",
    "                count+=1\n",
    "        else:\n",
    "            pred_ord.append(0)\n",
    "    \n",
    "    confusion_matrix(boot_y,pred_ord)\n",
    "    \n",
    "    precision = (confusion_matrix(boot_y,pred_ord)[1][1]) / (confusion_matrix(boot_y,pred_ord)[1][1] + confusion_matrix(boot_y,pred_ord)[0][1]) \n",
    "    stats.append(precision)"
   ]
  },
  {
   "cell_type": "code",
   "execution_count": 25,
   "metadata": {},
   "outputs": [],
   "source": [
    "import matplotlib.pyplot as plt"
   ]
  },
  {
   "cell_type": "code",
   "execution_count": 26,
   "metadata": {},
   "outputs": [
    {
     "data": {
      "image/png": "[encoded data removed]",
      "text/plain": [
       "<Figure size 432x288 with 1 Axes>"
      ]
     },
     "metadata": {
      "needs_background": "light"
     },
     "output_type": "display_data"
    },
    {
     "name": "stdout",
     "output_type": "stream",
     "text": [
      "95.0 confidence interval 15.0% and 21.1%\n"
     ]
    }
   ],
   "source": [
    "# plot scores\n",
    "plt.hist(stats)\n",
    "plt.show()\n",
    "# confidence intervals\n",
    "alpha = 0.95\n",
    "p = ((1.0-alpha)/2.0) * 100\n",
    "lower = max(0.0, np.percentile(stats, p))\n",
    "p = (alpha+((1.0-alpha)/2.0)) * 100\n",
    "upper = min(1.0, np.percentile(stats, p))\n",
    "print('%.1f confidence interval %.1f%% and %.1f%%' % (alpha*100, lower*100, upper*100))"
   ]
  }
 ],
 "metadata": {
  "kernelspec": {
   "display_name": "Python 3",
   "language": "python",
   "name": "python3"
  },
  "language_info": {
   "codemirror_mode": {
    "name": "ipython",
    "version": 3
   },
   "file_extension": ".py",
   "mimetype": "text/x-python",
   "name": "python",
   "nbconvert_exporter": "python",
   "pygments_lexer": "ipython3",
   "version": "3.7.0"
  }
 },
 "nbformat": 4,
 "nbformat_minor": 2
}
