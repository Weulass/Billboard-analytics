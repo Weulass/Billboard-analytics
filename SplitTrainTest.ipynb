{
 "cells": [
  {
   "cell_type": "code",
   "execution_count": 92,
   "metadata": {},
   "outputs": [],
   "source": [
    "import numpy as np\n",
    "import pandas as pd\n",
    "import pickle\n",
    "from sklearn import preprocessing"
   ]
  },
  {
   "cell_type": "code",
   "execution_count": 121,
   "metadata": {},
   "outputs": [],
   "source": [
    "with open('song_df_aggregate.pkl', 'rb') as f:\n",
    "        df = pickle.load(f)"
   ]
  },
  {
   "cell_type": "code",
   "execution_count": 122,
   "metadata": {},
   "outputs": [],
   "source": [
    "df.index = df.title   #Put the title as dependent variable"
   ]
  },
  {
   "cell_type": "code",
   "execution_count": 123,
   "metadata": {},
   "outputs": [],
   "source": [
    "dataset=df[df.date<\"2019-10-05\"]"
   ]
  },
  {
   "cell_type": "code",
   "execution_count": null,
   "metadata": {},
   "outputs": [],
   "source": []
  },
  {
   "cell_type": "code",
   "execution_count": 124,
   "metadata": {},
   "outputs": [
    {
     "data": {
      "text/plain": [
       "'2019-09-28'"
      ]
     },
     "execution_count": 124,
     "metadata": {},
     "output_type": "execute_result"
    }
   ],
   "source": [
    "dataset.date.max()"
   ]
  },
  {
   "cell_type": "code",
   "execution_count": 125,
   "metadata": {},
   "outputs": [],
   "source": [
    "test_set=dataset[dataset.date>=\"2016-06-11\"]"
   ]
  },
  {
   "cell_type": "code",
   "execution_count": 126,
   "metadata": {},
   "outputs": [],
   "source": [
    "train_set=dataset[dataset.date<\"2016-06-11\"]"
   ]
  },
  {
   "cell_type": "code",
   "execution_count": 127,
   "metadata": {},
   "outputs": [
    {
     "data": {
      "text/plain": [
       "0.2025164769322948"
      ]
     },
     "execution_count": 127,
     "metadata": {},
     "output_type": "execute_result"
    }
   ],
   "source": [
    "len(test_set)/len(dataset)"
   ]
  },
  {
   "cell_type": "code",
   "execution_count": 160,
   "metadata": {},
   "outputs": [],
   "source": [
    "ytrain = train_set['top10'].astype(float)\n",
    "ytest = test_set['top10'].astype(float)"
   ]
  },
  {
   "cell_type": "code",
   "execution_count": null,
   "metadata": {},
   "outputs": [],
   "source": [
    "\n"
   ]
  },
  {
   "cell_type": "code",
   "execution_count": 129,
   "metadata": {},
   "outputs": [],
   "source": [
    "train = train_set.drop([\"release_year\",\"label_category_group\",\"artist\",\"title\",'datetime_year',\"date\",\"spotify_album_id\",\"spotify_album_release_date_precision\",\"album_label\",\"top10\",\"datetime\",\"join\",\"spotify_id\",\"spotify_disc_number\",\"spotify_album_release_date\",\"spotify_key\",\"spotify_explicit\",\"top50\",\"top25\",\"top75\",\"top5\",\"spotify_album_release_date_datetime\",\"first_date\",\n",
    "\"datetime\",\"datetime_month\"], axis=1)\n",
    "test = test_set.drop([\"release_year\",\"label_category_group\",\"artist\",\"title\",'datetime_year',\"date\",\"spotify_album_id\",\"spotify_album_release_date_precision\",\"album_label\",\"top10\",\"datetime\",\"join\",\"spotify_id\",\"spotify_disc_number\",\"spotify_album_release_date\",\"spotify_key\",\"spotify_explicit\",\"top50\",\"top25\",\"top75\",\"top5\",\"spotify_album_release_date_datetime\",\"first_date\",\n",
    "\"datetime\",\"datetime_month\"], axis=1)"
   ]
  },
  {
   "cell_type": "code",
   "execution_count": 137,
   "metadata": {},
   "outputs": [],
   "source": [
    "le = preprocessing.LabelEncoder()\n",
    "train['isnew'] = le.fit_transform(train['isnew'])\n",
    "train['last_award_type'] = le.fit_transform(train['last_award_type'].astype(str))\n",
    "train['artist_has_award'] = le.fit_transform(train['artist_has_award'])\n",
    "train['label_category'] = le.fit_transform(train['label_category'].astype(str))\n",
    "train['release_month'] = le.fit_transform(train['release_month'].astype(str))\n",
    "train['album_type'] = le.fit_transform(train['album_type'].astype(str))\n",
    "train['rank'] = le.fit_transform(train['rank'].astype(str))\n",
    "\n",
    "test['isnew'] = le.fit_transform(test['isnew'])\n",
    "test['last_award_type'] = le.fit_transform(test['last_award_type'].astype(str))\n",
    "test['artist_has_award'] = le.fit_transform(test['artist_has_award'])\n",
    "test['label_category'] = le.fit_transform(test['label_category'].astype(str))\n",
    "test['release_month'] = le.fit_transform(test['release_month'].astype(str))\n",
    "test['album_type'] = le.fit_transform(test['album_type'].astype(str))\n",
    "test['rank'] = le.fit_transform(test['rank'].astype(str))"
   ]
  },
  {
   "cell_type": "code",
   "execution_count": 143,
   "metadata": {},
   "outputs": [],
   "source": [
    "# train"
   ]
  },
  {
   "cell_type": "code",
   "execution_count": 168,
   "metadata": {},
   "outputs": [
    {
     "data": {
      "text/plain": [
       "isnew                             int64\n",
       "rank                              int64\n",
       "spotify_duration_ms             float64\n",
       "spotify_track_number            float64\n",
       "spotify_danceability            float64\n",
       "spotify_energy                  float64\n",
       "spotify_loudness                float64\n",
       "spotify_mode                    float64\n",
       "spotify_speechiness             float64\n",
       "spotify_acousticness            float64\n",
       "spotify_instrumentalness        float64\n",
       "spotify_liveness                float64\n",
       "spotify_valence                 float64\n",
       "spotify_tempo                   float64\n",
       "spotify_time_signature          float64\n",
       "num_artists                     float64\n",
       "last_award_type                   int64\n",
       "award_num                       float64\n",
       "gold_count                      float64\n",
       "platinum_count                  float64\n",
       "artist_has_award                  int64\n",
       "num_songs_awards                float64\n",
       "numberofappearances               int64\n",
       "bestrank                          int64\n",
       "firstrank                         int64\n",
       "label_appearance_count          float64\n",
       "label_category                    int64\n",
       "label_appearance_count_group    float64\n",
       "album_type                        int64\n",
       "release_month                     int64\n",
       "dtype: object"
      ]
     },
     "execution_count": 168,
     "metadata": {},
     "output_type": "execute_result"
    }
   ],
   "source": [
    "# train.dtypes  "
   ]
  },
  {
   "cell_type": "code",
   "execution_count": null,
   "metadata": {},
   "outputs": [],
   "source": []
  },
  {
   "cell_type": "code",
   "execution_count": 161,
   "metadata": {},
   "outputs": [],
   "source": [
    "train.to_pickle(\"test_set.pkl\")\n",
    "ytrain.to_pickle(\"ytrain.pkl\")\n",
    "test.to_pickle(\"train_set.pkl\")\n",
    "ytest.to_pickle(\"ytest.pkl\")"
   ]
  }
 ],
 "metadata": {
  "kernelspec": {
   "display_name": "Python 3",
   "language": "python",
   "name": "python3"
  },
  "language_info": {
   "codemirror_mode": {
    "name": "ipython",
    "version": 3
   },
   "file_extension": ".py",
   "mimetype": "text/x-python",
   "name": "python",
   "nbconvert_exporter": "python",
   "pygments_lexer": "ipython3",
   "version": "3.7.0"
  }
 },
 "nbformat": 4,
 "nbformat_minor": 2
}
