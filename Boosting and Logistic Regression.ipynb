{
 "cells": [
  {
   "cell_type": "markdown",
   "metadata": {},
   "source": [
    "We start by attempting a boosting model. LightGBM handles imbalanced classes and categorical/continuous variables relatvely well. "
   ]
  },
  {
   "cell_type": "code",
   "execution_count": 986,
   "metadata": {},
   "outputs": [],
   "source": [
    "import pandas as pd\n",
    "from sklearn.model_selection import train_test_split\n",
    "import lightgbm as lgb\n",
    "import numpy as np\n",
    "from sklearn import preprocessing\n",
    "import pickle\n",
    "from sklearn.model_selection import StratifiedShuffleSplit"
   ]
  },
  {
   "cell_type": "code",
   "execution_count": 983,
   "metadata": {},
   "outputs": [],
   "source": [
    "with open('test_set.pkl', 'rb') as f:\n",
    "        X_test= pickle.load(f)  \n",
    "with open('train_set.pkl', 'rb') as f:\n",
    "        X_train= pickle.load(f)  \n",
    "with open('ytest.pkl', 'rb') as f:\n",
    "        y_test= pickle.load(f)  \n",
    "with open('ytrain.pkl', 'rb') as f:\n",
    "        y_train= pickle.load(f)  \n",
    "for i in [X_train,X_test]:\n",
    "    i.pop(\"artist_has_award\")\n"
   ]
  },
  {
   "cell_type": "code",
   "execution_count": 920,
   "metadata": {},
   "outputs": [
    {
     "name": "stdout",
     "output_type": "stream",
     "text": [
      "[1]\ttraining's auc: 0.647896\n",
      "Training until validation scores don't improve for 100 rounds\n",
      "[2]\ttraining's auc: 0.689437\n",
      "[3]\ttraining's auc: 0.706785\n",
      "[4]\ttraining's auc: 0.716814\n",
      "[5]\ttraining's auc: 0.719637\n",
      "[6]\ttraining's auc: 0.721885\n",
      "[7]\ttraining's auc: 0.725573\n",
      "[8]\ttraining's auc: 0.7307\n",
      "[9]\ttraining's auc: 0.730651\n",
      "[10]\ttraining's auc: 0.73352\n",
      "[11]\ttraining's auc: 0.734739\n",
      "[12]\ttraining's auc: 0.736775\n",
      "[13]\ttraining's auc: 0.737916\n",
      "[14]\ttraining's auc: 0.74231\n",
      "[15]\ttraining's auc: 0.745886\n",
      "[16]\ttraining's auc: 0.747557\n",
      "[17]\ttraining's auc: 0.748245\n",
      "[18]\ttraining's auc: 0.74969\n",
      "[19]\ttraining's auc: 0.75159\n",
      "[20]\ttraining's auc: 0.751369\n",
      "[21]\ttraining's auc: 0.755073\n",
      "[22]\ttraining's auc: 0.758276\n",
      "[23]\ttraining's auc: 0.760447\n",
      "[24]\ttraining's auc: 0.76237\n",
      "[25]\ttraining's auc: 0.764093\n",
      "[26]\ttraining's auc: 0.765806\n",
      "[27]\ttraining's auc: 0.767973\n",
      "[28]\ttraining's auc: 0.770033\n",
      "[29]\ttraining's auc: 0.772621\n",
      "[30]\ttraining's auc: 0.773495\n",
      "[31]\ttraining's auc: 0.775727\n",
      "[32]\ttraining's auc: 0.776367\n",
      "[33]\ttraining's auc: 0.77774\n",
      "[34]\ttraining's auc: 0.778477\n",
      "[35]\ttraining's auc: 0.779494\n",
      "[36]\ttraining's auc: 0.780049\n",
      "[37]\ttraining's auc: 0.780627\n",
      "[38]\ttraining's auc: 0.780865\n",
      "[39]\ttraining's auc: 0.781291\n",
      "[40]\ttraining's auc: 0.782818\n",
      "[41]\ttraining's auc: 0.784753\n",
      "[42]\ttraining's auc: 0.786854\n",
      "[43]\ttraining's auc: 0.788758\n",
      "[44]\ttraining's auc: 0.789591\n",
      "[45]\ttraining's auc: 0.791625\n",
      "[46]\ttraining's auc: 0.792925\n",
      "[47]\ttraining's auc: 0.793466\n",
      "[48]\ttraining's auc: 0.795083\n",
      "[49]\ttraining's auc: 0.796484\n",
      "[50]\ttraining's auc: 0.797452\n",
      "[51]\ttraining's auc: 0.798736\n",
      "[52]\ttraining's auc: 0.799544\n",
      "[53]\ttraining's auc: 0.800013\n",
      "[54]\ttraining's auc: 0.800372\n",
      "[55]\ttraining's auc: 0.801616\n",
      "[56]\ttraining's auc: 0.803001\n",
      "[57]\ttraining's auc: 0.803299\n",
      "[58]\ttraining's auc: 0.803853\n",
      "[59]\ttraining's auc: 0.804568\n",
      "[60]\ttraining's auc: 0.805049\n",
      "[61]\ttraining's auc: 0.806323\n",
      "[62]\ttraining's auc: 0.807244\n",
      "[63]\ttraining's auc: 0.808579\n",
      "[64]\ttraining's auc: 0.80939\n",
      "[65]\ttraining's auc: 0.809991\n",
      "[66]\ttraining's auc: 0.810883\n",
      "[67]\ttraining's auc: 0.811724\n",
      "[68]\ttraining's auc: 0.812651\n",
      "[69]\ttraining's auc: 0.813371\n",
      "[70]\ttraining's auc: 0.813678\n",
      "[71]\ttraining's auc: 0.814367\n",
      "[72]\ttraining's auc: 0.815186\n",
      "[73]\ttraining's auc: 0.815591\n",
      "[74]\ttraining's auc: 0.816579\n",
      "[75]\ttraining's auc: 0.816779\n",
      "[76]\ttraining's auc: 0.817235\n",
      "[77]\ttraining's auc: 0.818138\n",
      "[78]\ttraining's auc: 0.818254\n",
      "[79]\ttraining's auc: 0.818646\n",
      "[80]\ttraining's auc: 0.819517\n",
      "[81]\ttraining's auc: 0.820978\n",
      "[82]\ttraining's auc: 0.822019\n",
      "[83]\ttraining's auc: 0.823108\n",
      "[84]\ttraining's auc: 0.824707\n",
      "[85]\ttraining's auc: 0.825889\n",
      "[86]\ttraining's auc: 0.826757\n",
      "[87]\ttraining's auc: 0.82812\n",
      "[88]\ttraining's auc: 0.82907\n",
      "[89]\ttraining's auc: 0.830022\n",
      "[90]\ttraining's auc: 0.830452\n",
      "[91]\ttraining's auc: 0.830927\n",
      "[92]\ttraining's auc: 0.831563\n",
      "[93]\ttraining's auc: 0.831776\n",
      "[94]\ttraining's auc: 0.832396\n",
      "[95]\ttraining's auc: 0.832997\n",
      "[96]\ttraining's auc: 0.833675\n",
      "[97]\ttraining's auc: 0.834036\n",
      "[98]\ttraining's auc: 0.834258\n",
      "[99]\ttraining's auc: 0.83446\n",
      "[100]\ttraining's auc: 0.835025\n",
      "Did not meet early stopping. Best iteration is:\n",
      "[100]\ttraining's auc: 0.835025\n"
     ]
    }
   ],
   "source": [
    "# create dataset for lightgbm\n",
    "lgb_train = lgb.Dataset(X_train, y_train)\n",
    "#lgb_eval = lgb.Dataset(X_val, y_val, reference=lgb_train)\n",
    "\n",
    "\n",
    "#can replace 'is_unbalance': 'true', by 'scale_pos_weight': 10,\n",
    "\n",
    "parameters = {\n",
    "    'application': 'binary',\n",
    "    'objective': 'binary',\n",
    "    'metric': 'auc',\n",
    "    'boosting': 'gbdt',\n",
    "    'is_unbalance': 'true',\n",
    "    'num_leaves': 25,\n",
    "    'feature_fraction': 0.5,\n",
    "    'bagging_fraction': 0.5,\n",
    "    'bagging_freq': 20,\n",
    "    'learning_rate': 0.05,\n",
    "    'verbose': 0\n",
    "}\n",
    "\n",
    "model = lgb.train(parameters,\n",
    "                       lgb_train,\n",
    "                       valid_sets=lgb_train,\n",
    "                       num_boost_round=100,\n",
    "                       early_stopping_rounds=100)\n",
    "\n",
    "predictions = model.predict(X_test)\n"
   ]
  },
  {
   "cell_type": "code",
   "execution_count": 921,
   "metadata": {},
   "outputs": [
    {
     "data": {
      "image/png": "[encoded data removed]",
      "text/plain": [
       "<Figure size 432x288 with 1 Axes>"
      ]
     },
     "metadata": {
      "needs_background": "light"
     },
     "output_type": "display_data"
    }
   ],
   "source": [
    "import sklearn.metrics as metrics\n",
    "\n",
    "fpr, tpr, threshold = metrics.roc_curve(y_test, predictions)\n",
    "roc_auc = metrics.auc(fpr, tpr)\n",
    "\n",
    "# method I: plt\n",
    "import matplotlib.pyplot as plt\n",
    "%matplotlib inline\n",
    "plt.title('Receiver Operating Characteristic')\n",
    "plt.plot(fpr, tpr, 'b', label = 'AUC = %0.2f' % roc_auc)\n",
    "plt.legend(loc = 'lower right')\n",
    "plt.plot([0, 1], [0, 1],'r--')\n",
    "plt.xlim([0, 1])\n",
    "plt.ylim([0, 1])\n",
    "plt.ylabel('True Positive Rate')\n",
    "plt.xlabel('False Positive Rate')\n",
    "plt.show()"
   ]
  },
  {
   "cell_type": "code",
   "execution_count": 922,
   "metadata": {},
   "outputs": [
    {
     "data": {
      "image/png": "[encoded data removed]",
      "text/plain": [
       "<Figure size 432x288 with 1 Axes>"
      ]
     },
     "metadata": {
      "needs_background": "light"
     },
     "output_type": "display_data"
    }
   ],
   "source": [
    "from sklearn.metrics import precision_recall_curve\n",
    "# calculate precision-recall curve\n",
    "precision, recall, thresholds = precision_recall_curve(y_test,predictions)\n",
    "# calculate precision-recall AUC\n",
    "precision_auc = metrics.auc(recall, precision)\n",
    "\n",
    "plt.title('Receiver Operating Characteristic')\n",
    "plt.plot(thresholds, precision[:len(precision)-1], 'b', label = 'Precision AUC = %0.2f' % precision_auc)\n",
    "plt.legend(loc = 'lower right')\n",
    "plt.xlim([0, 1])\n",
    "plt.ylim([0, 1])\n",
    "plt.ylabel('Precision')\n",
    "plt.xlabel('Threshold')\n",
    "plt.show()"
   ]
  },
  {
   "cell_type": "code",
   "execution_count": 923,
   "metadata": {},
   "outputs": [
    {
     "data": {
      "text/plain": [
       "array([[1505,    1],\n",
       "       [  96,    0]])"
      ]
     },
     "execution_count": 923,
     "metadata": {},
     "output_type": "execute_result"
    }
   ],
   "source": [
    "from sklearn.metrics import confusion_matrix\n",
    "\n",
    "predictions_matrix = [1 if pred > 0.85 else 0 for pred in predictions]\n",
    "confusion_matrix(y_test,predictions_matrix)"
   ]
  },
  {
   "cell_type": "code",
   "execution_count": 845,
   "metadata": {},
   "outputs": [
    {
     "data": {
      "image/png": "[encoded data removed]",
      "text/plain": [
       "<Figure size 432x288 with 1 Axes>"
      ]
     },
     "metadata": {
      "needs_background": "light"
     },
     "output_type": "display_data"
    },
    {
     "name": "stdout",
     "output_type": "stream",
     "text": [
      "95.0 confidence interval 11.7% and 25.3%\n"
     ]
    }
   ],
   "source": [
    "from sklearn.utils import resample\n",
    "df = X_test\n",
    "df[\"top10\"] = y_test.values\n",
    "stats = list()\n",
    "for i in range(10000):\n",
    "    boot = resample(df, replace=True, n_samples=1000)\n",
    "    boot_y = boot.pop(\"top10\")\n",
    "    boot_pred = model.predict(boot)\n",
    "    predictions_matrix = [1 if pred > 0.8 else 0 for pred in boot_pred]\n",
    "    precision = (confusion_matrix(boot_y,predictions_matrix)[1][1]) / (confusion_matrix(boot_y,predictions_matrix)[0][1] + confusion_matrix(boot_y,predictions_matrix)[0][1]) \n",
    "    stats.append(precision)\n",
    "    \n",
    "# plot scores\n",
    "plt.hist(stats)\n",
    "plt.show()\n",
    "# confidence intervals\n",
    "alpha = 0.95\n",
    "p = ((1.0-alpha)/2.0) * 100\n",
    "lower = max(0.0, np.percentile(stats, p))\n",
    "p = (alpha+((1.0-alpha)/2.0)) * 100\n",
    "upper = min(1.0, np.percentile(stats, p))\n",
    "print('%.1f confidence interval %.1f%% and %.1f%%' % (alpha*100, lower*100, upper*100))"
   ]
  },
  {
   "cell_type": "code",
   "execution_count": 795,
   "metadata": {},
   "outputs": [
    {
     "name": "stdout",
     "output_type": "stream",
     "text": [
      "17 spotify_explicit\n",
      "187 spotify_duration_ms\n",
      "75 spotify_track_number\n",
      "146 spotify_danceability\n",
      "164 spotify_energy\n",
      "145 spotify_loudness\n",
      "28 spotify_mode\n",
      "182 spotify_speechiness\n",
      "174 spotify_acousticness\n",
      "90 spotify_instrumentalness\n",
      "121 spotify_liveness\n",
      "167 spotify_valence\n",
      "161 spotify_tempo\n",
      "10 spotify_time_signature\n",
      "31 num_artists\n",
      "82 award_num\n",
      "81 gold_count\n",
      "66 platinum_count\n",
      "3 artist_has_award\n",
      "38 num_songs_awards\n",
      "148 firstrank\n",
      "64 label_category_group\n",
      "29 album_type\n",
      "141 datetime_year\n",
      "50 datetime_month\n"
     ]
    }
   ],
   "source": [
    "# Record the feature importances\n",
    "feature_importances = model.feature_importance()\n",
    "for i in range(len(feature_importances)):\n",
    "    print(feature_importances[i],X_train.columns[i])"
   ]
  },
  {
   "cell_type": "markdown",
   "metadata": {},
   "source": [
    "While we initially attempted PCA, we do not use it given that it doesn't help our model. We use SMOTE to help with class imbalances and avoid that the logistic regression only predicts 0 and run the logistic regression  as well as bootstrap the result."
   ]
  },
  {
   "cell_type": "code",
   "execution_count": 961,
   "metadata": {},
   "outputs": [
    {
     "name": "stdout",
     "output_type": "stream",
     "text": [
      "[0.99999895 0.99999937 0.99999962 0.9999998  0.99999995 0.99999997\n",
      " 0.99999998 0.99999999 0.99999999 1.         1.         1.\n",
      " 1.         1.         1.         1.         1.         1.\n",
      " 1.         1.         1.         1.         1.         1.\n",
      " 1.         1.        ]\n"
     ]
    },
    {
     "data": {
      "image/png": "[encoded data removed]",
      "text/plain": [
       "<Figure size 432x288 with 1 Axes>"
      ]
     },
     "metadata": {
      "needs_background": "light"
     },
     "output_type": "display_data"
    }
   ],
   "source": [
    "from sklearn.decomposition import PCA\n",
    "'''\n",
    "pca = PCA().fit(X_train.values)\n",
    "print(np.cumsum(pca.explained_variance_ratio_))\n",
    "plt.plot(np.cumsum(pca.explained_variance_ratio_))\n",
    "plt.xlabel('number of components')\n",
    "plt.ylabel('cumulative explained variance');\n",
    "plt.show()\n",
    "pca = PCA(n_components=1)\n",
    "principalComponents = pca.fit(X_train)\n",
    "X_train = pca.transform(X_train)\n",
    "X_test = pca.transform(X_test)\n",
    "'''"
   ]
  },
  {
   "cell_type": "code",
   "execution_count": 902,
   "metadata": {},
   "outputs": [
    {
     "name": "stderr",
     "output_type": "stream",
     "text": [
      "/Users/iliasmiraoui/anaconda3/lib/python3.7/site-packages/sklearn/utils/validation.py:724: DataConversionWarning: A column-vector y was passed when a 1d array was expected. Please change the shape of y to (n_samples, ), for example using ravel().\n",
      "  y = column_or_1d(y, warn=True)\n"
     ]
    }
   ],
   "source": [
    "from imblearn.over_sampling import SMOTE\n",
    "\n",
    "sm = SMOTE(random_state=27, ratio=1.0)\n",
    "X_train, y_train = sm.fit_sample(X_train, y_train)"
   ]
  },
  {
   "cell_type": "code",
   "execution_count": 984,
   "metadata": {},
   "outputs": [
    {
     "name": "stdout",
     "output_type": "stream",
     "text": [
      "600\n",
      "600\n"
     ]
    }
   ],
   "source": [
    "X_train[\"top10\"] = y_train\n",
    "X_train = X_train.sample(frac=1)\n",
    "top_df = X_train.loc[X_train['top10'] == 1]\n",
    "non_top_df = X_train.loc[X_train['top10'] == 0][:len(top_df)]\n",
    "X_train = pd.concat([top_df, non_top_df])\n",
    "y_train = X_train.pop(\"top10\")"
   ]
  },
  {
   "cell_type": "code",
   "execution_count": 908,
   "metadata": {},
   "outputs": [
    {
     "name": "stderr",
     "output_type": "stream",
     "text": [
      "/Users/iliasmiraoui/anaconda3/lib/python3.7/site-packages/sklearn/linear_model/logistic.py:432: FutureWarning: Default solver will be changed to 'lbfgs' in 0.22. Specify a solver to silence this warning.\n",
      "  FutureWarning)\n",
      "/Users/iliasmiraoui/anaconda3/lib/python3.7/site-packages/sklearn/utils/validation.py:724: DataConversionWarning: A column-vector y was passed when a 1d array was expected. Please change the shape of y to (n_samples, ), for example using ravel().\n",
      "  y = column_or_1d(y, warn=True)\n"
     ]
    },
    {
     "data": {
      "text/plain": [
       "LogisticRegression(C=1.0, class_weight=None, dual=False, fit_intercept=True,\n",
       "                   intercept_scaling=1, l1_ratio=None, max_iter=100,\n",
       "                   multi_class='warn', n_jobs=None, penalty='l2',\n",
       "                   random_state=None, solver='warn', tol=0.0001, verbose=0,\n",
       "                   warm_start=False)"
      ]
     },
     "execution_count": 908,
     "metadata": {},
     "output_type": "execute_result"
    }
   ],
   "source": [
    "from sklearn.linear_model import LogisticRegression\n",
    "from sklearn import metrics\n",
    "logreg = LogisticRegression()\n",
    "logreg.fit(X_train, y_train)"
   ]
  },
  {
   "cell_type": "code",
   "execution_count": 910,
   "metadata": {},
   "outputs": [
    {
     "data": {
      "image/png": "[encoded data removed]",
      "text/plain": [
       "<Figure size 432x288 with 1 Axes>"
      ]
     },
     "metadata": {
      "needs_background": "light"
     },
     "output_type": "display_data"
    }
   ],
   "source": [
    "import sklearn.metrics as metrics\n",
    "\n",
    "y_pred = logreg.predict(X_test)\n",
    "print('Accuracy of logistic regression classifier on test set: {:.2f}'.format(logreg.score(X_test, y_test)))\n",
    "\n",
    "fpr, tpr, threshold = metrics.roc_curve(y_test, y_pred)\n",
    "roc_auc = metrics.auc(fpr, tpr)\n",
    "\n",
    "# method I: plt\n",
    "import matplotlib.pyplot as plt\n",
    "%matplotlib inline\n",
    "plt.title('Receiver Operating Characteristic')\n",
    "plt.plot(fpr, tpr, 'b', label = 'AUC = %0.2f' % roc_auc)\n",
    "plt.legend(loc = 'lower right')\n",
    "plt.plot([0, 1], [0, 1],'r--')\n",
    "plt.xlim([0, 1])\n",
    "plt.ylim([0, 1])\n",
    "plt.ylabel('True Positive Rate')\n",
    "plt.xlabel('False Positive Rate')\n",
    "plt.savefig(\"Logisticregression\")\n",
    "plt.show()\n"
   ]
  },
  {
   "cell_type": "code",
   "execution_count": 904,
   "metadata": {},
   "outputs": [
    {
     "data": {
      "image/png": "[encoded data removed]",
      "text/plain": [
       "<Figure size 432x288 with 1 Axes>"
      ]
     },
     "metadata": {
      "needs_background": "light"
     },
     "output_type": "display_data"
    }
   ],
   "source": [
    "from sklearn.metrics import precision_recall_curve\n",
    "# calculate precision-recall curve\n",
    "precision, recall, thresholds = precision_recall_curve(y_test,predictions)\n",
    "# calculate precision-recall AUC\n",
    "precision_auc = metrics.auc(recall, precision)\n",
    "\n",
    "plt.title('Precision Depending on the Threshold')\n",
    "plt.plot(thresholds, precision[:len(precision)-1], 'b')\n",
    "plt.xlim([0, 1])\n",
    "plt.ylim([0, 1])\n",
    "plt.ylabel('Precision')\n",
    "plt.xlabel('Threshold')\n",
    "plt.savefig(\"PrecisionLogistic\")\n",
    "plt.show()"
   ]
  },
  {
   "cell_type": "code",
   "execution_count": 906,
   "metadata": {},
   "outputs": [
    {
     "data": {
      "text/plain": [
       "array([[1424,   82],\n",
       "       [  78,   18]])"
      ]
     },
     "execution_count": 906,
     "metadata": {},
     "output_type": "execute_result"
    }
   ],
   "source": [
    "from sklearn.metrics import confusion_matrix\n",
    "\n",
    "predictions_matrix = [1 if pred > 0.7 else 0 for pred in predictions]\n",
    "confusion_matrix(y_test,predictions_matrix)"
   ]
  },
  {
   "cell_type": "code",
   "execution_count": 861,
   "metadata": {},
   "outputs": [
    {
     "data": {
      "image/png": "[encoded data removed]",
      "text/plain": [
       "<Figure size 432x288 with 1 Axes>"
      ]
     },
     "metadata": {
      "needs_background": "light"
     },
     "output_type": "display_data"
    },
    {
     "name": "stdout",
     "output_type": "stream",
     "text": [
      "95.0 confidence interval 11.5% and 24.7%\n"
     ]
    }
   ],
   "source": [
    "from sklearn.utils import resample\n",
    "df = X_test\n",
    "df[\"top10\"] = y_test.values\n",
    "stats = list()\n",
    "for i in range(1000):\n",
    "    boot = resample(df, replace=True, n_samples=10000)\n",
    "    boot_y = boot.pop(\"top10\")\n",
    "    boot_pred = model.predict(boot)\n",
    "    predictions_matrix = [1 if pred > 0.8 else 0 for pred in boot_pred]\n",
    "    precision = (confusion_matrix(boot_y,predictions_matrix)[1][1]) / (confusion_matrix(boot_y,predictions_matrix)[0][1] + confusion_matrix(boot_y,predictions_matrix)[0][1]) \n",
    "    stats.append(precision)\n",
    "    \n",
    "# plot scores\n",
    "plt.hist(stats)\n",
    "plt.show()\n",
    "# confidence intervals\n",
    "alpha = 0.95\n",
    "p = ((1.0-alpha)/2.0) * 100\n",
    "lower = max(0.0, np.percentile(stats, p))\n",
    "p = (alpha+((1.0-alpha)/2.0)) * 100\n",
    "upper = min(1.0, np.percentile(stats, p))\n",
    "print('%.1f confidence interval %.1f%% and %.1f%%' % (alpha*100, lower*100, upper*100))"
   ]
  }
 ],
 "metadata": {
  "kernelspec": {
   "display_name": "Python 3",
   "language": "python",
   "name": "python3"
  },
  "language_info": {
   "codemirror_mode": {
    "name": "ipython",
    "version": 3
   },
   "file_extension": ".py",
   "mimetype": "text/x-python",
   "name": "python",
   "nbconvert_exporter": "python",
   "pygments_lexer": "ipython3",
   "version": "3.7.4"
  }
 },
 "nbformat": 4,
 "nbformat_minor": 2
}
