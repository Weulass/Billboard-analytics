{
 "cells": [
  {
   "cell_type": "markdown",
   "metadata": {},
   "source": [
    "We start by attempting a boosting model. LightGBM handles imbalanced classes and categorical/continuous variables relatvely well. "
   ]
  },
  {
   "cell_type": "code",
   "execution_count": 39,
   "metadata": {},
   "outputs": [],
   "source": [
    "import pandas as pd\n",
    "from sklearn.model_selection import train_test_split\n",
    "import lightgbm as lgb\n",
    "import numpy as np\n",
    "from sklearn import preprocessing\n",
    "import pickle\n",
    "from sklearn.model_selection import StratifiedShuffleSplit"
   ]
  },
  {
   "cell_type": "code",
   "execution_count": 40,
   "metadata": {},
   "outputs": [],
   "source": [
    "#Load the data \n",
    "with open('test_set.pkl', 'rb') as f:\n",
    "        X_test= pickle.load(f)  \n",
    "with open('train_set.pkl', 'rb') as f:\n",
    "        X_train= pickle.load(f)  \n",
    "with open('ytest.pkl', 'rb') as f:\n",
    "        y_test= pickle.load(f)  \n",
    "with open('ytrain.pkl', 'rb') as f:\n",
    "        y_train= pickle.load(f)  \n",
    "for i in [X_train,X_test]:\n",
    "    i.pop(\"artist_has_award\")\n"
   ]
  },
  {
   "cell_type": "code",
   "execution_count": 41,
   "metadata": {},
   "outputs": [
    {
     "name": "stdout",
     "output_type": "stream",
     "text": [
      "[1]\ttraining's auc: 0.643692\n",
      "Training until validation scores don't improve for 100 rounds\n",
      "[2]\ttraining's auc: 0.711374\n",
      "[3]\ttraining's auc: 0.75586\n",
      "[4]\ttraining's auc: 0.769595\n",
      "[5]\ttraining's auc: 0.780106\n",
      "[6]\ttraining's auc: 0.789227\n",
      "[7]\ttraining's auc: 0.800747\n",
      "[8]\ttraining's auc: 0.805211\n",
      "[9]\ttraining's auc: 0.806446\n",
      "[10]\ttraining's auc: 0.811684\n",
      "[11]\ttraining's auc: 0.819147\n",
      "[12]\ttraining's auc: 0.820416\n",
      "[13]\ttraining's auc: 0.8233\n",
      "[14]\ttraining's auc: 0.825859\n",
      "[15]\ttraining's auc: 0.832436\n",
      "[16]\ttraining's auc: 0.83428\n",
      "[17]\ttraining's auc: 0.837645\n",
      "[18]\ttraining's auc: 0.837637\n",
      "[19]\ttraining's auc: 0.838567\n",
      "[20]\ttraining's auc: 0.840964\n",
      "[21]\ttraining's auc: 0.843941\n",
      "[22]\ttraining's auc: 0.847539\n",
      "[23]\ttraining's auc: 0.850622\n",
      "[24]\ttraining's auc: 0.852603\n",
      "[25]\ttraining's auc: 0.8535\n",
      "[26]\ttraining's auc: 0.855354\n",
      "[27]\ttraining's auc: 0.856863\n",
      "[28]\ttraining's auc: 0.857809\n",
      "[29]\ttraining's auc: 0.8586\n",
      "[30]\ttraining's auc: 0.86013\n",
      "[31]\ttraining's auc: 0.86127\n",
      "[32]\ttraining's auc: 0.862616\n",
      "[33]\ttraining's auc: 0.863245\n",
      "[34]\ttraining's auc: 0.864752\n",
      "[35]\ttraining's auc: 0.866669\n",
      "[36]\ttraining's auc: 0.866758\n",
      "[37]\ttraining's auc: 0.866891\n",
      "[38]\ttraining's auc: 0.867918\n",
      "[39]\ttraining's auc: 0.869012\n",
      "[40]\ttraining's auc: 0.870908\n",
      "[41]\ttraining's auc: 0.872522\n",
      "[42]\ttraining's auc: 0.87484\n",
      "[43]\ttraining's auc: 0.87625\n",
      "[44]\ttraining's auc: 0.878307\n",
      "[45]\ttraining's auc: 0.8798\n",
      "[46]\ttraining's auc: 0.881\n",
      "[47]\ttraining's auc: 0.882661\n",
      "[48]\ttraining's auc: 0.884203\n",
      "[49]\ttraining's auc: 0.885091\n",
      "[50]\ttraining's auc: 0.886201\n",
      "[51]\ttraining's auc: 0.887678\n",
      "[52]\ttraining's auc: 0.888982\n",
      "[53]\ttraining's auc: 0.890081\n",
      "[54]\ttraining's auc: 0.891586\n",
      "[55]\ttraining's auc: 0.892431\n",
      "[56]\ttraining's auc: 0.893465\n",
      "[57]\ttraining's auc: 0.894678\n",
      "[58]\ttraining's auc: 0.895763\n",
      "[59]\ttraining's auc: 0.896393\n",
      "[60]\ttraining's auc: 0.897371\n",
      "[61]\ttraining's auc: 0.899025\n",
      "[62]\ttraining's auc: 0.900676\n",
      "[63]\ttraining's auc: 0.901823\n",
      "[64]\ttraining's auc: 0.90271\n",
      "[65]\ttraining's auc: 0.904026\n",
      "[66]\ttraining's auc: 0.905019\n",
      "[67]\ttraining's auc: 0.905632\n",
      "[68]\ttraining's auc: 0.90631\n",
      "[69]\ttraining's auc: 0.907262\n",
      "[70]\ttraining's auc: 0.908068\n",
      "[71]\ttraining's auc: 0.908864\n",
      "[72]\ttraining's auc: 0.909742\n",
      "[73]\ttraining's auc: 0.91032\n",
      "[74]\ttraining's auc: 0.911061\n",
      "[75]\ttraining's auc: 0.911399\n",
      "[76]\ttraining's auc: 0.91241\n",
      "[77]\ttraining's auc: 0.913138\n",
      "[78]\ttraining's auc: 0.913432\n",
      "[79]\ttraining's auc: 0.91361\n",
      "[80]\ttraining's auc: 0.914405\n",
      "[81]\ttraining's auc: 0.915817\n",
      "[82]\ttraining's auc: 0.916566\n",
      "[83]\ttraining's auc: 0.917842\n",
      "[84]\ttraining's auc: 0.918742\n",
      "[85]\ttraining's auc: 0.920183\n",
      "[86]\ttraining's auc: 0.921074\n",
      "[87]\ttraining's auc: 0.922025\n",
      "[88]\ttraining's auc: 0.92318\n",
      "[89]\ttraining's auc: 0.924492\n",
      "[90]\ttraining's auc: 0.925257\n",
      "[91]\ttraining's auc: 0.926509\n",
      "[92]\ttraining's auc: 0.927432\n",
      "[93]\ttraining's auc: 0.92827\n",
      "[94]\ttraining's auc: 0.929096\n",
      "[95]\ttraining's auc: 0.929525\n",
      "[96]\ttraining's auc: 0.930515\n",
      "[97]\ttraining's auc: 0.930855\n",
      "[98]\ttraining's auc: 0.930972\n",
      "[99]\ttraining's auc: 0.931514\n",
      "[100]\ttraining's auc: 0.931901\n",
      "Did not meet early stopping. Best iteration is:\n",
      "[100]\ttraining's auc: 0.931901\n"
     ]
    }
   ],
   "source": [
    "# create dataset for lightgbm\n",
    "lgb_train = lgb.Dataset(X_train, y_train)\n",
    "#lgb_eval = lgb.Dataset(X_val, y_val, reference=lgb_train)\n",
    "\n",
    "#can replace 'is_unbalance': 'true', by 'scale_pos_weight': 10,\n",
    "\n",
    "parameters = {\n",
    "    'application': 'binary',\n",
    "    'objective': 'binary',\n",
    "    'metric': 'auc',\n",
    "    'boosting': 'gbdt',\n",
    "    'is_unbalance': 'true',\n",
    "    'num_leaves': 25,\n",
    "    'feature_fraction': 0.5,\n",
    "    'bagging_fraction': 0.5,\n",
    "    'bagging_freq': 20,\n",
    "    'learning_rate': 0.05,\n",
    "    'verbose': 0\n",
    "}\n",
    "\n",
    "model = lgb.train(parameters,\n",
    "                       lgb_train,\n",
    "                       valid_sets=lgb_train,\n",
    "                       num_boost_round=100,\n",
    "                       early_stopping_rounds=100)\n",
    "\n",
    "predictions = model.predict(X_test)\n"
   ]
  },
  {
   "cell_type": "code",
   "execution_count": 42,
   "metadata": {},
   "outputs": [
    {
     "data": {
      "image/png": "[encoded data removed]",
      "text/plain": [
       "<Figure size 432x288 with 1 Axes>"
      ]
     },
     "metadata": {
      "needs_background": "light"
     },
     "output_type": "display_data"
    }
   ],
   "source": [
    "import sklearn.metrics as metrics\n",
    "\n",
    "fpr, tpr, threshold = metrics.roc_curve(y_test, predictions)\n",
    "roc_auc = metrics.auc(fpr, tpr)\n",
    "\n",
    "# method I: plt\n",
    "import matplotlib.pyplot as plt\n",
    "%matplotlib inline\n",
    "plt.title('Receiver Operating Characteristic')\n",
    "plt.plot(fpr, tpr, 'b', label = 'AUC = %0.2f' % roc_auc)\n",
    "plt.legend(loc = 'lower right')\n",
    "plt.plot([0, 1], [0, 1],'r--')\n",
    "plt.xlim([0, 1])\n",
    "plt.ylim([0, 1])\n",
    "plt.ylabel('True Positive Rate')\n",
    "plt.xlabel('False Positive Rate')\n",
    "plt.show()"
   ]
  },
  {
   "cell_type": "code",
   "execution_count": 43,
   "metadata": {
    "scrolled": false
   },
   "outputs": [
    {
     "data": {
      "image/png": "[encoded data removed]",
      "text/plain": [
       "<Figure size 432x288 with 1 Axes>"
      ]
     },
     "metadata": {
      "needs_background": "light"
     },
     "output_type": "display_data"
    }
   ],
   "source": [
    "\n",
    "from sklearn.metrics import precision_recall_curve\n",
    "# calculate precision-recall curve\n",
    "precision, recall, thresholds = precision_recall_curve(y_test,predictions)\n",
    "# calculate precision-recall AUC\n",
    "precision_auc = metrics.auc(recall, precision)\n",
    "\n",
    "plt.title('Receiver Operating Characteristic')\n",
    "plt.plot(thresholds, precision[:len(precision)-1], 'b', label = 'Precision AUC = %0.2f' % precision_auc)\n",
    "plt.legend(loc = 'lower right')\n",
    "plt.xlim([0, 1])\n",
    "plt.ylim([0, 1])\n",
    "plt.ylabel('Precision')\n",
    "plt.xlabel('Threshold')\n",
    "plt.show()"
   ]
  },
  {
   "cell_type": "code",
   "execution_count": 45,
   "metadata": {
    "scrolled": false
   },
   "outputs": [
    {
     "data": {
      "image/png": "[encoded data removed]",
      "text/plain": [
       "<Figure size 432x288 with 1 Axes>"
      ]
     },
     "metadata": {
      "needs_background": "light"
     },
     "output_type": "display_data"
    },
    {
     "name": "stdout",
     "output_type": "stream",
     "text": [
      "95.0 confidence interval 9.5% and 26.4%\n"
     ]
    }
   ],
   "source": [
    "from sklearn.utils import resample\n",
    "df = X_test.copy()\n",
    "df[\"top10\"] = y_test.values\n",
    "stats1 = list()\n",
    "for i in range(10000):\n",
    "    boot = resample(df, replace=True, n_samples=1000)\n",
    "    boot_y = boot.pop(\"top10\")\n",
    "    boot_pred = model.predict(boot)\n",
    "    predictions_matrix = [1 if pred > 0.70 else 0 for pred in boot_pred]\n",
    "    precision = (confusion_matrix(boot_y,predictions_matrix)[1][1]) / (confusion_matrix(boot_y,predictions_matrix)[1][1] + confusion_matrix(boot_y,predictions_matrix)[0][1]) \n",
    "    stats1.append(precision)\n",
    "    \n",
    "# plot scores\n",
    "plt.hist(stats1)\n",
    "plt.show()\n",
    "# confidence intervals\n",
    "alpha = 0.95\n",
    "p = ((1.0-alpha)/2.0) * 100\n",
    "lower1 = max(0.0, np.percentile(stats1, p))\n",
    "p = (alpha+((1.0-alpha)/2.0)) * 100\n",
    "upper1 = min(1.0, np.percentile(stats1, p))\n",
    "print('%.1f confidence interval %.1f%% and %.1f%%' % (alpha*100, lower1*100, upper1*100))"
   ]
  },
  {
   "cell_type": "code",
   "execution_count": 44,
   "metadata": {},
   "outputs": [
    {
     "name": "stdout",
     "output_type": "stream",
     "text": [
      "19 spotify_explicit\n",
      "143 spotify_duration_ms\n",
      "78 spotify_track_number\n",
      "168 spotify_danceability\n",
      "172 spotify_energy\n",
      "173 spotify_loudness\n",
      "21 spotify_mode\n",
      "151 spotify_speechiness\n",
      "193 spotify_acousticness\n",
      "87 spotify_instrumentalness\n",
      "112 spotify_liveness\n",
      "131 spotify_valence\n",
      "140 spotify_tempo\n",
      "9 spotify_time_signature\n",
      "24 num_artists\n",
      "76 award_num\n",
      "74 gold_count\n",
      "58 platinum_count\n",
      "68 num_songs_awards\n",
      "132 firstrank\n",
      "37 label_category_group\n",
      "16 album_type\n",
      "118 datetime_year\n",
      "35 datetime_month\n",
      "106 numberofappearances_artist\n",
      "59 numberofappearances_artist_top10\n"
     ]
    }
   ],
   "source": [
    "# Record the feature importances\n",
    "feature_importances = model.feature_importance()\n",
    "for i in range(len(feature_importances)):\n",
    "    print(feature_importances[i],X_train.columns[i])"
   ]
  }
 ],
 "metadata": {
  "kernelspec": {
   "display_name": "Python 3",
   "language": "python",
   "name": "python3"
  },
  "language_info": {
   "codemirror_mode": {
    "name": "ipython",
    "version": 3
   },
   "file_extension": ".py",
   "mimetype": "text/x-python",
   "name": "python",
   "nbconvert_exporter": "python",
   "pygments_lexer": "ipython3",
   "version": "3.7.4"
  }
 },
 "nbformat": 4,
 "nbformat_minor": 2
}
