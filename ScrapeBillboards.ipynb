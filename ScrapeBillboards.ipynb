{
 "cells": [
  {
   "cell_type": "code",
   "execution_count": 83,
   "metadata": {},
   "outputs": [],
   "source": [
    "import billboard\n",
    "import pandas as pd\n",
    "from random import randint\n",
    "from time import sleep\n",
    "import pickle\n"
   ]
  },
  {
   "cell_type": "markdown",
   "metadata": {},
   "source": [
    "Let's load the billboard chart object and create a dataframe/update for everyweek so as to download all the data from Billboard"
   ]
  },
  {
   "cell_type": "code",
   "execution_count": 92,
   "metadata": {},
   "outputs": [],
   "source": [
    "chart = billboard.ChartData('hot-100')\n",
    "df = pd.DataFrame(columns=[\"artist\",\"title\",\"isnew\",\"rank\",\"date\"])"
   ]
  },
  {
   "cell_type": "code",
   "execution_count": 96,
   "metadata": {},
   "outputs": [
    {
     "name": "stdout",
     "output_type": "stream",
     "text": [
      "1999-10-23\n",
      "1999-10-16\n",
      "1999-10-09\n",
      "1999-10-02\n",
      "1999-09-25\n",
      "1999-09-18\n",
      "Error: trying again in a few...\n",
      "Error: trying again in a few...\n",
      "1999-09-11\n",
      "1999-09-04\n",
      "1999-08-28\n",
      "1999-08-21\n",
      "1999-08-14\n",
      "1999-08-07\n",
      "1999-07-31\n",
      "1999-07-24\n",
      "1999-07-17\n",
      "1999-07-10\n",
      "1999-07-03\n",
      "1999-06-26\n",
      "1999-06-19\n",
      "Error: trying again in a few...\n",
      "Error: trying again in a few...\n",
      "1999-06-12\n",
      "1999-06-05\n",
      "1999-05-29\n",
      "1999-05-22\n",
      "1999-05-15\n",
      "1999-05-08\n",
      "1999-05-01\n",
      "1999-04-24\n",
      "1999-04-17\n",
      "1999-04-10\n",
      "1999-04-03\n",
      "1999-03-27\n",
      "Error: trying again in a few...\n",
      "Error: trying again in a few...\n",
      "1999-03-20\n",
      "1999-03-13\n",
      "1999-03-06\n",
      "1999-02-27\n",
      "1999-02-20\n",
      "1999-02-13\n",
      "1999-02-06\n",
      "1999-01-30\n",
      "1999-01-23\n",
      "1999-01-16\n",
      "Error: trying again in a few...\n",
      "Error: trying again in a few...\n",
      "Error: trying again in a few...\n",
      "1999-01-09\n",
      "1999-01-02\n",
      "1998-12-26\n",
      "1998-12-19\n",
      "1998-12-12\n",
      "1998-12-05\n",
      "1998-11-28\n",
      "Error: trying again in a few...\n",
      "1998-11-21\n",
      "1998-11-14\n",
      "1998-11-07\n",
      "1998-10-31\n",
      "1998-10-24\n",
      "1998-10-17\n",
      "1998-10-10\n",
      "1998-10-03\n",
      "1998-09-26\n",
      "1998-09-19\n",
      "1998-09-12\n",
      "1998-09-05\n",
      "1998-08-29\n",
      "Error: trying again in a few...\n",
      "Error: trying again in a few...\n",
      "1998-08-22\n",
      "1998-08-15\n",
      "1998-08-08\n",
      "1998-08-01\n",
      "1998-07-25\n",
      "1998-07-18\n",
      "1998-07-11\n",
      "1998-07-04\n",
      "1998-06-27\n",
      "1998-06-20\n",
      "1998-06-13\n",
      "1998-06-06\n",
      "1998-05-30\n",
      "Error: trying again in a few...\n",
      "Error: trying again in a few...\n",
      "Error: trying again in a few...\n",
      "1998-05-23\n",
      "1998-05-16\n",
      "1998-05-09\n",
      "1998-05-02\n",
      "1998-04-25\n",
      "1998-04-18\n",
      "1998-04-11\n",
      "1998-04-04\n",
      "1998-03-28\n",
      "1998-03-21\n",
      "1998-03-14\n"
     ]
    }
   ],
   "source": [
    "for count in range(100):\n",
    "    try:\n",
    "        chart = billboard.ChartData('hot-100', chart.previousDate)\n",
    "        for i in range(100):\n",
    "            song = chart[i]\n",
    "            artist = song.artist\n",
    "            title = song.title\n",
    "            isnew= song.isNew\n",
    "            rank = song.rank\n",
    "            date = chart.date\n",
    "            df.loc[len(df)] = [artist,title,isnew,rank,date]\n",
    "        print(chart.previousDate)\n",
    "    except:\n",
    "        print(\"Error: trying again in a few...\")\n",
    "        sleep(randint(10,50))\n",
    "        continue"
   ]
  },
  {
   "cell_type": "markdown",
   "metadata": {},
   "source": [
    "Let's save it into a file"
   ]
  },
  {
   "cell_type": "code",
   "execution_count": 97,
   "metadata": {},
   "outputs": [],
   "source": [
    "with open('hot-100_data.pkl', 'wb') as f:\n",
    "    pickle.dump(df, f)\n",
    "with open('hot-100_chart.pkl', 'wb') as f:\n",
    "    pickle.dump(chart, f)"
   ]
  }
 ],
 "metadata": {
  "kernelspec": {
   "display_name": "Python 3",
   "language": "python",
   "name": "python3"
  },
  "language_info": {
   "codemirror_mode": {
    "name": "ipython",
    "version": 3
   },
   "file_extension": ".py",
   "mimetype": "text/x-python",
   "name": "python",
   "nbconvert_exporter": "python",
   "pygments_lexer": "ipython3",
   "version": "3.7.4"
  }
 },
 "nbformat": 4,
 "nbformat_minor": 2
}
