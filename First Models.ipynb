{
 "cells": [
  {
   "cell_type": "code",
   "execution_count": 334,
   "metadata": {},
   "outputs": [],
   "source": [
    "import pandas as pd\n",
    "from sklearn.model_selection import train_test_split\n",
    "import lightgbm as lgb\n",
    "import numpy as np\n",
    "from sklearn import preprocessing\n",
    "import pickle\n",
    "from sklearn.model_selection import StratifiedShuffleSplit"
   ]
  },
  {
   "cell_type": "code",
   "execution_count": 322,
   "metadata": {},
   "outputs": [],
   "source": [
    "with open('song_df_aggregate.pkl', 'rb') as f:\n",
    "        song_df= pickle.load(f)  "
   ]
  },
  {
   "cell_type": "code",
   "execution_count": 323,
   "metadata": {},
   "outputs": [
    {
     "data": {
      "text/plain": [
       "[0                       Lewis Capaldi\n",
       " 1                         Post Malone\n",
       " 2       Shawn Mendes & Camila Cabello\n",
       " 3                               Lizzo\n",
       " 4                        Selena Gomez\n",
       "                     ...              \n",
       " 8514                      Spice Girls\n",
       " 8515                           Phajja\n",
       " 8516               Sting & The Police\n",
       " 8517                     Shania Twain\n",
       " 8518                    Reba McEntire\n",
       " Name: artist, Length: 8519, dtype: object,\n",
       " 0                           Someone You Loved\n",
       " 1                                     Circles\n",
       " 2                                    Senorita\n",
       " 3                                 Truth Hurts\n",
       " 4                         Lose You To Love Me\n",
       "                         ...                  \n",
       " 8514                       Spice Up Your Life\n",
       " 8515               So Long (Well, Well, Well)\n",
       " 8516           Roxanne `97 - Puff Daddy Remix\n",
       " 8517    Don't Be Stupid (You Know I Love You)\n",
       " 8518                                  What If\n",
       " Name: title, Length: 8519, dtype: object,\n",
       " 0       False\n",
       " 1       False\n",
       " 2       False\n",
       " 3       False\n",
       " 4       False\n",
       "         ...  \n",
       " 8514    False\n",
       " 8515    False\n",
       " 8516    False\n",
       " 8517    False\n",
       " 8518    False\n",
       " Name: isnew, Length: 8519, dtype: object,\n",
       " 0         1\n",
       " 1         2\n",
       " 2         3\n",
       " 3         4\n",
       " 4         5\n",
       "        ... \n",
       " 8514     79\n",
       " 8515     93\n",
       " 8516     95\n",
       " 8517     99\n",
       " 8518    100\n",
       " Name: rank, Length: 8519, dtype: object,\n",
       " 0       2019-11-16\n",
       " 1       2019-11-16\n",
       " 2       2019-11-16\n",
       " 3       2019-11-16\n",
       " 4       2019-11-16\n",
       "            ...    \n",
       " 8514    1998-03-21\n",
       " 8515    1998-03-21\n",
       " 8516    1998-03-21\n",
       " 8517    1998-03-21\n",
       " 8518    1998-03-21\n",
       " Name: date, Length: 8519, dtype: object,\n",
       " 0       7qEHsqek33rTcFNT9PFqLf\n",
       " 1       21jGcNKet2qwijlDFuPiPb\n",
       " 2       0TK2YIli7K1leLovkQiNik\n",
       " 3       5qmq61DAAOUaW8AUo8xKhh\n",
       " 4       1HfMVBKM75vxSfsQ5VefZ5\n",
       "                  ...          \n",
       " 8514    5qGwqO0lkbBXw4xNfzT7SF\n",
       " 8515    7phS4S15qLjPC7JlFnzWql\n",
       " 8516    0RlWNvJKKp0gODH7sUwm1j\n",
       " 8517    6xAF3xYDK915NEvC6WNbj9\n",
       " 8518    1prRF2tbzAKFqUgjC90nxY\n",
       " Name: spotify_id, Length: 8519, dtype: object,\n",
       " 0       5658aM19fA3JVwTK6eQX70\n",
       " 1       4g1ZRSobMefqF6nelkgibi\n",
       " 2       2ZaX1FdZCwchXl1QZiD4O4\n",
       " 3       74gSdSHe71q7urGWMMn3qB\n",
       " 4       3tBkjgxDqAwss76O1YHsSY\n",
       "                  ...          \n",
       " 8514    3sr6lAuO3nmB1u8ZuQgpiX\n",
       " 8515    6qbvgcaWgMn2BQY6FhdOm2\n",
       " 8516    0Av1HIrrBAtIbQTaAqo8Lb\n",
       " 8517    4UMe0Ods7kygK6OISasZe9\n",
       " 8518    6kmMraTrCoePKYeqcl8KPL\n",
       " Name: spotify_album_id, Length: 8519, dtype: object,\n",
       " 0       2019-05-17\n",
       " 1       2019-09-06\n",
       " 2       2019-06-21\n",
       " 3       2019-05-03\n",
       " 4       2019-10-23\n",
       "            ...    \n",
       " 8514    1997-01-01\n",
       " 8515    2018-11-16\n",
       " 8516    2011-11-07\n",
       " 8517    1997-11-04\n",
       " 8518    2000-01-01\n",
       " Name: spotify_album_release_date, Length: 8519, dtype: object,\n",
       " 0       day\n",
       " 1       day\n",
       " 2       day\n",
       " 3       day\n",
       " 4       day\n",
       "        ... \n",
       " 8514    day\n",
       " 8515    day\n",
       " 8516    day\n",
       " 8517    day\n",
       " 8518    day\n",
       " Name: spotify_album_release_date_precision, Length: 8519, dtype: object,\n",
       " 0                            Vertigo Berlin\n",
       " 1                          Republic Records\n",
       " 2                            Island Records\n",
       " 3                        Nice Life/Atlantic\n",
       " 4                        Interscope Records\n",
       "                        ...                 \n",
       " 8514                         Virgin Records\n",
       " 8515    Warner Music Group - X5 Music Group\n",
       " 8516                 2011 Ameritz Music Ltd\n",
       " 8517                      Mercury Nashville\n",
       " 8518                          MCA Nashville\n",
       " Name: album_label, Length: 8519, dtype: object,\n",
       " 0                          Lewis CapaldiSomeone You Loved\n",
       " 1                                      Post MaloneCircles\n",
       " 2                   Shawn Mendes & Camila CabelloSenorita\n",
       " 3                                        LizzoTruth Hurts\n",
       " 4                         Selena GomezLose You To Love Me\n",
       "                               ...                        \n",
       " 8514                        Spice GirlsSpice Up Your Life\n",
       " 8515                     PhajjaSo Long (Well, Well, Well)\n",
       " 8516     Sting & The PoliceRoxanne `97 - Puff Daddy Remix\n",
       " 8517    Shania TwainDon't Be Stupid (You Know I Love You)\n",
       " 8518                                 Reba McEntireWhat If\n",
       " Name: join, Length: 8519, dtype: object,\n",
       " 0      2019-05-17\n",
       " 1      2019-09-06\n",
       " 2      2019-06-21\n",
       " 3      2019-05-03\n",
       " 4      2019-10-23\n",
       "           ...    \n",
       " 8514   1997-01-01\n",
       " 8515   2018-11-16\n",
       " 8516   2011-11-07\n",
       " 8517   1997-11-04\n",
       " 8518   2000-01-01\n",
       " Name: spotify_album_release_date_datetime, Length: 8519, dtype: datetime64[ns],\n",
       " 0      2019-05-25\n",
       " 1      2019-09-14\n",
       " 2      2019-07-06\n",
       " 3      2019-05-18\n",
       " 4      2019-11-02\n",
       "           ...    \n",
       " 8514   1998-03-21\n",
       " 8515   1998-03-21\n",
       " 8516   1998-03-21\n",
       " 8517   1998-03-21\n",
       " 8518   1998-03-21\n",
       " Name: datetime, Length: 8519, dtype: datetime64[ns],\n",
       " 0       2019-05-25\n",
       " 1       2019-09-14\n",
       " 2       2019-07-06\n",
       " 3       2019-05-18\n",
       " 4       2019-11-02\n",
       "            ...    \n",
       " 8514    1998-03-21\n",
       " 8515    1998-03-21\n",
       " 8516    1998-03-21\n",
       " 8517    1998-03-21\n",
       " 8518    1998-03-21\n",
       " Name: first_date, Length: 8519, dtype: object]"
      ]
     },
     "execution_count": 323,
     "metadata": {},
     "output_type": "execute_result"
    }
   ],
   "source": [
    "song_df = song_df[song_df[\"firstrank\"] > 10]\n",
    "\n",
    "to_pop =[\"artist\",\"title\",\"isnew\",\"rank\",\"date\",\"spotify_id\",\"spotify_album_id\",\"spotify_album_release_date\",\n",
    "         \"spotify_album_release_date_precision\",\"album_label\",\"join\",\"spotify_album_release_date_datetime\",\n",
    "         \"datetime\",\"first_date\"]\n",
    "[song_df.pop(i) for i in to_pop]\n",
    "\n",
    "\n",
    "song_df.pop(\"bestrank\")\n",
    "song_df.pop(\"numberofappearances\")\n",
    "song_df = song_df.dropna()\n",
    "top10 = song_df.pop(\"top10\")\n",
    "\n",
    "to_pop =[\"top50\",\"top25\",\"top75\",\"top5\"]\n",
    "[song_df.pop(i) for i in to_pop]\n",
    "\n",
    "to_pop =[\"label_appearance_count\",\"label_category\",\"label_appearance_count_group\",\"release_month\",\"release_year\"]\n",
    "[song_df.pop(i) for i in to_pop]\n",
    "\n",
    "to_pop =[\"artist_has_award\",\"spotify_disc_number\",\"last_award_type\",\"spotify_mode\",\"num_artists\",\"spotify_time_signature\",\"album_type\",\"spotify_explicit\"]\n",
    "[song_df.pop(i) for i in to_pop]"
   ]
  },
  {
   "cell_type": "code",
   "execution_count": 344,
   "metadata": {},
   "outputs": [],
   "source": [
    "le = preprocessing.LabelEncoder()\n",
    "song_df['spotify_key'] = le.fit_transform(song_df['spotify_key'])\n",
    "song_df['label_category_group'] = le.fit_transform(song_df['label_category_group'])\n",
    "song_df['datetime_year'] = le.fit_transform(song_df['datetime_year'])\n",
    "song_df['datetime_month'] = le.fit_transform(song_df['datetime_month'])"
   ]
  },
  {
   "cell_type": "code",
   "execution_count": 329,
   "metadata": {},
   "outputs": [],
   "source": [
    "X_train, X_test, y_train, y_test = train_test_split(song_df, top10, test_size=0.2)"
   ]
  },
  {
   "cell_type": "code",
   "execution_count": 824,
   "metadata": {},
   "outputs": [],
   "source": [
    "with open('test_set.pkl', 'rb') as f:\n",
    "        X_test= pickle.load(f)  \n",
    "with open('train_set.pkl', 'rb') as f:\n",
    "        X_train= pickle.load(f)  \n",
    "with open('ytest.pkl', 'rb') as f:\n",
    "        y_test= pickle.load(f)  \n",
    "with open('ytrain.pkl', 'rb') as f:\n",
    "        y_train= pickle.load(f)  \n",
    "for i in [X_train,X_test]:\n",
    "    #i.pop(\"spotify_explicit\")\n",
    "    #i.pop(\"spotify_mode\")\n",
    "   #i.pop(\"num_artists\")\n",
    "    i.pop(\"artist_has_award\")\n",
    "    #i.pop(\"album_type\")\n",
    "    #i.pop(\"gold_count\")\n",
    "    #i.pop(\"spotify_time_signature\")\n",
    "    #i.pop(\"datetime_month\")\n",
    "    #i.pop(\"award_num\")\n",
    "    #i.pop(\"label_category_group\")\n",
    "    #i.pop(\"datetime_year\")\n",
    "    #i.pop(\"firstrank\")\n",
    "    #i.pop(\"num_songs_awards\")\n",
    "    #i.pop(\"platinum_count\")"
   ]
  },
  {
   "cell_type": "code",
   "execution_count": 684,
   "metadata": {},
   "outputs": [],
   "source": [
    "from sklearn.decomposition import PCA\n",
    "pca = PCA(n_components=5)\n",
    "principalComponents = pca.fit(X_train)\n",
    "X_train = pca.transform(X_train)\n",
    "X_test = pca.transform(X_test)"
   ]
  },
  {
   "cell_type": "code",
   "execution_count": 685,
   "metadata": {},
   "outputs": [
    {
     "ename": "KeyError",
     "evalue": "'top10'",
     "output_type": "error",
     "traceback": [
      "\u001b[0;31m---------------------------------------------------------------------------\u001b[0m",
      "\u001b[0;31mKeyError\u001b[0m                                  Traceback (most recent call last)",
      "\u001b[0;32m~/anaconda3/lib/python3.7/site-packages/pandas/core/indexes/base.py\u001b[0m in \u001b[0;36mget_loc\u001b[0;34m(self, key, method, tolerance)\u001b[0m\n\u001b[1;32m   2896\u001b[0m             \u001b[0;32mtry\u001b[0m\u001b[0;34m:\u001b[0m\u001b[0;34m\u001b[0m\u001b[0;34m\u001b[0m\u001b[0m\n\u001b[0;32m-> 2897\u001b[0;31m                 \u001b[0;32mreturn\u001b[0m \u001b[0mself\u001b[0m\u001b[0;34m.\u001b[0m\u001b[0m_engine\u001b[0m\u001b[0;34m.\u001b[0m\u001b[0mget_loc\u001b[0m\u001b[0;34m(\u001b[0m\u001b[0mkey\u001b[0m\u001b[0;34m)\u001b[0m\u001b[0;34m\u001b[0m\u001b[0;34m\u001b[0m\u001b[0m\n\u001b[0m\u001b[1;32m   2898\u001b[0m             \u001b[0;32mexcept\u001b[0m \u001b[0mKeyError\u001b[0m\u001b[0;34m:\u001b[0m\u001b[0;34m\u001b[0m\u001b[0;34m\u001b[0m\u001b[0m\n",
      "\u001b[0;32mpandas/_libs/index.pyx\u001b[0m in \u001b[0;36mpandas._libs.index.IndexEngine.get_loc\u001b[0;34m()\u001b[0m\n",
      "\u001b[0;32mpandas/_libs/index.pyx\u001b[0m in \u001b[0;36mpandas._libs.index.IndexEngine.get_loc\u001b[0;34m()\u001b[0m\n",
      "\u001b[0;32mpandas/_libs/hashtable_class_helper.pxi\u001b[0m in \u001b[0;36mpandas._libs.hashtable.PyObjectHashTable.get_item\u001b[0;34m()\u001b[0m\n",
      "\u001b[0;32mpandas/_libs/hashtable_class_helper.pxi\u001b[0m in \u001b[0;36mpandas._libs.hashtable.PyObjectHashTable.get_item\u001b[0;34m()\u001b[0m\n",
      "\u001b[0;31mKeyError\u001b[0m: 'top10'",
      "\nDuring handling of the above exception, another exception occurred:\n",
      "\u001b[0;31mKeyError\u001b[0m                                  Traceback (most recent call last)",
      "\u001b[0;32m<ipython-input-685-ad1854029032>\u001b[0m in \u001b[0;36m<module>\u001b[0;34m\u001b[0m\n\u001b[0;32m----> 1\u001b[0;31m \u001b[0mlen\u001b[0m\u001b[0;34m(\u001b[0m\u001b[0my_test\u001b[0m\u001b[0;34m[\u001b[0m\u001b[0my_test\u001b[0m\u001b[0;34m[\u001b[0m\u001b[0;34m\"top10\"\u001b[0m\u001b[0;34m]\u001b[0m\u001b[0;34m==\u001b[0m\u001b[0;36m1\u001b[0m\u001b[0;34m]\u001b[0m\u001b[0;34m)\u001b[0m\u001b[0;34m\u001b[0m\u001b[0;34m\u001b[0m\u001b[0m\n\u001b[0m",
      "\u001b[0;32m~/anaconda3/lib/python3.7/site-packages/pandas/core/frame.py\u001b[0m in \u001b[0;36m__getitem__\u001b[0;34m(self, key)\u001b[0m\n\u001b[1;32m   2993\u001b[0m             \u001b[0;32mif\u001b[0m \u001b[0mself\u001b[0m\u001b[0;34m.\u001b[0m\u001b[0mcolumns\u001b[0m\u001b[0;34m.\u001b[0m\u001b[0mnlevels\u001b[0m \u001b[0;34m>\u001b[0m \u001b[0;36m1\u001b[0m\u001b[0;34m:\u001b[0m\u001b[0;34m\u001b[0m\u001b[0;34m\u001b[0m\u001b[0m\n\u001b[1;32m   2994\u001b[0m                 \u001b[0;32mreturn\u001b[0m \u001b[0mself\u001b[0m\u001b[0;34m.\u001b[0m\u001b[0m_getitem_multilevel\u001b[0m\u001b[0;34m(\u001b[0m\u001b[0mkey\u001b[0m\u001b[0;34m)\u001b[0m\u001b[0;34m\u001b[0m\u001b[0;34m\u001b[0m\u001b[0m\n\u001b[0;32m-> 2995\u001b[0;31m             \u001b[0mindexer\u001b[0m \u001b[0;34m=\u001b[0m \u001b[0mself\u001b[0m\u001b[0;34m.\u001b[0m\u001b[0mcolumns\u001b[0m\u001b[0;34m.\u001b[0m\u001b[0mget_loc\u001b[0m\u001b[0;34m(\u001b[0m\u001b[0mkey\u001b[0m\u001b[0;34m)\u001b[0m\u001b[0;34m\u001b[0m\u001b[0;34m\u001b[0m\u001b[0m\n\u001b[0m\u001b[1;32m   2996\u001b[0m             \u001b[0;32mif\u001b[0m \u001b[0mis_integer\u001b[0m\u001b[0;34m(\u001b[0m\u001b[0mindexer\u001b[0m\u001b[0;34m)\u001b[0m\u001b[0;34m:\u001b[0m\u001b[0;34m\u001b[0m\u001b[0;34m\u001b[0m\u001b[0m\n\u001b[1;32m   2997\u001b[0m                 \u001b[0mindexer\u001b[0m \u001b[0;34m=\u001b[0m \u001b[0;34m[\u001b[0m\u001b[0mindexer\u001b[0m\u001b[0;34m]\u001b[0m\u001b[0;34m\u001b[0m\u001b[0;34m\u001b[0m\u001b[0m\n",
      "\u001b[0;32m~/anaconda3/lib/python3.7/site-packages/pandas/core/indexes/base.py\u001b[0m in \u001b[0;36mget_loc\u001b[0;34m(self, key, method, tolerance)\u001b[0m\n\u001b[1;32m   2897\u001b[0m                 \u001b[0;32mreturn\u001b[0m \u001b[0mself\u001b[0m\u001b[0;34m.\u001b[0m\u001b[0m_engine\u001b[0m\u001b[0;34m.\u001b[0m\u001b[0mget_loc\u001b[0m\u001b[0;34m(\u001b[0m\u001b[0mkey\u001b[0m\u001b[0;34m)\u001b[0m\u001b[0;34m\u001b[0m\u001b[0;34m\u001b[0m\u001b[0m\n\u001b[1;32m   2898\u001b[0m             \u001b[0;32mexcept\u001b[0m \u001b[0mKeyError\u001b[0m\u001b[0;34m:\u001b[0m\u001b[0;34m\u001b[0m\u001b[0;34m\u001b[0m\u001b[0m\n\u001b[0;32m-> 2899\u001b[0;31m                 \u001b[0;32mreturn\u001b[0m \u001b[0mself\u001b[0m\u001b[0;34m.\u001b[0m\u001b[0m_engine\u001b[0m\u001b[0;34m.\u001b[0m\u001b[0mget_loc\u001b[0m\u001b[0;34m(\u001b[0m\u001b[0mself\u001b[0m\u001b[0;34m.\u001b[0m\u001b[0m_maybe_cast_indexer\u001b[0m\u001b[0;34m(\u001b[0m\u001b[0mkey\u001b[0m\u001b[0;34m)\u001b[0m\u001b[0;34m)\u001b[0m\u001b[0;34m\u001b[0m\u001b[0;34m\u001b[0m\u001b[0m\n\u001b[0m\u001b[1;32m   2900\u001b[0m         \u001b[0mindexer\u001b[0m \u001b[0;34m=\u001b[0m \u001b[0mself\u001b[0m\u001b[0;34m.\u001b[0m\u001b[0mget_indexer\u001b[0m\u001b[0;34m(\u001b[0m\u001b[0;34m[\u001b[0m\u001b[0mkey\u001b[0m\u001b[0;34m]\u001b[0m\u001b[0;34m,\u001b[0m \u001b[0mmethod\u001b[0m\u001b[0;34m=\u001b[0m\u001b[0mmethod\u001b[0m\u001b[0;34m,\u001b[0m \u001b[0mtolerance\u001b[0m\u001b[0;34m=\u001b[0m\u001b[0mtolerance\u001b[0m\u001b[0;34m)\u001b[0m\u001b[0;34m\u001b[0m\u001b[0;34m\u001b[0m\u001b[0m\n\u001b[1;32m   2901\u001b[0m         \u001b[0;32mif\u001b[0m \u001b[0mindexer\u001b[0m\u001b[0;34m.\u001b[0m\u001b[0mndim\u001b[0m \u001b[0;34m>\u001b[0m \u001b[0;36m1\u001b[0m \u001b[0;32mor\u001b[0m \u001b[0mindexer\u001b[0m\u001b[0;34m.\u001b[0m\u001b[0msize\u001b[0m \u001b[0;34m>\u001b[0m \u001b[0;36m1\u001b[0m\u001b[0;34m:\u001b[0m\u001b[0;34m\u001b[0m\u001b[0;34m\u001b[0m\u001b[0m\n",
      "\u001b[0;32mpandas/_libs/index.pyx\u001b[0m in \u001b[0;36mpandas._libs.index.IndexEngine.get_loc\u001b[0;34m()\u001b[0m\n",
      "\u001b[0;32mpandas/_libs/index.pyx\u001b[0m in \u001b[0;36mpandas._libs.index.IndexEngine.get_loc\u001b[0;34m()\u001b[0m\n",
      "\u001b[0;32mpandas/_libs/hashtable_class_helper.pxi\u001b[0m in \u001b[0;36mpandas._libs.hashtable.PyObjectHashTable.get_item\u001b[0;34m()\u001b[0m\n",
      "\u001b[0;32mpandas/_libs/hashtable_class_helper.pxi\u001b[0m in \u001b[0;36mpandas._libs.hashtable.PyObjectHashTable.get_item\u001b[0;34m()\u001b[0m\n",
      "\u001b[0;31mKeyError\u001b[0m: 'top10'"
     ]
    }
   ],
   "source": [
    "len(y_test[y_test[\"top10\"]==1])"
   ]
  },
  {
   "cell_type": "code",
   "execution_count": 825,
   "metadata": {},
   "outputs": [
    {
     "name": "stdout",
     "output_type": "stream",
     "text": [
      "[1]\ttraining's auc: 0.652858\n",
      "Training until validation scores don't improve for 100 rounds\n",
      "[2]\ttraining's auc: 0.733536\n",
      "[3]\ttraining's auc: 0.74813\n",
      "[4]\ttraining's auc: 0.76563\n",
      "[5]\ttraining's auc: 0.778945\n",
      "[6]\ttraining's auc: 0.7833\n",
      "[7]\ttraining's auc: 0.796245\n",
      "[8]\ttraining's auc: 0.803733\n",
      "[9]\ttraining's auc: 0.808643\n",
      "[10]\ttraining's auc: 0.812405\n",
      "[11]\ttraining's auc: 0.814747\n",
      "[12]\ttraining's auc: 0.816954\n",
      "[13]\ttraining's auc: 0.820506\n",
      "[14]\ttraining's auc: 0.822622\n",
      "[15]\ttraining's auc: 0.824622\n",
      "[16]\ttraining's auc: 0.826076\n",
      "[17]\ttraining's auc: 0.830888\n",
      "[18]\ttraining's auc: 0.834544\n",
      "[19]\ttraining's auc: 0.835917\n",
      "[20]\ttraining's auc: 0.837985\n",
      "[21]\ttraining's auc: 0.841631\n",
      "[22]\ttraining's auc: 0.843762\n",
      "[23]\ttraining's auc: 0.846257\n",
      "[24]\ttraining's auc: 0.848384\n",
      "[25]\ttraining's auc: 0.850718\n",
      "[26]\ttraining's auc: 0.853771\n",
      "[27]\ttraining's auc: 0.8542\n",
      "[28]\ttraining's auc: 0.85545\n",
      "[29]\ttraining's auc: 0.857232\n",
      "[30]\ttraining's auc: 0.858455\n",
      "[31]\ttraining's auc: 0.860964\n",
      "[32]\ttraining's auc: 0.86257\n",
      "[33]\ttraining's auc: 0.86374\n",
      "[34]\ttraining's auc: 0.864741\n",
      "[35]\ttraining's auc: 0.865005\n",
      "[36]\ttraining's auc: 0.866003\n",
      "[37]\ttraining's auc: 0.867266\n",
      "[38]\ttraining's auc: 0.867686\n",
      "[39]\ttraining's auc: 0.867951\n",
      "[40]\ttraining's auc: 0.86859\n",
      "[41]\ttraining's auc: 0.870036\n",
      "[42]\ttraining's auc: 0.871513\n",
      "[43]\ttraining's auc: 0.874162\n",
      "[44]\ttraining's auc: 0.875165\n",
      "[45]\ttraining's auc: 0.876781\n",
      "[46]\ttraining's auc: 0.878083\n",
      "[47]\ttraining's auc: 0.879054\n",
      "[48]\ttraining's auc: 0.880238\n",
      "[49]\ttraining's auc: 0.880929\n",
      "[50]\ttraining's auc: 0.882074\n",
      "[51]\ttraining's auc: 0.883546\n",
      "[52]\ttraining's auc: 0.884594\n",
      "[53]\ttraining's auc: 0.8854\n",
      "[54]\ttraining's auc: 0.886015\n",
      "[55]\ttraining's auc: 0.88668\n",
      "[56]\ttraining's auc: 0.88733\n",
      "[57]\ttraining's auc: 0.888067\n",
      "[58]\ttraining's auc: 0.889098\n",
      "[59]\ttraining's auc: 0.889607\n",
      "[60]\ttraining's auc: 0.890415\n",
      "[61]\ttraining's auc: 0.89115\n",
      "[62]\ttraining's auc: 0.891815\n",
      "[63]\ttraining's auc: 0.892652\n",
      "[64]\ttraining's auc: 0.893382\n",
      "[65]\ttraining's auc: 0.894791\n",
      "[66]\ttraining's auc: 0.896275\n",
      "[67]\ttraining's auc: 0.89765\n",
      "[68]\ttraining's auc: 0.898437\n",
      "[69]\ttraining's auc: 0.899674\n",
      "[70]\ttraining's auc: 0.901201\n",
      "[71]\ttraining's auc: 0.901817\n",
      "[72]\ttraining's auc: 0.902715\n",
      "[73]\ttraining's auc: 0.903296\n",
      "[74]\ttraining's auc: 0.903321\n",
      "[75]\ttraining's auc: 0.903987\n",
      "[76]\ttraining's auc: 0.904457\n",
      "[77]\ttraining's auc: 0.904858\n",
      "[78]\ttraining's auc: 0.905685\n",
      "[79]\ttraining's auc: 0.906316\n",
      "[80]\ttraining's auc: 0.907304\n",
      "[81]\ttraining's auc: 0.909266\n",
      "[82]\ttraining's auc: 0.910839\n",
      "[83]\ttraining's auc: 0.912144\n",
      "[84]\ttraining's auc: 0.913548\n",
      "[85]\ttraining's auc: 0.914487\n",
      "[86]\ttraining's auc: 0.915605\n",
      "[87]\ttraining's auc: 0.916456\n",
      "[88]\ttraining's auc: 0.917203\n",
      "[89]\ttraining's auc: 0.917982\n",
      "[90]\ttraining's auc: 0.918956\n",
      "[91]\ttraining's auc: 0.919578\n",
      "[92]\ttraining's auc: 0.920194\n",
      "[93]\ttraining's auc: 0.921077\n",
      "[94]\ttraining's auc: 0.921565\n",
      "[95]\ttraining's auc: 0.922263\n",
      "[96]\ttraining's auc: 0.922572\n",
      "[97]\ttraining's auc: 0.923333\n",
      "[98]\ttraining's auc: 0.923858\n",
      "[99]\ttraining's auc: 0.924272\n",
      "[100]\ttraining's auc: 0.924962\n",
      "Did not meet early stopping. Best iteration is:\n",
      "[100]\ttraining's auc: 0.924962\n"
     ]
    }
   ],
   "source": [
    "# create dataset for lightgbm\n",
    "lgb_train = lgb.Dataset(X_train, y_train)\n",
    "#lgb_eval = lgb.Dataset(X_val, y_val, reference=lgb_train)\n",
    "\n",
    "\n",
    "#can replace 'is_unbalance': 'true', by 'scale_pos_weight': 10,\n",
    "\n",
    "parameters = {\n",
    "    'application': 'binary',\n",
    "    'objective': 'binary',\n",
    "    'metric': 'auc',\n",
    "    'boosting': 'gbdt',\n",
    "    'is_unbalance': 'true',\n",
    "    'num_leaves': 25,\n",
    "    'feature_fraction': 0.5,\n",
    "    'bagging_fraction': 0.5,\n",
    "    'bagging_freq': 20,\n",
    "    'learning_rate': 0.05,\n",
    "    'verbose': 0\n",
    "}\n",
    "\n",
    "model = lgb.train(parameters,\n",
    "                       lgb_train,\n",
    "                       valid_sets=lgb_train,\n",
    "                       num_boost_round=100,\n",
    "                       early_stopping_rounds=100)\n",
    "\n",
    "predictions = model.predict(X_test)\n"
   ]
  },
  {
   "cell_type": "code",
   "execution_count": 826,
   "metadata": {},
   "outputs": [
    {
     "data": {
      "image/png": "[encoded data removed]",
      "text/plain": [
       "<Figure size 432x288 with 1 Axes>"
      ]
     },
     "metadata": {
      "needs_background": "light"
     },
     "output_type": "display_data"
    }
   ],
   "source": [
    "import sklearn.metrics as metrics\n",
    "\n",
    "fpr, tpr, threshold = metrics.roc_curve(y_test, predictions)\n",
    "roc_auc = metrics.auc(fpr, tpr)\n",
    "\n",
    "# method I: plt\n",
    "import matplotlib.pyplot as plt\n",
    "%matplotlib inline\n",
    "plt.title('Receiver Operating Characteristic')\n",
    "plt.plot(fpr, tpr, 'b', label = 'AUC = %0.2f' % roc_auc)\n",
    "plt.legend(loc = 'lower right')\n",
    "plt.plot([0, 1], [0, 1],'r--')\n",
    "plt.xlim([0, 1])\n",
    "plt.ylim([0, 1])\n",
    "plt.ylabel('True Positive Rate')\n",
    "plt.xlabel('False Positive Rate')\n",
    "plt.show()"
   ]
  },
  {
   "cell_type": "code",
   "execution_count": 827,
   "metadata": {},
   "outputs": [
    {
     "data": {
      "image/png": "[encoded data removed]",
      "text/plain": [
       "<Figure size 432x288 with 1 Axes>"
      ]
     },
     "metadata": {
      "needs_background": "light"
     },
     "output_type": "display_data"
    }
   ],
   "source": [
    "from sklearn.metrics import precision_recall_curve\n",
    "# calculate precision-recall curve\n",
    "precision, recall, thresholds = precision_recall_curve(y_test,predictions)\n",
    "# calculate precision-recall AUC\n",
    "precision_auc = metrics.auc(recall, precision)\n",
    "\n",
    "plt.title('Receiver Operating Characteristic')\n",
    "plt.plot(thresholds, precision[:len(precision)-1], 'b', label = 'Precision AUC = %0.2f' % precision_auc)\n",
    "plt.legend(loc = 'lower right')\n",
    "plt.xlim([0, 1])\n",
    "plt.ylim([0, 1])\n",
    "plt.ylabel('Precision')\n",
    "plt.xlabel('Threshold')\n",
    "plt.show()"
   ]
  },
  {
   "cell_type": "code",
   "execution_count": 832,
   "metadata": {},
   "outputs": [
    {
     "data": {
      "text/plain": [
       "array([[1506,    0],\n",
       "       [  95,    1]])"
      ]
     },
     "execution_count": 832,
     "metadata": {},
     "output_type": "execute_result"
    }
   ],
   "source": [
    "from sklearn.metrics import confusion_matrix\n",
    "\n",
    "predictions_matrix = [1 if pred > 0.85 else 0 for pred in predictions]\n",
    "confusion_matrix(y_test,predictions_matrix)"
   ]
  },
  {
   "cell_type": "code",
   "execution_count": null,
   "metadata": {},
   "outputs": [],
   "source": [
    "from sklearn.utils import resample\n",
    "df = X_test\n",
    "df[\"top10\"] = y_test.values\n",
    "stats = list()\n",
    "for i in range(1000):\n",
    "    boot = resample(df, replace=False, n_samples=1000)\n",
    "    boot_y = boot.pop(\"top10\")\n",
    "    boot_pred = model.predict(boot)\n",
    "    predictions_matrix = [1 if pred > 0.8 else 0 for pred in boot_pred]\n",
    "    precision = (confusion_matrix(boot_y,predictions_matrix)[1][1]) / (confusion_matrix(boot_y,predictions_matrix)[0][1] + confusion_matrix(boot_y,predictions_matrix)[0][1]) \n",
    "    stats.append(precision)\n",
    "    \n",
    "# plot scores\n",
    "plt.hist(stats)\n",
    "plt.show()\n",
    "# confidence intervals\n",
    "alpha = 0.95\n",
    "p = ((1.0-alpha)/2.0) * 100\n",
    "lower = max(0.0, np.percentile(stats, p))\n",
    "p = (alpha+((1.0-alpha)/2.0)) * 100\n",
    "upper = min(1.0, np.percentile(stats, p))\n",
    "print('%.1f confidence interval %.1f%% and %.1f%%' % (alpha*100, lower*100, upper*100))"
   ]
  },
  {
   "cell_type": "code",
   "execution_count": 795,
   "metadata": {},
   "outputs": [
    {
     "name": "stdout",
     "output_type": "stream",
     "text": [
      "17 spotify_explicit\n",
      "187 spotify_duration_ms\n",
      "75 spotify_track_number\n",
      "146 spotify_danceability\n",
      "164 spotify_energy\n",
      "145 spotify_loudness\n",
      "28 spotify_mode\n",
      "182 spotify_speechiness\n",
      "174 spotify_acousticness\n",
      "90 spotify_instrumentalness\n",
      "121 spotify_liveness\n",
      "167 spotify_valence\n",
      "161 spotify_tempo\n",
      "10 spotify_time_signature\n",
      "31 num_artists\n",
      "82 award_num\n",
      "81 gold_count\n",
      "66 platinum_count\n",
      "3 artist_has_award\n",
      "38 num_songs_awards\n",
      "148 firstrank\n",
      "64 label_category_group\n",
      "29 album_type\n",
      "141 datetime_year\n",
      "50 datetime_month\n"
     ]
    }
   ],
   "source": [
    "# Record the feature importances\n",
    "feature_importances = model.feature_importance()\n",
    "for i in range(len(feature_importances)):\n",
    "    print(feature_importances[i],X_train.columns[i])"
   ]
  },
  {
   "cell_type": "code",
   "execution_count": 809,
   "metadata": {},
   "outputs": [
    {
     "name": "stderr",
     "output_type": "stream",
     "text": [
      "/Users/iliasmiraoui/anaconda3/lib/python3.7/site-packages/sklearn/utils/validation.py:724: DataConversionWarning: A column-vector y was passed when a 1d array was expected. Please change the shape of y to (n_samples, ), for example using ravel().\n",
      "  y = column_or_1d(y, warn=True)\n"
     ]
    }
   ],
   "source": [
    "from imblearn.over_sampling import SMOTE\n",
    "\n",
    "sm = SMOTE(random_state=2, ratio=1.0)\n",
    "X_train, y_train = sm.fit_sample(X_train, y_train)"
   ]
  },
  {
   "cell_type": "code",
   "execution_count": 810,
   "metadata": {},
   "outputs": [
    {
     "data": {
      "text/plain": [
       "'X_train[\"top10\"] = y_train\\nX_train = X_train.sample(frac=1)\\ntop_df = X_train.loc[X_train[\\'top10\\'] == 1]\\nnon_top_df = X_train.loc[X_train[\\'top10\\'] == 0][:600]\\nX_train = pd.concat([top_df, non_top_df])\\ny_train = X_train.pop(\"top10\")'"
      ]
     },
     "execution_count": 810,
     "metadata": {},
     "output_type": "execute_result"
    }
   ],
   "source": [
    "'''X_train[\"top10\"] = y_train\n",
    "X_train = X_train.sample(frac=1)\n",
    "top_df = X_train.loc[X_train['top10'] == 1]\n",
    "non_top_df = X_train.loc[X_train['top10'] == 0][:600]\n",
    "X_train = pd.concat([top_df, non_top_df])\n",
    "y_train = X_train.pop(\"top10\")'''"
   ]
  },
  {
   "cell_type": "code",
   "execution_count": 811,
   "metadata": {},
   "outputs": [
    {
     "name": "stderr",
     "output_type": "stream",
     "text": [
      "/Users/iliasmiraoui/anaconda3/lib/python3.7/site-packages/sklearn/linear_model/logistic.py:432: FutureWarning: Default solver will be changed to 'lbfgs' in 0.22. Specify a solver to silence this warning.\n",
      "  FutureWarning)\n"
     ]
    },
    {
     "data": {
      "text/plain": [
       "LogisticRegression(C=1.0, class_weight=None, dual=False, fit_intercept=True,\n",
       "                   intercept_scaling=1, l1_ratio=None, max_iter=100,\n",
       "                   multi_class='warn', n_jobs=None, penalty='l2',\n",
       "                   random_state=None, solver='warn', tol=0.0001, verbose=0,\n",
       "                   warm_start=False)"
      ]
     },
     "execution_count": 811,
     "metadata": {},
     "output_type": "execute_result"
    }
   ],
   "source": [
    "from sklearn.linear_model import LogisticRegression\n",
    "from sklearn import metrics\n",
    "logreg = LogisticRegression()\n",
    "logreg.fit(X_train, y_train)"
   ]
  },
  {
   "cell_type": "code",
   "execution_count": 812,
   "metadata": {},
   "outputs": [
    {
     "name": "stdout",
     "output_type": "stream",
     "text": [
      "Accuracy of logistic regression classifier on test set: 0.56\n"
     ]
    }
   ],
   "source": [
    "y_pred = logreg.predict(X_test)\n",
    "print('Accuracy of logistic regression classifier on test set: {:.2f}'.format(logreg.score(X_test, y_test)))"
   ]
  },
  {
   "cell_type": "code",
   "execution_count": 813,
   "metadata": {},
   "outputs": [
    {
     "data": {
      "image/png": "[encoded data removed]",
      "text/plain": [
       "<Figure size 432x288 with 1 Axes>"
      ]
     },
     "metadata": {
      "needs_background": "light"
     },
     "output_type": "display_data"
    }
   ],
   "source": [
    "import sklearn.metrics as metrics\n",
    "\n",
    "fpr, tpr, threshold = metrics.roc_curve(y_test, y_pred)\n",
    "roc_auc = metrics.auc(fpr, tpr)\n",
    "\n",
    "# method I: plt\n",
    "import matplotlib.pyplot as plt\n",
    "%matplotlib inline\n",
    "plt.title('Receiver Operating Characteristic')\n",
    "plt.plot(fpr, tpr, 'b', label = 'AUC = %0.2f' % roc_auc)\n",
    "plt.legend(loc = 'lower right')\n",
    "plt.plot([0, 1], [0, 1],'r--')\n",
    "plt.xlim([0, 1])\n",
    "plt.ylim([0, 1])\n",
    "plt.ylabel('True Positive Rate')\n",
    "plt.xlabel('False Positive Rate')\n",
    "plt.savefig(\"Logisticregression\")\n",
    "plt.show()\n"
   ]
  },
  {
   "cell_type": "code",
   "execution_count": 814,
   "metadata": {},
   "outputs": [
    {
     "data": {
      "image/png": "[encoded data removed]",
      "text/plain": [
       "<Figure size 432x288 with 1 Axes>"
      ]
     },
     "metadata": {
      "needs_background": "light"
     },
     "output_type": "display_data"
    }
   ],
   "source": [
    "from sklearn.metrics import precision_recall_curve\n",
    "# calculate precision-recall curve\n",
    "precision, recall, thresholds = precision_recall_curve(y_test,predictions)\n",
    "# calculate precision-recall AUC\n",
    "precision_auc = metrics.auc(recall, precision)\n",
    "\n",
    "plt.title('Precision Depending on the Threshold')\n",
    "plt.plot(thresholds, precision[:len(precision)-1], 'b')\n",
    "plt.xlim([0, 1])\n",
    "plt.ylim([0, 1])\n",
    "plt.ylabel('Precision')\n",
    "plt.xlabel('Threshold')\n",
    "plt.savefig(\"PrecisionLogistic\")\n",
    "plt.show()"
   ]
  },
  {
   "cell_type": "code",
   "execution_count": 823,
   "metadata": {},
   "outputs": [
    {
     "data": {
      "text/plain": [
       "array([[1392,  114],\n",
       "       [  80,   16]])"
      ]
     },
     "execution_count": 823,
     "metadata": {},
     "output_type": "execute_result"
    }
   ],
   "source": [
    "from sklearn.metrics import confusion_matrix\n",
    "\n",
    "predictions_matrix = [1 if pred > 0.7 else 0 for pred in predictions]\n",
    "confusion_matrix(y_test,predictions_matrix)"
   ]
  },
  {
   "cell_type": "code",
   "execution_count": 819,
   "metadata": {},
   "outputs": [],
   "source": []
  },
  {
   "cell_type": "code",
   "execution_count": 822,
   "metadata": {},
   "outputs": [
    {
     "name": "stdout",
     "output_type": "stream",
     "text": [
      "0.04772727272727273\n",
      "0.04964539007092199\n",
      "0.05205811138014528\n",
      "0.04883720930232558\n",
      "0.04589371980676329\n",
      "0.03935185185185185\n",
      "0.04941176470588235\n",
      "0.04285714285714286\n",
      "0.04939759036144578\n",
      "0.045121951219512194\n",
      "0.04524361948955916\n",
      "0.037914691943127965\n",
      "0.04600484261501211\n",
      "0.043689320388349516\n",
      "0.0477326968973747\n",
      "0.04373522458628842\n",
      "0.048693586698337295\n",
      "0.04861111111111111\n",
      "0.04566744730679157\n",
      "0.04462242562929062\n",
      "0.04245283018867924\n",
      "0.045454545454545456\n",
      "0.05035128805620609\n",
      "0.049516908212560384\n",
      "0.044186046511627906\n",
      "0.04352941176470588\n",
      "0.04196642685851319\n",
      "0.04721549636803874\n",
      "0.04436450839328537\n",
      "0.053488372093023255\n",
      "0.055424528301886794\n",
      "0.04906542056074766\n",
      "0.04566744730679157\n",
      "0.05474452554744526\n",
      "0.05269607843137255\n",
      "0.04805491990846682\n",
      "0.04567307692307692\n",
      "0.04789719626168224\n",
      "0.0550122249388753\n",
      "0.048723897911832945\n",
      "0.05012224938875306\n",
      "0.045454545454545456\n",
      "0.04838709677419355\n",
      "0.04312354312354312\n",
      "0.050119331742243436\n",
      "0.04316546762589928\n",
      "0.0407673860911271\n",
      "0.037209302325581395\n",
      "0.04279279279279279\n",
      "0.0472636815920398\n",
      "0.04791154791154791\n",
      "0.04728132387706856\n",
      "0.045563549160671464\n",
      "0.041866028708133975\n",
      "0.04976303317535545\n",
      "0.04784688995215311\n",
      "0.04107981220657277\n",
      "0.047058823529411764\n",
      "0.0455607476635514\n",
      "0.0382830626450116\n",
      "0.05486284289276808\n",
      "0.046019900497512436\n",
      "0.04481132075471698\n",
      "0.04904306220095694\n",
      "0.04513888888888889\n",
      "0.04716981132075472\n",
      "0.04819277108433735\n",
      "0.05070754716981132\n",
      "0.05\n",
      "0.05223880597014925\n",
      "0.04819277108433735\n",
      "0.04524361948955916\n",
      "0.04225352112676056\n",
      "0.04425837320574163\n",
      "0.047058823529411764\n",
      "0.043942992874109264\n",
      "0.040145985401459854\n",
      "0.05405405405405406\n",
      "0.05609756097560976\n",
      "0.04784688995215311\n",
      "0.04939759036144578\n",
      "0.036281179138321996\n",
      "0.05070754716981132\n",
      "0.0502283105022831\n",
      "0.05134474327628362\n",
      "0.04215456674473068\n",
      "0.04784688995215311\n",
      "0.0485781990521327\n",
      "0.04739336492890995\n",
      "0.04196642685851319\n",
      "0.05434782608695652\n",
      "0.05434782608695652\n",
      "0.05\n",
      "0.041666666666666664\n",
      "0.04929577464788732\n",
      "0.043478260869565216\n",
      "0.036613272311212815\n",
      "0.04784688995215311\n",
      "0.04906542056074766\n",
      "0.0539568345323741\n"
     ]
    }
   ],
   "source": []
  },
  {
   "cell_type": "code",
   "execution_count": null,
   "metadata": {},
   "outputs": [],
   "source": []
  },
  {
   "cell_type": "code",
   "execution_count": null,
   "metadata": {},
   "outputs": [],
   "source": []
  }
 ],
 "metadata": {
  "kernelspec": {
   "display_name": "Python 3",
   "language": "python",
   "name": "python3"
  },
  "language_info": {
   "codemirror_mode": {
    "name": "ipython",
    "version": 3
   },
   "file_extension": ".py",
   "mimetype": "text/x-python",
   "name": "python",
   "nbconvert_exporter": "python",
   "pygments_lexer": "ipython3",
   "version": "3.7.4"
  }
 },
 "nbformat": 4,
 "nbformat_minor": 2
}
