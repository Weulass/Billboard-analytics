{
 "cells": [
  {
   "cell_type": "code",
   "execution_count": 220,
   "metadata": {},
   "outputs": [],
   "source": [
    "import pandas as pd\n",
    "from sklearn.model_selection import train_test_split\n",
    "import lightgbm as lgb\n",
    "import numpy as np\n",
    "from sklearn import preprocessing\n",
    "import pickle\n",
    "from sklearn.model_selection import StratifiedShuffleSplit"
   ]
  },
  {
   "cell_type": "code",
   "execution_count": 221,
   "metadata": {},
   "outputs": [],
   "source": [
    "with open('song_df_aggregate.pkl', 'rb') as f:\n",
    "        song_df= pickle.load(f)  "
   ]
  },
  {
   "cell_type": "code",
   "execution_count": 222,
   "metadata": {},
   "outputs": [
    {
     "data": {
      "text/plain": [
       "[0                       Lewis Capaldi\n",
       " 1                         Post Malone\n",
       " 2       Shawn Mendes & Camila Cabello\n",
       " 3                               Lizzo\n",
       " 4                        Selena Gomez\n",
       "                     ...              \n",
       " 8514                      Spice Girls\n",
       " 8515                           Phajja\n",
       " 8516               Sting & The Police\n",
       " 8517                     Shania Twain\n",
       " 8518                    Reba McEntire\n",
       " Name: artist, Length: 8519, dtype: object,\n",
       " 0                           Someone You Loved\n",
       " 1                                     Circles\n",
       " 2                                    Senorita\n",
       " 3                                 Truth Hurts\n",
       " 4                         Lose You To Love Me\n",
       "                         ...                  \n",
       " 8514                       Spice Up Your Life\n",
       " 8515               So Long (Well, Well, Well)\n",
       " 8516           Roxanne `97 - Puff Daddy Remix\n",
       " 8517    Don't Be Stupid (You Know I Love You)\n",
       " 8518                                  What If\n",
       " Name: title, Length: 8519, dtype: object,\n",
       " 0       False\n",
       " 1       False\n",
       " 2       False\n",
       " 3       False\n",
       " 4       False\n",
       "         ...  \n",
       " 8514    False\n",
       " 8515    False\n",
       " 8516    False\n",
       " 8517    False\n",
       " 8518    False\n",
       " Name: isnew, Length: 8519, dtype: object,\n",
       " 0         1\n",
       " 1         2\n",
       " 2         3\n",
       " 3         4\n",
       " 4         5\n",
       "        ... \n",
       " 8514     79\n",
       " 8515     93\n",
       " 8516     95\n",
       " 8517     99\n",
       " 8518    100\n",
       " Name: rank, Length: 8519, dtype: object,\n",
       " 0       2019-11-16\n",
       " 1       2019-11-16\n",
       " 2       2019-11-16\n",
       " 3       2019-11-16\n",
       " 4       2019-11-16\n",
       "            ...    \n",
       " 8514    1998-03-21\n",
       " 8515    1998-03-21\n",
       " 8516    1998-03-21\n",
       " 8517    1998-03-21\n",
       " 8518    1998-03-21\n",
       " Name: date, Length: 8519, dtype: object,\n",
       " 0       7qEHsqek33rTcFNT9PFqLf\n",
       " 1       21jGcNKet2qwijlDFuPiPb\n",
       " 2       0TK2YIli7K1leLovkQiNik\n",
       " 3       5qmq61DAAOUaW8AUo8xKhh\n",
       " 4       1HfMVBKM75vxSfsQ5VefZ5\n",
       "                  ...          \n",
       " 8514    5qGwqO0lkbBXw4xNfzT7SF\n",
       " 8515    7phS4S15qLjPC7JlFnzWql\n",
       " 8516    0RlWNvJKKp0gODH7sUwm1j\n",
       " 8517    6xAF3xYDK915NEvC6WNbj9\n",
       " 8518    1prRF2tbzAKFqUgjC90nxY\n",
       " Name: spotify_id, Length: 8519, dtype: object,\n",
       " 0       5658aM19fA3JVwTK6eQX70\n",
       " 1       4g1ZRSobMefqF6nelkgibi\n",
       " 2       2ZaX1FdZCwchXl1QZiD4O4\n",
       " 3       74gSdSHe71q7urGWMMn3qB\n",
       " 4       3tBkjgxDqAwss76O1YHsSY\n",
       "                  ...          \n",
       " 8514    3sr6lAuO3nmB1u8ZuQgpiX\n",
       " 8515    6qbvgcaWgMn2BQY6FhdOm2\n",
       " 8516    0Av1HIrrBAtIbQTaAqo8Lb\n",
       " 8517    4UMe0Ods7kygK6OISasZe9\n",
       " 8518    6kmMraTrCoePKYeqcl8KPL\n",
       " Name: spotify_album_id, Length: 8519, dtype: object,\n",
       " 0       2019-05-17\n",
       " 1       2019-09-06\n",
       " 2       2019-06-21\n",
       " 3       2019-05-03\n",
       " 4       2019-10-23\n",
       "            ...    \n",
       " 8514    1997-01-01\n",
       " 8515    2018-11-16\n",
       " 8516    2011-11-07\n",
       " 8517    1997-11-04\n",
       " 8518    2000-01-01\n",
       " Name: spotify_album_release_date, Length: 8519, dtype: object,\n",
       " 0       day\n",
       " 1       day\n",
       " 2       day\n",
       " 3       day\n",
       " 4       day\n",
       "        ... \n",
       " 8514    day\n",
       " 8515    day\n",
       " 8516    day\n",
       " 8517    day\n",
       " 8518    day\n",
       " Name: spotify_album_release_date_precision, Length: 8519, dtype: object,\n",
       " 0                            Vertigo Berlin\n",
       " 1                          Republic Records\n",
       " 2                            Island Records\n",
       " 3                        Nice Life/Atlantic\n",
       " 4                        Interscope Records\n",
       "                        ...                 \n",
       " 8514                         Virgin Records\n",
       " 8515    Warner Music Group - X5 Music Group\n",
       " 8516                 2011 Ameritz Music Ltd\n",
       " 8517                      Mercury Nashville\n",
       " 8518                          MCA Nashville\n",
       " Name: album_label, Length: 8519, dtype: object,\n",
       " 0                          Lewis CapaldiSomeone You Loved\n",
       " 1                                      Post MaloneCircles\n",
       " 2                   Shawn Mendes & Camila CabelloSenorita\n",
       " 3                                        LizzoTruth Hurts\n",
       " 4                         Selena GomezLose You To Love Me\n",
       "                               ...                        \n",
       " 8514                        Spice GirlsSpice Up Your Life\n",
       " 8515                     PhajjaSo Long (Well, Well, Well)\n",
       " 8516     Sting & The PoliceRoxanne `97 - Puff Daddy Remix\n",
       " 8517    Shania TwainDon't Be Stupid (You Know I Love You)\n",
       " 8518                                 Reba McEntireWhat If\n",
       " Name: join, Length: 8519, dtype: object,\n",
       " 0      2019-05-17\n",
       " 1      2019-09-06\n",
       " 2      2019-06-21\n",
       " 3      2019-05-03\n",
       " 4      2019-10-23\n",
       "           ...    \n",
       " 8514   1997-01-01\n",
       " 8515   2018-11-16\n",
       " 8516   2011-11-07\n",
       " 8517   1997-11-04\n",
       " 8518   2000-01-01\n",
       " Name: spotify_album_release_date_datetime, Length: 8519, dtype: datetime64[ns],\n",
       " 0      2019-05-25\n",
       " 1      2019-09-14\n",
       " 2      2019-07-06\n",
       " 3      2019-05-18\n",
       " 4      2019-11-02\n",
       "           ...    \n",
       " 8514   1998-03-21\n",
       " 8515   1998-03-21\n",
       " 8516   1998-03-21\n",
       " 8517   1998-03-21\n",
       " 8518   1998-03-21\n",
       " Name: datetime, Length: 8519, dtype: datetime64[ns],\n",
       " 0       2019-05-25\n",
       " 1       2019-09-14\n",
       " 2       2019-07-06\n",
       " 3       2019-05-18\n",
       " 4       2019-11-02\n",
       "            ...    \n",
       " 8514    1998-03-21\n",
       " 8515    1998-03-21\n",
       " 8516    1998-03-21\n",
       " 8517    1998-03-21\n",
       " 8518    1998-03-21\n",
       " Name: first_date, Length: 8519, dtype: object]"
      ]
     },
     "execution_count": 222,
     "metadata": {},
     "output_type": "execute_result"
    }
   ],
   "source": [
    "to_pop =[\"artist\",\"title\",\"isnew\",\"rank\",\"date\",\"spotify_id\",\"spotify_album_id\",\"spotify_album_release_date\",\n",
    "         \"spotify_album_release_date_precision\",\"album_label\",\"join\",\"spotify_album_release_date_datetime\",\n",
    "         \"datetime\",\"first_date\"]\n",
    "[song_df.pop(i) for i in to_pop]\n"
   ]
  },
  {
   "cell_type": "code",
   "execution_count": 223,
   "metadata": {},
   "outputs": [],
   "source": [
    "song_df.pop(\"bestrank\")\n",
    "song_df.pop(\"numberofappearances\")\n",
    "song_df = song_df.dropna()\n",
    "top10 = song_df.pop(\"top10\")\n"
   ]
  },
  {
   "cell_type": "code",
   "execution_count": 224,
   "metadata": {},
   "outputs": [
    {
     "data": {
      "text/plain": [
       "[1        True\n",
       " 2        True\n",
       " 4        True\n",
       " 6        True\n",
       " 7        True\n",
       "         ...  \n",
       " 8507     True\n",
       " 8510    False\n",
       " 8512    False\n",
       " 8516    False\n",
       " 8517    False\n",
       " Name: top50, Length: 6026, dtype: bool, 1        True\n",
       " 2        True\n",
       " 4        True\n",
       " 6        True\n",
       " 7        True\n",
       "         ...  \n",
       " 8507    False\n",
       " 8510    False\n",
       " 8512    False\n",
       " 8516    False\n",
       " 8517    False\n",
       " Name: top25, Length: 6026, dtype: bool, 1        True\n",
       " 2        True\n",
       " 4        True\n",
       " 6        True\n",
       " 7        True\n",
       "         ...  \n",
       " 8507     True\n",
       " 8510    False\n",
       " 8512     True\n",
       " 8516    False\n",
       " 8517    False\n",
       " Name: top75, Length: 6026, dtype: bool, 1        True\n",
       " 2        True\n",
       " 4        True\n",
       " 6       False\n",
       " 7       False\n",
       "         ...  \n",
       " 8507    False\n",
       " 8510    False\n",
       " 8512    False\n",
       " 8516    False\n",
       " 8517    False\n",
       " Name: top5, Length: 6026, dtype: bool]"
      ]
     },
     "execution_count": 224,
     "metadata": {},
     "output_type": "execute_result"
    }
   ],
   "source": [
    "to_pop =[\"top50\",\"top25\",\"top75\",\"top5\"]\n",
    "[song_df.pop(i) for i in to_pop]"
   ]
  },
  {
   "cell_type": "code",
   "execution_count": 225,
   "metadata": {},
   "outputs": [
    {
     "data": {
      "text/plain": [
       "[1       107.0\n",
       " 2        76.0\n",
       " 4        70.0\n",
       " 6       108.0\n",
       " 7       596.0\n",
       "         ...  \n",
       " 8507      8.0\n",
       " 8510     37.0\n",
       " 8512     14.0\n",
       " 8516      2.0\n",
       " 8517     73.0\n",
       " Name: label_appearance_count, Length: 6026, dtype: float64,\n",
       " 1        Great Label\n",
       " 2          Big Label\n",
       " 4          Big Label\n",
       " 6        Great Label\n",
       " 7         Mega Label\n",
       "             ...     \n",
       " 8507      Mini Label\n",
       " 8510    Decent Label\n",
       " 8512     Small Label\n",
       " 8516      Mini Label\n",
       " 8517       Big Label\n",
       " Name: label_category, Length: 6026, dtype: object,\n",
       " 1       161.0\n",
       " 2        92.0\n",
       " 4       297.0\n",
       " 6       118.0\n",
       " 7       599.0\n",
       "         ...  \n",
       " 8507    112.0\n",
       " 8510     37.0\n",
       " 8512     15.0\n",
       " 8516     58.0\n",
       " 8517     73.0\n",
       " Name: label_appearance_count_group, Length: 6026, dtype: float64,\n",
       " 1        9.0\n",
       " 2        6.0\n",
       " 4       10.0\n",
       " 6        6.0\n",
       " 7        6.0\n",
       "         ... \n",
       " 8507     1.0\n",
       " 8510     9.0\n",
       " 8512     3.0\n",
       " 8516    11.0\n",
       " 8517    11.0\n",
       " Name: release_month, Length: 6026, dtype: float64,\n",
       " 1       2019.0\n",
       " 2       2019.0\n",
       " 4       2019.0\n",
       " 6       2019.0\n",
       " 7       2019.0\n",
       "          ...  \n",
       " 8507    1997.0\n",
       " 8510    1997.0\n",
       " 8512    2009.0\n",
       " 8516    2011.0\n",
       " 8517    1997.0\n",
       " Name: release_year, Length: 6026, dtype: float64]"
      ]
     },
     "execution_count": 225,
     "metadata": {},
     "output_type": "execute_result"
    }
   ],
   "source": [
    "to_pop =[\"label_appearance_count\",\"label_category\",\"label_appearance_count_group\",\"release_month\",\"release_year\"]\n",
    "[song_df.pop(i) for i in to_pop]\n"
   ]
  },
  {
   "cell_type": "code",
   "execution_count": 226,
   "metadata": {},
   "outputs": [
    {
     "data": {
      "text/plain": [
       "[1       True\n",
       " 2       True\n",
       " 4       True\n",
       " 6       True\n",
       " 7       True\n",
       "         ... \n",
       " 8507    True\n",
       " 8510    True\n",
       " 8512    True\n",
       " 8516    True\n",
       " 8517    True\n",
       " Name: artist_has_award, Length: 6026, dtype: bool, 1       1.0\n",
       " 2       1.0\n",
       " 4       1.0\n",
       " 6       1.0\n",
       " 7       1.0\n",
       "        ... \n",
       " 8507    1.0\n",
       " 8510    1.0\n",
       " 8512    2.0\n",
       " 8516    1.0\n",
       " 8517    1.0\n",
       " Name: spotify_disc_number, Length: 6026, dtype: float64, 1       Platinum\n",
       " 2       Platinum\n",
       " 4       Platinum\n",
       " 6       Platinum\n",
       " 7       Platinum\n",
       "           ...   \n",
       " 8507        Gold\n",
       " 8510    Platinum\n",
       " 8512    Platinum\n",
       " 8516    Platinum\n",
       " 8517        Gold\n",
       " Name: last_award_type, Length: 6026, dtype: object, 1       1.0\n",
       " 2       0.0\n",
       " 4       1.0\n",
       " 6       0.0\n",
       " 7       0.0\n",
       "        ... \n",
       " 8507    1.0\n",
       " 8510    1.0\n",
       " 8512    1.0\n",
       " 8516    1.0\n",
       " 8517    1.0\n",
       " Name: spotify_mode, Length: 6026, dtype: float64, 1       1.0\n",
       " 2       2.0\n",
       " 4       1.0\n",
       " 6       2.0\n",
       " 7       1.0\n",
       "        ... \n",
       " 8507    1.0\n",
       " 8510    1.0\n",
       " 8512    1.0\n",
       " 8516    1.0\n",
       " 8517    1.0\n",
       " Name: num_artists, Length: 6026, dtype: float64, 1       4.0\n",
       " 2       4.0\n",
       " 4       4.0\n",
       " 6       4.0\n",
       " 7       4.0\n",
       "        ... \n",
       " 8507    4.0\n",
       " 8510    4.0\n",
       " 8512    4.0\n",
       " 8516    4.0\n",
       " 8517    4.0\n",
       " Name: spotify_time_signature, Length: 6026, dtype: float64, 1        album\n",
       " 2       single\n",
       " 4       single\n",
       " 6        album\n",
       " 7       single\n",
       "          ...  \n",
       " 8507     album\n",
       " 8510     album\n",
       " 8512     album\n",
       " 8516     album\n",
       " 8517     album\n",
       " Name: album_type, Length: 6026, dtype: object, 1       False\n",
       " 2       False\n",
       " 4       False\n",
       " 6        True\n",
       " 7       False\n",
       "         ...  \n",
       " 8507    False\n",
       " 8510    False\n",
       " 8512    False\n",
       " 8516    False\n",
       " 8517    False\n",
       " Name: spotify_explicit, Length: 6026, dtype: object]"
      ]
     },
     "execution_count": 226,
     "metadata": {},
     "output_type": "execute_result"
    }
   ],
   "source": [
    "to_pop =[\"artist_has_award\",\"spotify_disc_number\",\"last_award_type\",\"spotify_mode\",\"num_artists\",\"spotify_time_signature\",\"album_type\",\"spotify_explicit\"]\n",
    "[song_df.pop(i) for i in to_pop]\n"
   ]
  },
  {
   "cell_type": "code",
   "execution_count": 235,
   "metadata": {},
   "outputs": [],
   "source": [
    "song_df = song_df[song_df[\"firstrank\"] > 10]"
   ]
  },
  {
   "cell_type": "code",
   "execution_count": 236,
   "metadata": {},
   "outputs": [
    {
     "name": "stderr",
     "output_type": "stream",
     "text": [
      "/Users/iliasmiraoui/anaconda3/lib/python3.7/site-packages/ipykernel_launcher.py:3: SettingWithCopyWarning: \n",
      "A value is trying to be set on a copy of a slice from a DataFrame.\n",
      "Try using .loc[row_indexer,col_indexer] = value instead\n",
      "\n",
      "See the caveats in the documentation: http://pandas.pydata.org/pandas-docs/stable/user_guide/indexing.html#returning-a-view-versus-a-copy\n",
      "  This is separate from the ipykernel package so we can avoid doing imports until\n",
      "/Users/iliasmiraoui/anaconda3/lib/python3.7/site-packages/ipykernel_launcher.py:6: SettingWithCopyWarning: \n",
      "A value is trying to be set on a copy of a slice from a DataFrame.\n",
      "Try using .loc[row_indexer,col_indexer] = value instead\n",
      "\n",
      "See the caveats in the documentation: http://pandas.pydata.org/pandas-docs/stable/user_guide/indexing.html#returning-a-view-versus-a-copy\n",
      "  \n",
      "/Users/iliasmiraoui/anaconda3/lib/python3.7/site-packages/ipykernel_launcher.py:8: SettingWithCopyWarning: \n",
      "A value is trying to be set on a copy of a slice from a DataFrame.\n",
      "Try using .loc[row_indexer,col_indexer] = value instead\n",
      "\n",
      "See the caveats in the documentation: http://pandas.pydata.org/pandas-docs/stable/user_guide/indexing.html#returning-a-view-versus-a-copy\n",
      "  \n",
      "/Users/iliasmiraoui/anaconda3/lib/python3.7/site-packages/ipykernel_launcher.py:9: SettingWithCopyWarning: \n",
      "A value is trying to be set on a copy of a slice from a DataFrame.\n",
      "Try using .loc[row_indexer,col_indexer] = value instead\n",
      "\n",
      "See the caveats in the documentation: http://pandas.pydata.org/pandas-docs/stable/user_guide/indexing.html#returning-a-view-versus-a-copy\n",
      "  if __name__ == '__main__':\n"
     ]
    }
   ],
   "source": [
    "le = preprocessing.LabelEncoder()\n",
    "#song_df['spotify_explicit'] = le.fit_transform(song_df['spotify_explicit'])\n",
    "song_df['spotify_key'] = le.fit_transform(song_df['spotify_key'])\n",
    "#song_df['spotify_mode'] = le.fit_transform(song_df['spotify_mode'])\n",
    "#song_df['last_award_type'] = le.fit_transform(song_df['last_award_type'])\n",
    "song_df['label_category_group'] = le.fit_transform(song_df['label_category_group'])\n",
    "#song_df['album_type'] = le.fit_transform(song_df['album_type'])\n",
    "song_df['datetime_year'] = le.fit_transform(song_df['datetime_year'])\n",
    "song_df['datetime_month'] = le.fit_transform(song_df['datetime_month'])"
   ]
  },
  {
   "cell_type": "code",
   "execution_count": 237,
   "metadata": {},
   "outputs": [
    {
     "ename": "ValueError",
     "evalue": "Found input variables with inconsistent numbers of samples: [5828, 6026]",
     "output_type": "error",
     "traceback": [
      "\u001b[0;31m---------------------------------------------------------------------------\u001b[0m",
      "\u001b[0;31mValueError\u001b[0m                                Traceback (most recent call last)",
      "\u001b[0;32m<ipython-input-237-f38e20914014>\u001b[0m in \u001b[0;36m<module>\u001b[0;34m\u001b[0m\n\u001b[0;32m----> 1\u001b[0;31m \u001b[0mX_train\u001b[0m\u001b[0;34m,\u001b[0m \u001b[0mX_test\u001b[0m\u001b[0;34m,\u001b[0m \u001b[0my_train\u001b[0m\u001b[0;34m,\u001b[0m \u001b[0my_test\u001b[0m \u001b[0;34m=\u001b[0m \u001b[0mtrain_test_split\u001b[0m\u001b[0;34m(\u001b[0m\u001b[0msong_df\u001b[0m\u001b[0;34m,\u001b[0m \u001b[0mtop10\u001b[0m\u001b[0;34m,\u001b[0m \u001b[0mtest_size\u001b[0m\u001b[0;34m=\u001b[0m\u001b[0;36m0.3\u001b[0m\u001b[0;34m)\u001b[0m\u001b[0;34m\u001b[0m\u001b[0;34m\u001b[0m\u001b[0m\n\u001b[0m",
      "\u001b[0;32m~/anaconda3/lib/python3.7/site-packages/sklearn/model_selection/_split.py\u001b[0m in \u001b[0;36mtrain_test_split\u001b[0;34m(*arrays, **options)\u001b[0m\n\u001b[1;32m   2094\u001b[0m         \u001b[0;32mraise\u001b[0m \u001b[0mTypeError\u001b[0m\u001b[0;34m(\u001b[0m\u001b[0;34m\"Invalid parameters passed: %s\"\u001b[0m \u001b[0;34m%\u001b[0m \u001b[0mstr\u001b[0m\u001b[0;34m(\u001b[0m\u001b[0moptions\u001b[0m\u001b[0;34m)\u001b[0m\u001b[0;34m)\u001b[0m\u001b[0;34m\u001b[0m\u001b[0;34m\u001b[0m\u001b[0m\n\u001b[1;32m   2095\u001b[0m \u001b[0;34m\u001b[0m\u001b[0m\n\u001b[0;32m-> 2096\u001b[0;31m     \u001b[0marrays\u001b[0m \u001b[0;34m=\u001b[0m \u001b[0mindexable\u001b[0m\u001b[0;34m(\u001b[0m\u001b[0;34m*\u001b[0m\u001b[0marrays\u001b[0m\u001b[0;34m)\u001b[0m\u001b[0;34m\u001b[0m\u001b[0;34m\u001b[0m\u001b[0m\n\u001b[0m\u001b[1;32m   2097\u001b[0m \u001b[0;34m\u001b[0m\u001b[0m\n\u001b[1;32m   2098\u001b[0m     \u001b[0mn_samples\u001b[0m \u001b[0;34m=\u001b[0m \u001b[0m_num_samples\u001b[0m\u001b[0;34m(\u001b[0m\u001b[0marrays\u001b[0m\u001b[0;34m[\u001b[0m\u001b[0;36m0\u001b[0m\u001b[0;34m]\u001b[0m\u001b[0;34m)\u001b[0m\u001b[0;34m\u001b[0m\u001b[0;34m\u001b[0m\u001b[0m\n",
      "\u001b[0;32m~/anaconda3/lib/python3.7/site-packages/sklearn/utils/validation.py\u001b[0m in \u001b[0;36mindexable\u001b[0;34m(*iterables)\u001b[0m\n\u001b[1;32m    228\u001b[0m         \u001b[0;32melse\u001b[0m\u001b[0;34m:\u001b[0m\u001b[0;34m\u001b[0m\u001b[0;34m\u001b[0m\u001b[0m\n\u001b[1;32m    229\u001b[0m             \u001b[0mresult\u001b[0m\u001b[0;34m.\u001b[0m\u001b[0mappend\u001b[0m\u001b[0;34m(\u001b[0m\u001b[0mnp\u001b[0m\u001b[0;34m.\u001b[0m\u001b[0marray\u001b[0m\u001b[0;34m(\u001b[0m\u001b[0mX\u001b[0m\u001b[0;34m)\u001b[0m\u001b[0;34m)\u001b[0m\u001b[0;34m\u001b[0m\u001b[0;34m\u001b[0m\u001b[0m\n\u001b[0;32m--> 230\u001b[0;31m     \u001b[0mcheck_consistent_length\u001b[0m\u001b[0;34m(\u001b[0m\u001b[0;34m*\u001b[0m\u001b[0mresult\u001b[0m\u001b[0;34m)\u001b[0m\u001b[0;34m\u001b[0m\u001b[0;34m\u001b[0m\u001b[0m\n\u001b[0m\u001b[1;32m    231\u001b[0m     \u001b[0;32mreturn\u001b[0m \u001b[0mresult\u001b[0m\u001b[0;34m\u001b[0m\u001b[0;34m\u001b[0m\u001b[0m\n\u001b[1;32m    232\u001b[0m \u001b[0;34m\u001b[0m\u001b[0m\n",
      "\u001b[0;32m~/anaconda3/lib/python3.7/site-packages/sklearn/utils/validation.py\u001b[0m in \u001b[0;36mcheck_consistent_length\u001b[0;34m(*arrays)\u001b[0m\n\u001b[1;32m    203\u001b[0m     \u001b[0;32mif\u001b[0m \u001b[0mlen\u001b[0m\u001b[0;34m(\u001b[0m\u001b[0muniques\u001b[0m\u001b[0;34m)\u001b[0m \u001b[0;34m>\u001b[0m \u001b[0;36m1\u001b[0m\u001b[0;34m:\u001b[0m\u001b[0;34m\u001b[0m\u001b[0;34m\u001b[0m\u001b[0m\n\u001b[1;32m    204\u001b[0m         raise ValueError(\"Found input variables with inconsistent numbers of\"\n\u001b[0;32m--> 205\u001b[0;31m                          \" samples: %r\" % [int(l) for l in lengths])\n\u001b[0m\u001b[1;32m    206\u001b[0m \u001b[0;34m\u001b[0m\u001b[0m\n\u001b[1;32m    207\u001b[0m \u001b[0;34m\u001b[0m\u001b[0m\n",
      "\u001b[0;31mValueError\u001b[0m: Found input variables with inconsistent numbers of samples: [5828, 6026]"
     ]
    }
   ],
   "source": [
    "X_train, X_test, y_train, y_test = train_test_split(song_df, top10, test_size=0.3)"
   ]
  },
  {
   "cell_type": "code",
   "execution_count": 254,
   "metadata": {},
   "outputs": [
    {
     "name": "stdout",
     "output_type": "stream",
     "text": [
      "[1]\ttraining's auc: 0.647702\n",
      "Training until validation scores don't improve for 100 rounds\n",
      "[2]\ttraining's auc: 0.708717\n",
      "[3]\ttraining's auc: 0.79937\n",
      "[4]\ttraining's auc: 0.803496\n",
      "[5]\ttraining's auc: 0.806092\n",
      "[6]\ttraining's auc: 0.804919\n",
      "[7]\ttraining's auc: 0.807055\n",
      "[8]\ttraining's auc: 0.809757\n",
      "[9]\ttraining's auc: 0.829264\n",
      "[10]\ttraining's auc: 0.830278\n",
      "[11]\ttraining's auc: 0.843755\n",
      "[12]\ttraining's auc: 0.845357\n",
      "[13]\ttraining's auc: 0.851071\n",
      "[14]\ttraining's auc: 0.859908\n",
      "[15]\ttraining's auc: 0.862048\n",
      "[16]\ttraining's auc: 0.868791\n",
      "[17]\ttraining's auc: 0.872118\n",
      "[18]\ttraining's auc: 0.875665\n",
      "[19]\ttraining's auc: 0.875825\n",
      "[20]\ttraining's auc: 0.875107\n",
      "[21]\ttraining's auc: 0.877797\n",
      "[22]\ttraining's auc: 0.882392\n",
      "[23]\ttraining's auc: 0.887235\n",
      "[24]\ttraining's auc: 0.889362\n",
      "[25]\ttraining's auc: 0.891929\n",
      "[26]\ttraining's auc: 0.893624\n",
      "[27]\ttraining's auc: 0.896782\n",
      "[28]\ttraining's auc: 0.899038\n",
      "[29]\ttraining's auc: 0.901616\n",
      "[30]\ttraining's auc: 0.902158\n",
      "[31]\ttraining's auc: 0.904016\n",
      "[32]\ttraining's auc: 0.905408\n",
      "[33]\ttraining's auc: 0.906916\n",
      "[34]\ttraining's auc: 0.908295\n",
      "[35]\ttraining's auc: 0.909516\n",
      "[36]\ttraining's auc: 0.910649\n",
      "[37]\ttraining's auc: 0.911658\n",
      "[38]\ttraining's auc: 0.913443\n",
      "[39]\ttraining's auc: 0.91438\n",
      "[40]\ttraining's auc: 0.915459\n",
      "[41]\ttraining's auc: 0.917312\n",
      "[42]\ttraining's auc: 0.919337\n",
      "[43]\ttraining's auc: 0.920416\n",
      "[44]\ttraining's auc: 0.922315\n",
      "[45]\ttraining's auc: 0.923711\n",
      "[46]\ttraining's auc: 0.925433\n",
      "[47]\ttraining's auc: 0.927031\n",
      "[48]\ttraining's auc: 0.928207\n",
      "[49]\ttraining's auc: 0.929631\n",
      "[50]\ttraining's auc: 0.930352\n",
      "[51]\ttraining's auc: 0.930921\n",
      "[52]\ttraining's auc: 0.931506\n",
      "[53]\ttraining's auc: 0.931918\n",
      "[54]\ttraining's auc: 0.933151\n",
      "[55]\ttraining's auc: 0.934267\n",
      "[56]\ttraining's auc: 0.934801\n",
      "[57]\ttraining's auc: 0.935826\n",
      "[58]\ttraining's auc: 0.9369\n",
      "[59]\ttraining's auc: 0.93771\n",
      "[60]\ttraining's auc: 0.938026\n",
      "[61]\ttraining's auc: 0.939528\n",
      "[62]\ttraining's auc: 0.940762\n",
      "[63]\ttraining's auc: 0.941839\n",
      "[64]\ttraining's auc: 0.942969\n",
      "[65]\ttraining's auc: 0.943702\n",
      "[66]\ttraining's auc: 0.944684\n",
      "[67]\ttraining's auc: 0.945125\n",
      "[68]\ttraining's auc: 0.946074\n",
      "[69]\ttraining's auc: 0.946774\n",
      "[70]\ttraining's auc: 0.947035\n",
      "[71]\ttraining's auc: 0.947908\n",
      "[72]\ttraining's auc: 0.94845\n",
      "[73]\ttraining's auc: 0.948882\n",
      "[74]\ttraining's auc: 0.949457\n",
      "[75]\ttraining's auc: 0.950051\n",
      "[76]\ttraining's auc: 0.950407\n",
      "[77]\ttraining's auc: 0.950844\n",
      "[78]\ttraining's auc: 0.951221\n",
      "[79]\ttraining's auc: 0.951412\n",
      "[80]\ttraining's auc: 0.951832\n",
      "[81]\ttraining's auc: 0.952862\n",
      "[82]\ttraining's auc: 0.953541\n",
      "[83]\ttraining's auc: 0.954755\n",
      "[84]\ttraining's auc: 0.955526\n",
      "[85]\ttraining's auc: 0.95656\n",
      "[86]\ttraining's auc: 0.957277\n",
      "[87]\ttraining's auc: 0.958124\n",
      "[88]\ttraining's auc: 0.958616\n",
      "[89]\ttraining's auc: 0.959045\n",
      "[90]\ttraining's auc: 0.959946\n",
      "[91]\ttraining's auc: 0.96061\n",
      "[92]\ttraining's auc: 0.961076\n",
      "[93]\ttraining's auc: 0.961606\n",
      "[94]\ttraining's auc: 0.962184\n",
      "[95]\ttraining's auc: 0.962603\n",
      "[96]\ttraining's auc: 0.9629\n",
      "[97]\ttraining's auc: 0.963552\n",
      "[98]\ttraining's auc: 0.96406\n",
      "[99]\ttraining's auc: 0.964223\n",
      "[100]\ttraining's auc: 0.964708\n",
      "Did not meet early stopping. Best iteration is:\n",
      "[100]\ttraining's auc: 0.964708\n"
     ]
    }
   ],
   "source": [
    "# create dataset for lightgbm\n",
    "lgb_train = lgb.Dataset(X_train, y_train)\n",
    "#lgb_eval = lgb.Dataset(X_val, y_val, reference=lgb_train)\n",
    "\n",
    "\n",
    "#can replace 'is_unbalance': 'true', by 'scale_pos_weight': 10,\n",
    "\n",
    "parameters = {\n",
    "    'application': 'binary',\n",
    "    'objective': 'binary',\n",
    "    'metric': 'auc',\n",
    "    'boosting': 'gbdt',\n",
    "    'is_unbalance': 'true',\n",
    "    'num_leaves': 25,\n",
    "    'feature_fraction': 0.5,\n",
    "    'bagging_fraction': 0.5,\n",
    "    'bagging_freq': 20,\n",
    "    'learning_rate': 0.05,\n",
    "    'verbose': 0\n",
    "}\n",
    "\n",
    "model = lgb.train(parameters,\n",
    "                       lgb_train,\n",
    "                       valid_sets=lgb_train,\n",
    "                       num_boost_round=100,\n",
    "                       early_stopping_rounds=100)\n",
    "\n",
    "predictions = model.predict(X_test)\n"
   ]
  },
  {
   "cell_type": "code",
   "execution_count": 239,
   "metadata": {},
   "outputs": [
    {
     "data": {
      "image/png": "[encoded data removed]",
      "text/plain": [
       "<Figure size 432x288 with 1 Axes>"
      ]
     },
     "metadata": {
      "needs_background": "light"
     },
     "output_type": "display_data"
    }
   ],
   "source": [
    "import sklearn.metrics as metrics\n",
    "\n",
    "fpr, tpr, threshold = metrics.roc_curve(y_test, predictions)\n",
    "roc_auc = metrics.auc(fpr, tpr)\n",
    "\n",
    "# method I: plt\n",
    "import matplotlib.pyplot as plt\n",
    "%matplotlib inline\n",
    "plt.title('Receiver Operating Characteristic')\n",
    "plt.plot(fpr, tpr, 'b', label = 'AUC = %0.2f' % roc_auc)\n",
    "plt.legend(loc = 'lower right')\n",
    "plt.plot([0, 1], [0, 1],'r--')\n",
    "plt.xlim([0, 1])\n",
    "plt.ylim([0, 1])\n",
    "plt.ylabel('True Positive Rate')\n",
    "plt.xlabel('False Positive Rate')\n",
    "plt.show()"
   ]
  },
  {
   "cell_type": "code",
   "execution_count": 255,
   "metadata": {},
   "outputs": [
    {
     "data": {
      "image/png": "[encoded data removed]",
      "text/plain": [
       "<Figure size 432x288 with 1 Axes>"
      ]
     },
     "metadata": {
      "needs_background": "light"
     },
     "output_type": "display_data"
    }
   ],
   "source": [
    "from sklearn.metrics import precision_recall_curve\n",
    "# calculate precision-recall curve\n",
    "precision, recall, thresholds = precision_recall_curve(y_test,predictions)\n",
    "# calculate precision-recall AUC\n",
    "precision_auc = metrics.auc(recall, precision)\n",
    "\n",
    "plt.title('Receiver Operating Characteristic')\n",
    "plt.plot(thresholds, precision[:len(precision)-1], 'b', label = 'Precision AUC = %0.2f' % precision_auc)\n",
    "plt.legend(loc = 'lower right')\n",
    "plt.xlim([0, 1])\n",
    "plt.ylim([0, 1])\n",
    "plt.ylabel('Precision')\n",
    "plt.xlabel('Threshold')\n",
    "plt.show()"
   ]
  },
  {
   "cell_type": "code",
   "execution_count": 263,
   "metadata": {},
   "outputs": [
    {
     "data": {
      "text/plain": [
       "array([[1529,    0],\n",
       "       [ 230,   49]])"
      ]
     },
     "execution_count": 263,
     "metadata": {},
     "output_type": "execute_result"
    }
   ],
   "source": [
    "from sklearn.metrics import confusion_matrix\n",
    "\n",
    "predictions_matrix = [1 if pred > 0.90 else 0 for pred in predictions]\n",
    "confusion_matrix(y_test,predictions_matrix)"
   ]
  },
  {
   "cell_type": "code",
   "execution_count": 240,
   "metadata": {},
   "outputs": [
    {
     "name": "stdout",
     "output_type": "stream",
     "text": [
      "169 spotify_duration_ms\n",
      "79 spotify_track_number\n",
      "80 spotify_key\n",
      "159 spotify_danceability\n",
      "148 spotify_energy\n",
      "144 spotify_loudness\n",
      "145 spotify_speechiness\n",
      "175 spotify_acousticness\n",
      "77 spotify_instrumentalness\n",
      "154 spotify_liveness\n",
      "160 spotify_valence\n",
      "175 spotify_tempo\n",
      "103 award_num\n",
      "77 gold_count\n",
      "108 platinum_count\n",
      "59 num_songs_awards\n",
      "181 firstrank\n",
      "38 label_category_group\n",
      "103 datetime_year\n",
      "66 datetime_month\n"
     ]
    }
   ],
   "source": [
    "# Record the feature importances\n",
    "feature_importances = model.feature_importance()\n",
    "for i in range(len(feature_importances)):\n",
    "    print(feature_importances[i],X_train.columns[i])"
   ]
  },
  {
   "cell_type": "code",
   "execution_count": 241,
   "metadata": {},
   "outputs": [
    {
     "name": "stderr",
     "output_type": "stream",
     "text": [
      "/Users/iliasmiraoui/anaconda3/lib/python3.7/site-packages/sklearn/linear_model/logistic.py:432: FutureWarning: Default solver will be changed to 'lbfgs' in 0.22. Specify a solver to silence this warning.\n",
      "  FutureWarning)\n"
     ]
    },
    {
     "data": {
      "text/plain": [
       "LogisticRegression(C=1.0, class_weight=None, dual=False, fit_intercept=True,\n",
       "                   intercept_scaling=1, l1_ratio=None, max_iter=100,\n",
       "                   multi_class='warn', n_jobs=None, penalty='l2',\n",
       "                   random_state=None, solver='warn', tol=0.0001, verbose=0,\n",
       "                   warm_start=False)"
      ]
     },
     "execution_count": 241,
     "metadata": {},
     "output_type": "execute_result"
    }
   ],
   "source": [
    "from sklearn.linear_model import LogisticRegression\n",
    "from sklearn import metrics\n",
    "logreg = LogisticRegression()\n",
    "logreg.fit(X_train, y_train)"
   ]
  },
  {
   "cell_type": "code",
   "execution_count": 242,
   "metadata": {},
   "outputs": [
    {
     "name": "stdout",
     "output_type": "stream",
     "text": [
      "Accuracy of logistic regression classifier on test set: 0.86\n"
     ]
    }
   ],
   "source": [
    "y_pred = logreg.predict(X_test)\n",
    "print('Accuracy of logistic regression classifier on test set: {:.2f}'.format(logreg.score(X_test, y_test)))"
   ]
  },
  {
   "cell_type": "code",
   "execution_count": 246,
   "metadata": {},
   "outputs": [
    {
     "data": {
      "image/png": "[encoded data removed]",
      "text/plain": [
       "<Figure size 432x288 with 1 Axes>"
      ]
     },
     "metadata": {
      "needs_background": "light"
     },
     "output_type": "display_data"
    }
   ],
   "source": [
    "import sklearn.metrics as metrics\n",
    "\n",
    "fpr, tpr, threshold = metrics.roc_curve(y_test, y_pred)\n",
    "roc_auc = metrics.auc(fpr, tpr)\n",
    "\n",
    "# method I: plt\n",
    "import matplotlib.pyplot as plt\n",
    "%matplotlib inline\n",
    "plt.title('Receiver Operating Characteristic')\n",
    "plt.plot(fpr, tpr, 'b', label = 'AUC = %0.2f' % roc_auc)\n",
    "plt.legend(loc = 'lower right')\n",
    "plt.plot([0, 1], [0, 1],'r--')\n",
    "plt.xlim([0, 1])\n",
    "plt.ylim([0, 1])\n",
    "plt.ylabel('True Positive Rate')\n",
    "plt.xlabel('False Positive Rate')\n",
    "plt.show()"
   ]
  },
  {
   "cell_type": "code",
   "execution_count": 248,
   "metadata": {},
   "outputs": [
    {
     "data": {
      "text/plain": [
       "0.14575411913814956"
      ]
     },
     "execution_count": 248,
     "metadata": {},
     "output_type": "execute_result"
    }
   ],
   "source": [
    "230/1578"
   ]
  },
  {
   "cell_type": "code",
   "execution_count": null,
   "metadata": {},
   "outputs": [],
   "source": []
  }
 ],
 "metadata": {
  "kernelspec": {
   "display_name": "Python 3",
   "language": "python",
   "name": "python3"
  },
  "language_info": {
   "codemirror_mode": {
    "name": "ipython",
    "version": 3
   },
   "file_extension": ".py",
   "mimetype": "text/x-python",
   "name": "python",
   "nbconvert_exporter": "python",
   "pygments_lexer": "ipython3",
   "version": "3.7.4"
  }
 },
 "nbformat": 4,
 "nbformat_minor": 2
}
