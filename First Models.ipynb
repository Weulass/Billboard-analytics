{
 "cells": [
  {
   "cell_type": "code",
   "execution_count": 892,
   "metadata": {},
   "outputs": [],
   "source": [
    "import pandas as pd\n",
    "from sklearn.model_selection import train_test_split\n",
    "import lightgbm as lgb\n",
    "import numpy as np\n",
    "from sklearn import preprocessing\n",
    "import pickle\n",
    "from sklearn.model_selection import StratifiedShuffleSplit"
   ]
  },
  {
   "cell_type": "code",
   "execution_count": 893,
   "metadata": {},
   "outputs": [],
   "source": [
    "with open('song_df_aggregate.pkl', 'rb') as f:\n",
    "        song_df= pickle.load(f)  "
   ]
  },
  {
   "cell_type": "code",
   "execution_count": 323,
   "metadata": {},
   "outputs": [
    {
     "data": {
      "text/plain": [
       "[0                       Lewis Capaldi\n",
       " 1                         Post Malone\n",
       " 2       Shawn Mendes & Camila Cabello\n",
       " 3                               Lizzo\n",
       " 4                        Selena Gomez\n",
       "                     ...              \n",
       " 8514                      Spice Girls\n",
       " 8515                           Phajja\n",
       " 8516               Sting & The Police\n",
       " 8517                     Shania Twain\n",
       " 8518                    Reba McEntire\n",
       " Name: artist, Length: 8519, dtype: object,\n",
       " 0                           Someone You Loved\n",
       " 1                                     Circles\n",
       " 2                                    Senorita\n",
       " 3                                 Truth Hurts\n",
       " 4                         Lose You To Love Me\n",
       "                         ...                  \n",
       " 8514                       Spice Up Your Life\n",
       " 8515               So Long (Well, Well, Well)\n",
       " 8516           Roxanne `97 - Puff Daddy Remix\n",
       " 8517    Don't Be Stupid (You Know I Love You)\n",
       " 8518                                  What If\n",
       " Name: title, Length: 8519, dtype: object,\n",
       " 0       False\n",
       " 1       False\n",
       " 2       False\n",
       " 3       False\n",
       " 4       False\n",
       "         ...  \n",
       " 8514    False\n",
       " 8515    False\n",
       " 8516    False\n",
       " 8517    False\n",
       " 8518    False\n",
       " Name: isnew, Length: 8519, dtype: object,\n",
       " 0         1\n",
       " 1         2\n",
       " 2         3\n",
       " 3         4\n",
       " 4         5\n",
       "        ... \n",
       " 8514     79\n",
       " 8515     93\n",
       " 8516     95\n",
       " 8517     99\n",
       " 8518    100\n",
       " Name: rank, Length: 8519, dtype: object,\n",
       " 0       2019-11-16\n",
       " 1       2019-11-16\n",
       " 2       2019-11-16\n",
       " 3       2019-11-16\n",
       " 4       2019-11-16\n",
       "            ...    \n",
       " 8514    1998-03-21\n",
       " 8515    1998-03-21\n",
       " 8516    1998-03-21\n",
       " 8517    1998-03-21\n",
       " 8518    1998-03-21\n",
       " Name: date, Length: 8519, dtype: object,\n",
       " 0       7qEHsqek33rTcFNT9PFqLf\n",
       " 1       21jGcNKet2qwijlDFuPiPb\n",
       " 2       0TK2YIli7K1leLovkQiNik\n",
       " 3       5qmq61DAAOUaW8AUo8xKhh\n",
       " 4       1HfMVBKM75vxSfsQ5VefZ5\n",
       "                  ...          \n",
       " 8514    5qGwqO0lkbBXw4xNfzT7SF\n",
       " 8515    7phS4S15qLjPC7JlFnzWql\n",
       " 8516    0RlWNvJKKp0gODH7sUwm1j\n",
       " 8517    6xAF3xYDK915NEvC6WNbj9\n",
       " 8518    1prRF2tbzAKFqUgjC90nxY\n",
       " Name: spotify_id, Length: 8519, dtype: object,\n",
       " 0       5658aM19fA3JVwTK6eQX70\n",
       " 1       4g1ZRSobMefqF6nelkgibi\n",
       " 2       2ZaX1FdZCwchXl1QZiD4O4\n",
       " 3       74gSdSHe71q7urGWMMn3qB\n",
       " 4       3tBkjgxDqAwss76O1YHsSY\n",
       "                  ...          \n",
       " 8514    3sr6lAuO3nmB1u8ZuQgpiX\n",
       " 8515    6qbvgcaWgMn2BQY6FhdOm2\n",
       " 8516    0Av1HIrrBAtIbQTaAqo8Lb\n",
       " 8517    4UMe0Ods7kygK6OISasZe9\n",
       " 8518    6kmMraTrCoePKYeqcl8KPL\n",
       " Name: spotify_album_id, Length: 8519, dtype: object,\n",
       " 0       2019-05-17\n",
       " 1       2019-09-06\n",
       " 2       2019-06-21\n",
       " 3       2019-05-03\n",
       " 4       2019-10-23\n",
       "            ...    \n",
       " 8514    1997-01-01\n",
       " 8515    2018-11-16\n",
       " 8516    2011-11-07\n",
       " 8517    1997-11-04\n",
       " 8518    2000-01-01\n",
       " Name: spotify_album_release_date, Length: 8519, dtype: object,\n",
       " 0       day\n",
       " 1       day\n",
       " 2       day\n",
       " 3       day\n",
       " 4       day\n",
       "        ... \n",
       " 8514    day\n",
       " 8515    day\n",
       " 8516    day\n",
       " 8517    day\n",
       " 8518    day\n",
       " Name: spotify_album_release_date_precision, Length: 8519, dtype: object,\n",
       " 0                            Vertigo Berlin\n",
       " 1                          Republic Records\n",
       " 2                            Island Records\n",
       " 3                        Nice Life/Atlantic\n",
       " 4                        Interscope Records\n",
       "                        ...                 \n",
       " 8514                         Virgin Records\n",
       " 8515    Warner Music Group - X5 Music Group\n",
       " 8516                 2011 Ameritz Music Ltd\n",
       " 8517                      Mercury Nashville\n",
       " 8518                          MCA Nashville\n",
       " Name: album_label, Length: 8519, dtype: object,\n",
       " 0                          Lewis CapaldiSomeone You Loved\n",
       " 1                                      Post MaloneCircles\n",
       " 2                   Shawn Mendes & Camila CabelloSenorita\n",
       " 3                                        LizzoTruth Hurts\n",
       " 4                         Selena GomezLose You To Love Me\n",
       "                               ...                        \n",
       " 8514                        Spice GirlsSpice Up Your Life\n",
       " 8515                     PhajjaSo Long (Well, Well, Well)\n",
       " 8516     Sting & The PoliceRoxanne `97 - Puff Daddy Remix\n",
       " 8517    Shania TwainDon't Be Stupid (You Know I Love You)\n",
       " 8518                                 Reba McEntireWhat If\n",
       " Name: join, Length: 8519, dtype: object,\n",
       " 0      2019-05-17\n",
       " 1      2019-09-06\n",
       " 2      2019-06-21\n",
       " 3      2019-05-03\n",
       " 4      2019-10-23\n",
       "           ...    \n",
       " 8514   1997-01-01\n",
       " 8515   2018-11-16\n",
       " 8516   2011-11-07\n",
       " 8517   1997-11-04\n",
       " 8518   2000-01-01\n",
       " Name: spotify_album_release_date_datetime, Length: 8519, dtype: datetime64[ns],\n",
       " 0      2019-05-25\n",
       " 1      2019-09-14\n",
       " 2      2019-07-06\n",
       " 3      2019-05-18\n",
       " 4      2019-11-02\n",
       "           ...    \n",
       " 8514   1998-03-21\n",
       " 8515   1998-03-21\n",
       " 8516   1998-03-21\n",
       " 8517   1998-03-21\n",
       " 8518   1998-03-21\n",
       " Name: datetime, Length: 8519, dtype: datetime64[ns],\n",
       " 0       2019-05-25\n",
       " 1       2019-09-14\n",
       " 2       2019-07-06\n",
       " 3       2019-05-18\n",
       " 4       2019-11-02\n",
       "            ...    \n",
       " 8514    1998-03-21\n",
       " 8515    1998-03-21\n",
       " 8516    1998-03-21\n",
       " 8517    1998-03-21\n",
       " 8518    1998-03-21\n",
       " Name: first_date, Length: 8519, dtype: object]"
      ]
     },
     "execution_count": 323,
     "metadata": {},
     "output_type": "execute_result"
    }
   ],
   "source": [
    "song_df = song_df[song_df[\"firstrank\"] > 10]\n",
    "\n",
    "to_pop =[\"artist\",\"title\",\"isnew\",\"rank\",\"date\",\"spotify_id\",\"spotify_album_id\",\"spotify_album_release_date\",\n",
    "         \"spotify_album_release_date_precision\",\"album_label\",\"join\",\"spotify_album_release_date_datetime\",\n",
    "         \"datetime\",\"first_date\"]\n",
    "[song_df.pop(i) for i in to_pop]\n",
    "\n",
    "\n",
    "song_df.pop(\"bestrank\")\n",
    "song_df.pop(\"numberofappearances\")\n",
    "song_df = song_df.dropna()\n",
    "top10 = song_df.pop(\"top10\")\n",
    "\n",
    "to_pop =[\"top50\",\"top25\",\"top75\",\"top5\"]\n",
    "[song_df.pop(i) for i in to_pop]\n",
    "\n",
    "to_pop =[\"label_appearance_count\",\"label_category\",\"label_appearance_count_group\",\"release_month\",\"release_year\"]\n",
    "[song_df.pop(i) for i in to_pop]\n",
    "\n",
    "to_pop =[\"artist_has_award\",\"spotify_disc_number\",\"last_award_type\",\"spotify_mode\",\"num_artists\",\"spotify_time_signature\",\"album_type\",\"spotify_explicit\"]\n",
    "[song_df.pop(i) for i in to_pop]"
   ]
  },
  {
   "cell_type": "code",
   "execution_count": 344,
   "metadata": {},
   "outputs": [],
   "source": [
    "le = preprocessing.LabelEncoder()\n",
    "song_df['spotify_key'] = le.fit_transform(song_df['spotify_key'])\n",
    "song_df['label_category_group'] = le.fit_transform(song_df['label_category_group'])\n",
    "song_df['datetime_year'] = le.fit_transform(song_df['datetime_year'])\n",
    "song_df['datetime_month'] = le.fit_transform(song_df['datetime_month'])"
   ]
  },
  {
   "cell_type": "code",
   "execution_count": 329,
   "metadata": {},
   "outputs": [],
   "source": [
    "X_train, X_test, y_train, y_test = train_test_split(song_df, top10, test_size=0.2)"
   ]
  },
  {
   "cell_type": "code",
   "execution_count": 896,
   "metadata": {},
   "outputs": [],
   "source": [
    "with open('test_set.pkl', 'rb') as f:\n",
    "        X_test= pickle.load(f)  \n",
    "with open('train_set.pkl', 'rb') as f:\n",
    "        X_train= pickle.load(f)  \n",
    "with open('ytest.pkl', 'rb') as f:\n",
    "        y_test= pickle.load(f)  \n",
    "with open('ytrain.pkl', 'rb') as f:\n",
    "        y_train= pickle.load(f)  \n",
    "for i in [X_train,X_test]:\n",
    "    #i.pop(\"spotify_explicit\")\n",
    "    #i.pop(\"spotify_mode\")\n",
    "   #i.pop(\"num_artists\")\n",
    "    i.pop(\"artist_has_award\")\n",
    "    #i.pop(\"album_type\")\n",
    "    #i.pop(\"gold_count\")\n",
    "    #i.pop(\"spotify_time_signature\")\n",
    "    #i.pop(\"datetime_month\")\n",
    "    #i.pop(\"award_num\")\n",
    "    #i.pop(\"label_category_group\")\n",
    "    #i.pop(\"datetime_year\")\n",
    "    #i.pop(\"firstrank\")\n",
    "    #i.pop(\"num_songs_awards\")\n",
    "    #i.pop(\"platinum_count\")"
   ]
  },
  {
   "cell_type": "code",
   "execution_count": 895,
   "metadata": {},
   "outputs": [],
   "source": [
    "from sklearn.decomposition import PCA\n",
    "pca = PCA(n_components=5)\n",
    "principalComponents = pca.fit(X_train)\n",
    "X_train = pca.transform(X_train)\n",
    "X_test = pca.transform(X_test)"
   ]
  },
  {
   "cell_type": "code",
   "execution_count": 846,
   "metadata": {},
   "outputs": [
    {
     "data": {
      "text/plain": [
       "96"
      ]
     },
     "execution_count": 846,
     "metadata": {},
     "output_type": "execute_result"
    }
   ],
   "source": [
    "len(y_test[y_test[\"top10\"]==1])"
   ]
  },
  {
   "cell_type": "code",
   "execution_count": 897,
   "metadata": {},
   "outputs": [
    {
     "name": "stdout",
     "output_type": "stream",
     "text": [
      "[1]\ttraining's auc: 0.643692\n",
      "Training until validation scores don't improve for 100 rounds\n",
      "[2]\ttraining's auc: 0.711374\n",
      "[3]\ttraining's auc: 0.75586\n",
      "[4]\ttraining's auc: 0.769595\n",
      "[5]\ttraining's auc: 0.780106\n",
      "[6]\ttraining's auc: 0.789227\n",
      "[7]\ttraining's auc: 0.800747\n",
      "[8]\ttraining's auc: 0.805211\n",
      "[9]\ttraining's auc: 0.806446\n",
      "[10]\ttraining's auc: 0.811684\n",
      "[11]\ttraining's auc: 0.819147\n",
      "[12]\ttraining's auc: 0.820416\n",
      "[13]\ttraining's auc: 0.8233\n",
      "[14]\ttraining's auc: 0.825859\n",
      "[15]\ttraining's auc: 0.832436\n",
      "[16]\ttraining's auc: 0.83428\n",
      "[17]\ttraining's auc: 0.837645\n",
      "[18]\ttraining's auc: 0.837637\n",
      "[19]\ttraining's auc: 0.838567\n",
      "[20]\ttraining's auc: 0.840964\n",
      "[21]\ttraining's auc: 0.845303\n",
      "[22]\ttraining's auc: 0.846865\n",
      "[23]\ttraining's auc: 0.84915\n",
      "[24]\ttraining's auc: 0.851562\n",
      "[25]\ttraining's auc: 0.854607\n",
      "[26]\ttraining's auc: 0.857947\n",
      "[27]\ttraining's auc: 0.861008\n",
      "[28]\ttraining's auc: 0.861555\n",
      "[29]\ttraining's auc: 0.861983\n",
      "[30]\ttraining's auc: 0.863747\n",
      "[31]\ttraining's auc: 0.865241\n",
      "[32]\ttraining's auc: 0.866827\n",
      "[33]\ttraining's auc: 0.868634\n",
      "[34]\ttraining's auc: 0.870392\n",
      "[35]\ttraining's auc: 0.871389\n",
      "[36]\ttraining's auc: 0.872406\n",
      "[37]\ttraining's auc: 0.873269\n",
      "[38]\ttraining's auc: 0.874017\n",
      "[39]\ttraining's auc: 0.874683\n",
      "[40]\ttraining's auc: 0.875904\n",
      "[41]\ttraining's auc: 0.878201\n",
      "[42]\ttraining's auc: 0.879596\n",
      "[43]\ttraining's auc: 0.880922\n",
      "[44]\ttraining's auc: 0.882366\n",
      "[45]\ttraining's auc: 0.883077\n",
      "[46]\ttraining's auc: 0.884596\n",
      "[47]\ttraining's auc: 0.886087\n",
      "[48]\ttraining's auc: 0.887161\n",
      "[49]\ttraining's auc: 0.888166\n",
      "[50]\ttraining's auc: 0.889297\n",
      "[51]\ttraining's auc: 0.890291\n",
      "[52]\ttraining's auc: 0.89158\n",
      "[53]\ttraining's auc: 0.892811\n",
      "[54]\ttraining's auc: 0.893411\n",
      "[55]\ttraining's auc: 0.894275\n",
      "[56]\ttraining's auc: 0.894922\n",
      "[57]\ttraining's auc: 0.895249\n",
      "[58]\ttraining's auc: 0.896216\n",
      "[59]\ttraining's auc: 0.897013\n",
      "[60]\ttraining's auc: 0.89791\n",
      "[61]\ttraining's auc: 0.899413\n",
      "[62]\ttraining's auc: 0.900258\n",
      "[63]\ttraining's auc: 0.901307\n",
      "[64]\ttraining's auc: 0.901969\n",
      "[65]\ttraining's auc: 0.903468\n",
      "[66]\ttraining's auc: 0.903974\n",
      "[67]\ttraining's auc: 0.904553\n",
      "[68]\ttraining's auc: 0.905384\n",
      "[69]\ttraining's auc: 0.906047\n",
      "[70]\ttraining's auc: 0.906728\n",
      "[71]\ttraining's auc: 0.90744\n",
      "[72]\ttraining's auc: 0.907914\n",
      "[73]\ttraining's auc: 0.908111\n",
      "[74]\ttraining's auc: 0.909242\n",
      "[75]\ttraining's auc: 0.909764\n",
      "[76]\ttraining's auc: 0.910469\n",
      "[77]\ttraining's auc: 0.910805\n",
      "[78]\ttraining's auc: 0.911124\n",
      "[79]\ttraining's auc: 0.911581\n",
      "[80]\ttraining's auc: 0.911723\n",
      "[81]\ttraining's auc: 0.913092\n",
      "[82]\ttraining's auc: 0.914287\n",
      "[83]\ttraining's auc: 0.915733\n",
      "[84]\ttraining's auc: 0.916579\n",
      "[85]\ttraining's auc: 0.917977\n",
      "[86]\ttraining's auc: 0.918532\n",
      "[87]\ttraining's auc: 0.919073\n",
      "[88]\ttraining's auc: 0.920171\n",
      "[89]\ttraining's auc: 0.920954\n",
      "[90]\ttraining's auc: 0.921884\n",
      "[91]\ttraining's auc: 0.9228\n",
      "[92]\ttraining's auc: 0.923402\n",
      "[93]\ttraining's auc: 0.924192\n",
      "[94]\ttraining's auc: 0.924964\n",
      "[95]\ttraining's auc: 0.925526\n",
      "[96]\ttraining's auc: 0.926369\n",
      "[97]\ttraining's auc: 0.926849\n",
      "[98]\ttraining's auc: 0.927055\n",
      "[99]\ttraining's auc: 0.927855\n",
      "[100]\ttraining's auc: 0.928613\n",
      "Did not meet early stopping. Best iteration is:\n",
      "[100]\ttraining's auc: 0.928613\n"
     ]
    }
   ],
   "source": [
    "# create dataset for lightgbm\n",
    "lgb_train = lgb.Dataset(X_train, y_train)\n",
    "#lgb_eval = lgb.Dataset(X_val, y_val, reference=lgb_train)\n",
    "\n",
    "\n",
    "#can replace 'is_unbalance': 'true', by 'scale_pos_weight': 10,\n",
    "\n",
    "parameters = {\n",
    "    'application': 'binary',\n",
    "    'objective': 'binary',\n",
    "    'metric': 'auc',\n",
    "    'boosting': 'gbdt',\n",
    "    'is_unbalance': 'true',\n",
    "    'num_leaves': 25,\n",
    "    'feature_fraction': 0.5,\n",
    "    'bagging_fraction': 0.5,\n",
    "    'bagging_freq': 20,\n",
    "    'learning_rate': 0.05,\n",
    "    'verbose': 0\n",
    "}\n",
    "\n",
    "model = lgb.train(parameters,\n",
    "                       lgb_train,\n",
    "                       valid_sets=lgb_train,\n",
    "                       num_boost_round=100,\n",
    "                       early_stopping_rounds=100)\n",
    "\n",
    "predictions = model.predict(X_test)\n"
   ]
  },
  {
   "cell_type": "code",
   "execution_count": 898,
   "metadata": {},
   "outputs": [
    {
     "data": {
      "image/png": "[encoded data removed]",
      "text/plain": [
       "<Figure size 432x288 with 1 Axes>"
      ]
     },
     "metadata": {
      "needs_background": "light"
     },
     "output_type": "display_data"
    }
   ],
   "source": [
    "import sklearn.metrics as metrics\n",
    "\n",
    "fpr, tpr, threshold = metrics.roc_curve(y_test, predictions)\n",
    "roc_auc = metrics.auc(fpr, tpr)\n",
    "\n",
    "# method I: plt\n",
    "import matplotlib.pyplot as plt\n",
    "%matplotlib inline\n",
    "plt.title('Receiver Operating Characteristic')\n",
    "plt.plot(fpr, tpr, 'b', label = 'AUC = %0.2f' % roc_auc)\n",
    "plt.legend(loc = 'lower right')\n",
    "plt.plot([0, 1], [0, 1],'r--')\n",
    "plt.xlim([0, 1])\n",
    "plt.ylim([0, 1])\n",
    "plt.ylabel('True Positive Rate')\n",
    "plt.xlabel('False Positive Rate')\n",
    "plt.show()"
   ]
  },
  {
   "cell_type": "code",
   "execution_count": 899,
   "metadata": {},
   "outputs": [
    {
     "data": {
      "image/png": "[encoded data removed]",
      "text/plain": [
       "<Figure size 432x288 with 1 Axes>"
      ]
     },
     "metadata": {
      "needs_background": "light"
     },
     "output_type": "display_data"
    }
   ],
   "source": [
    "from sklearn.metrics import precision_recall_curve\n",
    "# calculate precision-recall curve\n",
    "precision, recall, thresholds = precision_recall_curve(y_test,predictions)\n",
    "# calculate precision-recall AUC\n",
    "precision_auc = metrics.auc(recall, precision)\n",
    "\n",
    "plt.title('Receiver Operating Characteristic')\n",
    "plt.plot(thresholds, precision[:len(precision)-1], 'b', label = 'Precision AUC = %0.2f' % precision_auc)\n",
    "plt.legend(loc = 'lower right')\n",
    "plt.xlim([0, 1])\n",
    "plt.ylim([0, 1])\n",
    "plt.ylabel('Precision')\n",
    "plt.xlabel('Threshold')\n",
    "plt.show()"
   ]
  },
  {
   "cell_type": "code",
   "execution_count": 900,
   "metadata": {},
   "outputs": [
    {
     "data": {
      "text/plain": [
       "array([[1505,    1],\n",
       "       [  92,    4]])"
      ]
     },
     "execution_count": 900,
     "metadata": {},
     "output_type": "execute_result"
    }
   ],
   "source": [
    "from sklearn.metrics import confusion_matrix\n",
    "\n",
    "predictions_matrix = [1 if pred > 0.85 else 0 for pred in predictions]\n",
    "confusion_matrix(y_test,predictions_matrix)"
   ]
  },
  {
   "cell_type": "code",
   "execution_count": 845,
   "metadata": {},
   "outputs": [
    {
     "data": {
      "image/png": "[encoded data removed]",
      "text/plain": [
       "<Figure size 432x288 with 1 Axes>"
      ]
     },
     "metadata": {
      "needs_background": "light"
     },
     "output_type": "display_data"
    },
    {
     "name": "stdout",
     "output_type": "stream",
     "text": [
      "95.0 confidence interval 11.7% and 25.3%\n"
     ]
    }
   ],
   "source": [
    "from sklearn.utils import resample\n",
    "df = X_test\n",
    "df[\"top10\"] = y_test.values\n",
    "stats = list()\n",
    "for i in range(10000):\n",
    "    boot = resample(df, replace=True, n_samples=1000)\n",
    "    boot_y = boot.pop(\"top10\")\n",
    "    boot_pred = model.predict(boot)\n",
    "    predictions_matrix = [1 if pred > 0.8 else 0 for pred in boot_pred]\n",
    "    precision = (confusion_matrix(boot_y,predictions_matrix)[1][1]) / (confusion_matrix(boot_y,predictions_matrix)[0][1] + confusion_matrix(boot_y,predictions_matrix)[0][1]) \n",
    "    stats.append(precision)\n",
    "    \n",
    "# plot scores\n",
    "plt.hist(stats)\n",
    "plt.show()\n",
    "# confidence intervals\n",
    "alpha = 0.95\n",
    "p = ((1.0-alpha)/2.0) * 100\n",
    "lower = max(0.0, np.percentile(stats, p))\n",
    "p = (alpha+((1.0-alpha)/2.0)) * 100\n",
    "upper = min(1.0, np.percentile(stats, p))\n",
    "print('%.1f confidence interval %.1f%% and %.1f%%' % (alpha*100, lower*100, upper*100))"
   ]
  },
  {
   "cell_type": "code",
   "execution_count": 795,
   "metadata": {},
   "outputs": [
    {
     "name": "stdout",
     "output_type": "stream",
     "text": [
      "17 spotify_explicit\n",
      "187 spotify_duration_ms\n",
      "75 spotify_track_number\n",
      "146 spotify_danceability\n",
      "164 spotify_energy\n",
      "145 spotify_loudness\n",
      "28 spotify_mode\n",
      "182 spotify_speechiness\n",
      "174 spotify_acousticness\n",
      "90 spotify_instrumentalness\n",
      "121 spotify_liveness\n",
      "167 spotify_valence\n",
      "161 spotify_tempo\n",
      "10 spotify_time_signature\n",
      "31 num_artists\n",
      "82 award_num\n",
      "81 gold_count\n",
      "66 platinum_count\n",
      "3 artist_has_award\n",
      "38 num_songs_awards\n",
      "148 firstrank\n",
      "64 label_category_group\n",
      "29 album_type\n",
      "141 datetime_year\n",
      "50 datetime_month\n"
     ]
    }
   ],
   "source": [
    "# Record the feature importances\n",
    "feature_importances = model.feature_importance()\n",
    "for i in range(len(feature_importances)):\n",
    "    print(feature_importances[i],X_train.columns[i])"
   ]
  },
  {
   "cell_type": "code",
   "execution_count": 902,
   "metadata": {},
   "outputs": [
    {
     "name": "stderr",
     "output_type": "stream",
     "text": [
      "/Users/iliasmiraoui/anaconda3/lib/python3.7/site-packages/sklearn/utils/validation.py:724: DataConversionWarning: A column-vector y was passed when a 1d array was expected. Please change the shape of y to (n_samples, ), for example using ravel().\n",
      "  y = column_or_1d(y, warn=True)\n"
     ]
    }
   ],
   "source": [
    "from imblearn.over_sampling import SMOTE\n",
    "\n",
    "sm = SMOTE(random_state=27, ratio=1.0)\n",
    "X_train, y_train = sm.fit_sample(X_train, y_train)"
   ]
  },
  {
   "cell_type": "code",
   "execution_count": 810,
   "metadata": {},
   "outputs": [
    {
     "data": {
      "text/plain": [
       "'X_train[\"top10\"] = y_train\\nX_train = X_train.sample(frac=1)\\ntop_df = X_train.loc[X_train[\\'top10\\'] == 1]\\nnon_top_df = X_train.loc[X_train[\\'top10\\'] == 0][:600]\\nX_train = pd.concat([top_df, non_top_df])\\ny_train = X_train.pop(\"top10\")'"
      ]
     },
     "execution_count": 810,
     "metadata": {},
     "output_type": "execute_result"
    }
   ],
   "source": [
    "'''X_train[\"top10\"] = y_train\n",
    "X_train = X_train.sample(frac=1)\n",
    "top_df = X_train.loc[X_train['top10'] == 1]\n",
    "non_top_df = X_train.loc[X_train['top10'] == 0][:600]\n",
    "X_train = pd.concat([top_df, non_top_df])\n",
    "y_train = X_train.pop(\"top10\")'''"
   ]
  },
  {
   "cell_type": "code",
   "execution_count": 901,
   "metadata": {},
   "outputs": [
    {
     "name": "stderr",
     "output_type": "stream",
     "text": [
      "/Users/iliasmiraoui/anaconda3/lib/python3.7/site-packages/sklearn/linear_model/logistic.py:432: FutureWarning: Default solver will be changed to 'lbfgs' in 0.22. Specify a solver to silence this warning.\n",
      "  FutureWarning)\n",
      "/Users/iliasmiraoui/anaconda3/lib/python3.7/site-packages/sklearn/utils/validation.py:724: DataConversionWarning: A column-vector y was passed when a 1d array was expected. Please change the shape of y to (n_samples, ), for example using ravel().\n",
      "  y = column_or_1d(y, warn=True)\n"
     ]
    },
    {
     "data": {
      "text/plain": [
       "LogisticRegression(C=1.0, class_weight=None, dual=False, fit_intercept=True,\n",
       "                   intercept_scaling=1, l1_ratio=None, max_iter=100,\n",
       "                   multi_class='warn', n_jobs=None, penalty='l2',\n",
       "                   random_state=None, solver='warn', tol=0.0001, verbose=0,\n",
       "                   warm_start=False)"
      ]
     },
     "execution_count": 901,
     "metadata": {},
     "output_type": "execute_result"
    }
   ],
   "source": [
    "from sklearn.linear_model import LogisticRegression\n",
    "from sklearn import metrics\n",
    "logreg = LogisticRegression()\n",
    "logreg.fit(X_train, y_train)"
   ]
  },
  {
   "cell_type": "code",
   "execution_count": 854,
   "metadata": {},
   "outputs": [
    {
     "name": "stdout",
     "output_type": "stream",
     "text": [
      "Accuracy of logistic regression classifier on test set: 0.59\n"
     ]
    }
   ],
   "source": [
    "y_pred = logreg.predict(X_test)\n",
    "print('Accuracy of logistic regression classifier on test set: {:.2f}'.format(logreg.score(X_test, y_test)))"
   ]
  },
  {
   "cell_type": "code",
   "execution_count": 903,
   "metadata": {},
   "outputs": [
    {
     "data": {
      "image/png": "[encoded data removed]",
      "text/plain": [
       "<Figure size 432x288 with 1 Axes>"
      ]
     },
     "metadata": {
      "needs_background": "light"
     },
     "output_type": "display_data"
    }
   ],
   "source": [
    "import sklearn.metrics as metrics\n",
    "\n",
    "fpr, tpr, threshold = metrics.roc_curve(y_test, y_pred)\n",
    "roc_auc = metrics.auc(fpr, tpr)\n",
    "\n",
    "# method I: plt\n",
    "import matplotlib.pyplot as plt\n",
    "%matplotlib inline\n",
    "plt.title('Receiver Operating Characteristic')\n",
    "plt.plot(fpr, tpr, 'b', label = 'AUC = %0.2f' % roc_auc)\n",
    "plt.legend(loc = 'lower right')\n",
    "plt.plot([0, 1], [0, 1],'r--')\n",
    "plt.xlim([0, 1])\n",
    "plt.ylim([0, 1])\n",
    "plt.ylabel('True Positive Rate')\n",
    "plt.xlabel('False Positive Rate')\n",
    "plt.savefig(\"Logisticregression\")\n",
    "plt.show()\n"
   ]
  },
  {
   "cell_type": "code",
   "execution_count": 904,
   "metadata": {},
   "outputs": [
    {
     "data": {
      "image/png": "[encoded data removed]",
      "text/plain": [
       "<Figure size 432x288 with 1 Axes>"
      ]
     },
     "metadata": {
      "needs_background": "light"
     },
     "output_type": "display_data"
    }
   ],
   "source": [
    "from sklearn.metrics import precision_recall_curve\n",
    "# calculate precision-recall curve\n",
    "precision, recall, thresholds = precision_recall_curve(y_test,predictions)\n",
    "# calculate precision-recall AUC\n",
    "precision_auc = metrics.auc(recall, precision)\n",
    "\n",
    "plt.title('Precision Depending on the Threshold')\n",
    "plt.plot(thresholds, precision[:len(precision)-1], 'b')\n",
    "plt.xlim([0, 1])\n",
    "plt.ylim([0, 1])\n",
    "plt.ylabel('Precision')\n",
    "plt.xlabel('Threshold')\n",
    "plt.savefig(\"PrecisionLogistic\")\n",
    "plt.show()"
   ]
  },
  {
   "cell_type": "code",
   "execution_count": 906,
   "metadata": {},
   "outputs": [
    {
     "data": {
      "text/plain": [
       "array([[1424,   82],\n",
       "       [  78,   18]])"
      ]
     },
     "execution_count": 906,
     "metadata": {},
     "output_type": "execute_result"
    }
   ],
   "source": [
    "from sklearn.metrics import confusion_matrix\n",
    "\n",
    "predictions_matrix = [1 if pred > 0.7 else 0 for pred in predictions]\n",
    "confusion_matrix(y_test,predictions_matrix)"
   ]
  },
  {
   "cell_type": "code",
   "execution_count": 861,
   "metadata": {},
   "outputs": [
    {
     "data": {
      "image/png": "[encoded data removed]",
      "text/plain": [
       "<Figure size 432x288 with 1 Axes>"
      ]
     },
     "metadata": {
      "needs_background": "light"
     },
     "output_type": "display_data"
    },
    {
     "name": "stdout",
     "output_type": "stream",
     "text": [
      "95.0 confidence interval 11.5% and 24.7%\n"
     ]
    }
   ],
   "source": [
    "from sklearn.utils import resample\n",
    "df = X_test\n",
    "df[\"top10\"] = y_test.values\n",
    "stats = list()\n",
    "for i in range(1000):\n",
    "    boot = resample(df, replace=True, n_samples=10000)\n",
    "    boot_y = boot.pop(\"top10\")\n",
    "    boot_pred = model.predict(boot)\n",
    "    predictions_matrix = [1 if pred > 0.8 else 0 for pred in boot_pred]\n",
    "    precision = (confusion_matrix(boot_y,predictions_matrix)[1][1]) / (confusion_matrix(boot_y,predictions_matrix)[0][1] + confusion_matrix(boot_y,predictions_matrix)[0][1]) \n",
    "    stats.append(precision)\n",
    "    \n",
    "# plot scores\n",
    "plt.hist(stats)\n",
    "plt.show()\n",
    "# confidence intervals\n",
    "alpha = 0.95\n",
    "p = ((1.0-alpha)/2.0) * 100\n",
    "lower = max(0.0, np.percentile(stats, p))\n",
    "p = (alpha+((1.0-alpha)/2.0)) * 100\n",
    "upper = min(1.0, np.percentile(stats, p))\n",
    "print('%.1f confidence interval %.1f%% and %.1f%%' % (alpha*100, lower*100, upper*100))"
   ]
  },
  {
   "cell_type": "code",
   "execution_count": 862,
   "metadata": {},
   "outputs": [
    {
     "ename": "AttributeError",
     "evalue": "'LogisticRegression' object has no attribute 'summary'",
     "output_type": "error",
     "traceback": [
      "\u001b[0;31m---------------------------------------------------------------------------\u001b[0m",
      "\u001b[0;31mAttributeError\u001b[0m                            Traceback (most recent call last)",
      "\u001b[0;32m<ipython-input-862-f717032ea5c1>\u001b[0m in \u001b[0;36m<module>\u001b[0;34m\u001b[0m\n\u001b[0;32m----> 1\u001b[0;31m \u001b[0mlogreg\u001b[0m\u001b[0;34m.\u001b[0m\u001b[0msummary\u001b[0m\u001b[0;34m(\u001b[0m\u001b[0;34m)\u001b[0m\u001b[0;34m\u001b[0m\u001b[0;34m\u001b[0m\u001b[0m\n\u001b[0m",
      "\u001b[0;31mAttributeError\u001b[0m: 'LogisticRegression' object has no attribute 'summary'"
     ]
    }
   ],
   "source": [
    "logreg.summary()"
   ]
  },
  {
   "cell_type": "code",
   "execution_count": null,
   "metadata": {},
   "outputs": [],
   "source": []
  }
 ],
 "metadata": {
  "kernelspec": {
   "display_name": "Python 3",
   "language": "python",
   "name": "python3"
  },
  "language_info": {
   "codemirror_mode": {
    "name": "ipython",
    "version": 3
   },
   "file_extension": ".py",
   "mimetype": "text/x-python",
   "name": "python",
   "nbconvert_exporter": "python",
   "pygments_lexer": "ipython3",
   "version": "3.7.4"
  }
 },
 "nbformat": 4,
 "nbformat_minor": 2
}
