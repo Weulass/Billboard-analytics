{
 "cells": [
  {
   "cell_type": "code",
   "execution_count": 321,
   "metadata": {},
   "outputs": [],
   "source": [
    "import pandas as pd\n",
    "from sklearn.model_selection import train_test_split\n",
    "import lightgbm as lgb\n",
    "import numpy as np\n",
    "from sklearn import preprocessing\n",
    "import pickle\n",
    "from sklearn.model_selection import StratifiedShuffleSplit"
   ]
  },
  {
   "cell_type": "code",
   "execution_count": 322,
   "metadata": {},
   "outputs": [],
   "source": [
    "with open('song_df_aggregate.pkl', 'rb') as f:\n",
    "        song_df= pickle.load(f)  "
   ]
  },
  {
   "cell_type": "code",
   "execution_count": 323,
   "metadata": {},
   "outputs": [
    {
     "data": {
      "text/plain": [
       "[0                       Lewis Capaldi\n",
       " 1                         Post Malone\n",
       " 2       Shawn Mendes & Camila Cabello\n",
       " 3                               Lizzo\n",
       " 4                        Selena Gomez\n",
       "                     ...              \n",
       " 8514                      Spice Girls\n",
       " 8515                           Phajja\n",
       " 8516               Sting & The Police\n",
       " 8517                     Shania Twain\n",
       " 8518                    Reba McEntire\n",
       " Name: artist, Length: 8519, dtype: object,\n",
       " 0                           Someone You Loved\n",
       " 1                                     Circles\n",
       " 2                                    Senorita\n",
       " 3                                 Truth Hurts\n",
       " 4                         Lose You To Love Me\n",
       "                         ...                  \n",
       " 8514                       Spice Up Your Life\n",
       " 8515               So Long (Well, Well, Well)\n",
       " 8516           Roxanne `97 - Puff Daddy Remix\n",
       " 8517    Don't Be Stupid (You Know I Love You)\n",
       " 8518                                  What If\n",
       " Name: title, Length: 8519, dtype: object,\n",
       " 0       False\n",
       " 1       False\n",
       " 2       False\n",
       " 3       False\n",
       " 4       False\n",
       "         ...  \n",
       " 8514    False\n",
       " 8515    False\n",
       " 8516    False\n",
       " 8517    False\n",
       " 8518    False\n",
       " Name: isnew, Length: 8519, dtype: object,\n",
       " 0         1\n",
       " 1         2\n",
       " 2         3\n",
       " 3         4\n",
       " 4         5\n",
       "        ... \n",
       " 8514     79\n",
       " 8515     93\n",
       " 8516     95\n",
       " 8517     99\n",
       " 8518    100\n",
       " Name: rank, Length: 8519, dtype: object,\n",
       " 0       2019-11-16\n",
       " 1       2019-11-16\n",
       " 2       2019-11-16\n",
       " 3       2019-11-16\n",
       " 4       2019-11-16\n",
       "            ...    \n",
       " 8514    1998-03-21\n",
       " 8515    1998-03-21\n",
       " 8516    1998-03-21\n",
       " 8517    1998-03-21\n",
       " 8518    1998-03-21\n",
       " Name: date, Length: 8519, dtype: object,\n",
       " 0       7qEHsqek33rTcFNT9PFqLf\n",
       " 1       21jGcNKet2qwijlDFuPiPb\n",
       " 2       0TK2YIli7K1leLovkQiNik\n",
       " 3       5qmq61DAAOUaW8AUo8xKhh\n",
       " 4       1HfMVBKM75vxSfsQ5VefZ5\n",
       "                  ...          \n",
       " 8514    5qGwqO0lkbBXw4xNfzT7SF\n",
       " 8515    7phS4S15qLjPC7JlFnzWql\n",
       " 8516    0RlWNvJKKp0gODH7sUwm1j\n",
       " 8517    6xAF3xYDK915NEvC6WNbj9\n",
       " 8518    1prRF2tbzAKFqUgjC90nxY\n",
       " Name: spotify_id, Length: 8519, dtype: object,\n",
       " 0       5658aM19fA3JVwTK6eQX70\n",
       " 1       4g1ZRSobMefqF6nelkgibi\n",
       " 2       2ZaX1FdZCwchXl1QZiD4O4\n",
       " 3       74gSdSHe71q7urGWMMn3qB\n",
       " 4       3tBkjgxDqAwss76O1YHsSY\n",
       "                  ...          \n",
       " 8514    3sr6lAuO3nmB1u8ZuQgpiX\n",
       " 8515    6qbvgcaWgMn2BQY6FhdOm2\n",
       " 8516    0Av1HIrrBAtIbQTaAqo8Lb\n",
       " 8517    4UMe0Ods7kygK6OISasZe9\n",
       " 8518    6kmMraTrCoePKYeqcl8KPL\n",
       " Name: spotify_album_id, Length: 8519, dtype: object,\n",
       " 0       2019-05-17\n",
       " 1       2019-09-06\n",
       " 2       2019-06-21\n",
       " 3       2019-05-03\n",
       " 4       2019-10-23\n",
       "            ...    \n",
       " 8514    1997-01-01\n",
       " 8515    2018-11-16\n",
       " 8516    2011-11-07\n",
       " 8517    1997-11-04\n",
       " 8518    2000-01-01\n",
       " Name: spotify_album_release_date, Length: 8519, dtype: object,\n",
       " 0       day\n",
       " 1       day\n",
       " 2       day\n",
       " 3       day\n",
       " 4       day\n",
       "        ... \n",
       " 8514    day\n",
       " 8515    day\n",
       " 8516    day\n",
       " 8517    day\n",
       " 8518    day\n",
       " Name: spotify_album_release_date_precision, Length: 8519, dtype: object,\n",
       " 0                            Vertigo Berlin\n",
       " 1                          Republic Records\n",
       " 2                            Island Records\n",
       " 3                        Nice Life/Atlantic\n",
       " 4                        Interscope Records\n",
       "                        ...                 \n",
       " 8514                         Virgin Records\n",
       " 8515    Warner Music Group - X5 Music Group\n",
       " 8516                 2011 Ameritz Music Ltd\n",
       " 8517                      Mercury Nashville\n",
       " 8518                          MCA Nashville\n",
       " Name: album_label, Length: 8519, dtype: object,\n",
       " 0                          Lewis CapaldiSomeone You Loved\n",
       " 1                                      Post MaloneCircles\n",
       " 2                   Shawn Mendes & Camila CabelloSenorita\n",
       " 3                                        LizzoTruth Hurts\n",
       " 4                         Selena GomezLose You To Love Me\n",
       "                               ...                        \n",
       " 8514                        Spice GirlsSpice Up Your Life\n",
       " 8515                     PhajjaSo Long (Well, Well, Well)\n",
       " 8516     Sting & The PoliceRoxanne `97 - Puff Daddy Remix\n",
       " 8517    Shania TwainDon't Be Stupid (You Know I Love You)\n",
       " 8518                                 Reba McEntireWhat If\n",
       " Name: join, Length: 8519, dtype: object,\n",
       " 0      2019-05-17\n",
       " 1      2019-09-06\n",
       " 2      2019-06-21\n",
       " 3      2019-05-03\n",
       " 4      2019-10-23\n",
       "           ...    \n",
       " 8514   1997-01-01\n",
       " 8515   2018-11-16\n",
       " 8516   2011-11-07\n",
       " 8517   1997-11-04\n",
       " 8518   2000-01-01\n",
       " Name: spotify_album_release_date_datetime, Length: 8519, dtype: datetime64[ns],\n",
       " 0      2019-05-25\n",
       " 1      2019-09-14\n",
       " 2      2019-07-06\n",
       " 3      2019-05-18\n",
       " 4      2019-11-02\n",
       "           ...    \n",
       " 8514   1998-03-21\n",
       " 8515   1998-03-21\n",
       " 8516   1998-03-21\n",
       " 8517   1998-03-21\n",
       " 8518   1998-03-21\n",
       " Name: datetime, Length: 8519, dtype: datetime64[ns],\n",
       " 0       2019-05-25\n",
       " 1       2019-09-14\n",
       " 2       2019-07-06\n",
       " 3       2019-05-18\n",
       " 4       2019-11-02\n",
       "            ...    \n",
       " 8514    1998-03-21\n",
       " 8515    1998-03-21\n",
       " 8516    1998-03-21\n",
       " 8517    1998-03-21\n",
       " 8518    1998-03-21\n",
       " Name: first_date, Length: 8519, dtype: object]"
      ]
     },
     "execution_count": 323,
     "metadata": {},
     "output_type": "execute_result"
    }
   ],
   "source": [
    "to_pop =[\"artist\",\"title\",\"isnew\",\"rank\",\"date\",\"spotify_id\",\"spotify_album_id\",\"spotify_album_release_date\",\n",
    "         \"spotify_album_release_date_precision\",\"album_label\",\"join\",\"spotify_album_release_date_datetime\",\n",
    "         \"datetime\",\"first_date\"]\n",
    "[song_df.pop(i) for i in to_pop]\n"
   ]
  },
  {
   "cell_type": "code",
   "execution_count": 324,
   "metadata": {},
   "outputs": [],
   "source": [
    "song_df = song_df[song_df[\"firstrank\"] > 10]\n",
    "song_df.pop(\"bestrank\")\n",
    "song_df.pop(\"numberofappearances\")\n",
    "song_df = song_df.dropna()\n",
    "top10 = song_df.pop(\"top10\")\n"
   ]
  },
  {
   "cell_type": "code",
   "execution_count": 325,
   "metadata": {},
   "outputs": [
    {
     "data": {
      "text/plain": [
       "[4        True\n",
       " 7        True\n",
       " 8        True\n",
       " 10       True\n",
       " 14       True\n",
       "         ...  \n",
       " 8507     True\n",
       " 8510    False\n",
       " 8512    False\n",
       " 8516    False\n",
       " 8517    False\n",
       " Name: top50, Length: 5828, dtype: bool, 4        True\n",
       " 7        True\n",
       " 8        True\n",
       " 10       True\n",
       " 14       True\n",
       "         ...  \n",
       " 8507    False\n",
       " 8510    False\n",
       " 8512    False\n",
       " 8516    False\n",
       " 8517    False\n",
       " Name: top25, Length: 5828, dtype: bool, 4        True\n",
       " 7        True\n",
       " 8        True\n",
       " 10       True\n",
       " 14       True\n",
       "         ...  \n",
       " 8507     True\n",
       " 8510    False\n",
       " 8512     True\n",
       " 8516    False\n",
       " 8517    False\n",
       " Name: top75, Length: 5828, dtype: bool, 4        True\n",
       " 7       False\n",
       " 8       False\n",
       " 10      False\n",
       " 14      False\n",
       "         ...  \n",
       " 8507    False\n",
       " 8510    False\n",
       " 8512    False\n",
       " 8516    False\n",
       " 8517    False\n",
       " Name: top5, Length: 5828, dtype: bool]"
      ]
     },
     "execution_count": 325,
     "metadata": {},
     "output_type": "execute_result"
    }
   ],
   "source": [
    "to_pop =[\"top50\",\"top25\",\"top75\",\"top5\"]\n",
    "[song_df.pop(i) for i in to_pop]"
   ]
  },
  {
   "cell_type": "code",
   "execution_count": 326,
   "metadata": {},
   "outputs": [
    {
     "data": {
      "text/plain": [
       "[4        70.0\n",
       " 7       596.0\n",
       " 8        70.0\n",
       " 10       46.0\n",
       " 14       41.0\n",
       "         ...  \n",
       " 8507      8.0\n",
       " 8510     37.0\n",
       " 8512     14.0\n",
       " 8516      2.0\n",
       " 8517     73.0\n",
       " Name: label_appearance_count, Length: 5828, dtype: float64,\n",
       " 4          Big Label\n",
       " 7         Mega Label\n",
       " 8          Big Label\n",
       " 10      Decent Label\n",
       " 14      Decent Label\n",
       "             ...     \n",
       " 8507      Mini Label\n",
       " 8510    Decent Label\n",
       " 8512     Small Label\n",
       " 8516      Mini Label\n",
       " 8517       Big Label\n",
       " Name: label_category, Length: 5828, dtype: object,\n",
       " 4       297.0\n",
       " 7       599.0\n",
       " 8       297.0\n",
       " 10       52.0\n",
       " 14      467.0\n",
       "         ...  \n",
       " 8507    112.0\n",
       " 8510     37.0\n",
       " 8512     15.0\n",
       " 8516     58.0\n",
       " 8517     73.0\n",
       " Name: label_appearance_count_group, Length: 5828, dtype: float64,\n",
       " 4       10.0\n",
       " 7        6.0\n",
       " 8        9.0\n",
       " 10      11.0\n",
       " 14       6.0\n",
       "         ... \n",
       " 8507     1.0\n",
       " 8510     9.0\n",
       " 8512     3.0\n",
       " 8516    11.0\n",
       " 8517    11.0\n",
       " Name: release_month, Length: 5828, dtype: float64,\n",
       " 4       2019.0\n",
       " 7       2019.0\n",
       " 8       2019.0\n",
       " 10      2019.0\n",
       " 14      2019.0\n",
       "          ...  \n",
       " 8507    1997.0\n",
       " 8510    1997.0\n",
       " 8512    2009.0\n",
       " 8516    2011.0\n",
       " 8517    1997.0\n",
       " Name: release_year, Length: 5828, dtype: float64]"
      ]
     },
     "execution_count": 326,
     "metadata": {},
     "output_type": "execute_result"
    }
   ],
   "source": [
    "to_pop =[\"label_appearance_count\",\"label_category\",\"label_appearance_count_group\",\"release_month\",\"release_year\"]\n",
    "[song_df.pop(i) for i in to_pop]\n"
   ]
  },
  {
   "cell_type": "code",
   "execution_count": 327,
   "metadata": {},
   "outputs": [
    {
     "data": {
      "text/plain": [
       "[4       True\n",
       " 7       True\n",
       " 8       True\n",
       " 10      True\n",
       " 14      True\n",
       "         ... \n",
       " 8507    True\n",
       " 8510    True\n",
       " 8512    True\n",
       " 8516    True\n",
       " 8517    True\n",
       " Name: artist_has_award, Length: 5828, dtype: bool, 4       1.0\n",
       " 7       1.0\n",
       " 8       1.0\n",
       " 10      1.0\n",
       " 14      1.0\n",
       "        ... \n",
       " 8507    1.0\n",
       " 8510    1.0\n",
       " 8512    2.0\n",
       " 8516    1.0\n",
       " 8517    1.0\n",
       " Name: spotify_disc_number, Length: 5828, dtype: float64, 4       Platinum\n",
       " 7       Platinum\n",
       " 8       Platinum\n",
       " 10          Gold\n",
       " 14      Platinum\n",
       "           ...   \n",
       " 8507        Gold\n",
       " 8510    Platinum\n",
       " 8512    Platinum\n",
       " 8516    Platinum\n",
       " 8517        Gold\n",
       " Name: last_award_type, Length: 5828, dtype: object, 4       1.0\n",
       " 7       0.0\n",
       " 8       1.0\n",
       " 10      0.0\n",
       " 14      0.0\n",
       "        ... \n",
       " 8507    1.0\n",
       " 8510    1.0\n",
       " 8512    1.0\n",
       " 8516    1.0\n",
       " 8517    1.0\n",
       " Name: spotify_mode, Length: 5828, dtype: float64, 4       1.0\n",
       " 7       1.0\n",
       " 8       1.0\n",
       " 10      3.0\n",
       " 14      2.0\n",
       "        ... \n",
       " 8507    1.0\n",
       " 8510    1.0\n",
       " 8512    1.0\n",
       " 8516    1.0\n",
       " 8517    1.0\n",
       " Name: num_artists, Length: 5828, dtype: float64, 4       4.0\n",
       " 7       4.0\n",
       " 8       4.0\n",
       " 10      4.0\n",
       " 14      4.0\n",
       "        ... \n",
       " 8507    4.0\n",
       " 8510    4.0\n",
       " 8512    4.0\n",
       " 8516    4.0\n",
       " 8517    4.0\n",
       " Name: spotify_time_signature, Length: 5828, dtype: float64, 4       single\n",
       " 7       single\n",
       " 8       single\n",
       " 10      single\n",
       " 14      single\n",
       "          ...  \n",
       " 8507     album\n",
       " 8510     album\n",
       " 8512     album\n",
       " 8516     album\n",
       " 8517     album\n",
       " Name: album_type, Length: 5828, dtype: object, 4       False\n",
       " 7       False\n",
       " 8       False\n",
       " 10       True\n",
       " 14      False\n",
       "         ...  \n",
       " 8507    False\n",
       " 8510    False\n",
       " 8512    False\n",
       " 8516    False\n",
       " 8517    False\n",
       " Name: spotify_explicit, Length: 5828, dtype: object]"
      ]
     },
     "execution_count": 327,
     "metadata": {},
     "output_type": "execute_result"
    }
   ],
   "source": [
    "to_pop =[\"artist_has_award\",\"spotify_disc_number\",\"last_award_type\",\"spotify_mode\",\"num_artists\",\"spotify_time_signature\",\"album_type\",\"spotify_explicit\"]\n",
    "[song_df.pop(i) for i in to_pop]\n"
   ]
  },
  {
   "cell_type": "code",
   "execution_count": 328,
   "metadata": {},
   "outputs": [],
   "source": [
    "le = preprocessing.LabelEncoder()\n",
    "#song_df['spotify_explicit'] = le.fit_transform(song_df['spotify_explicit'])\n",
    "song_df['spotify_key'] = le.fit_transform(song_df['spotify_key'])\n",
    "#song_df['spotify_mode'] = le.fit_transform(song_df['spotify_mode'])\n",
    "#song_df['last_award_type'] = le.fit_transform(song_df['last_award_type'])\n",
    "song_df['label_category_group'] = le.fit_transform(song_df['label_category_group'])\n",
    "#song_df['album_type'] = le.fit_transform(song_df['album_type'])\n",
    "song_df['datetime_year'] = le.fit_transform(song_df['datetime_year'])\n",
    "song_df['datetime_month'] = le.fit_transform(song_df['datetime_month'])"
   ]
  },
  {
   "cell_type": "code",
   "execution_count": 329,
   "metadata": {},
   "outputs": [],
   "source": [
    "X_train, X_test, y_train, y_test = train_test_split(song_df, top10, test_size=0.2)"
   ]
  },
  {
   "cell_type": "code",
   "execution_count": 330,
   "metadata": {},
   "outputs": [
    {
     "name": "stdout",
     "output_type": "stream",
     "text": [
      "[1]\ttraining's auc: 0.718617\n",
      "Training until validation scores don't improve for 100 rounds\n",
      "[2]\ttraining's auc: 0.761022\n",
      "[3]\ttraining's auc: 0.785221\n",
      "[4]\ttraining's auc: 0.7969\n",
      "[5]\ttraining's auc: 0.808394\n",
      "[6]\ttraining's auc: 0.811478\n",
      "[7]\ttraining's auc: 0.8148\n",
      "[8]\ttraining's auc: 0.817522\n",
      "[9]\ttraining's auc: 0.826854\n",
      "[10]\ttraining's auc: 0.83069\n",
      "[11]\ttraining's auc: 0.835507\n",
      "[12]\ttraining's auc: 0.83678\n",
      "[13]\ttraining's auc: 0.83973\n",
      "[14]\ttraining's auc: 0.840966\n",
      "[15]\ttraining's auc: 0.841184\n",
      "[16]\ttraining's auc: 0.845394\n",
      "[17]\ttraining's auc: 0.845002\n",
      "[18]\ttraining's auc: 0.846378\n",
      "[19]\ttraining's auc: 0.849092\n",
      "[20]\ttraining's auc: 0.850694\n",
      "[21]\ttraining's auc: 0.855324\n",
      "[22]\ttraining's auc: 0.859067\n",
      "[23]\ttraining's auc: 0.86147\n",
      "[24]\ttraining's auc: 0.864598\n",
      "[25]\ttraining's auc: 0.867713\n",
      "[26]\ttraining's auc: 0.871766\n",
      "[27]\ttraining's auc: 0.875382\n",
      "[28]\ttraining's auc: 0.878493\n",
      "[29]\ttraining's auc: 0.88075\n",
      "[30]\ttraining's auc: 0.88231\n",
      "[31]\ttraining's auc: 0.883565\n",
      "[32]\ttraining's auc: 0.885236\n",
      "[33]\ttraining's auc: 0.887204\n",
      "[34]\ttraining's auc: 0.88971\n",
      "[35]\ttraining's auc: 0.890484\n",
      "[36]\ttraining's auc: 0.892309\n",
      "[37]\ttraining's auc: 0.893557\n",
      "[38]\ttraining's auc: 0.895106\n",
      "[39]\ttraining's auc: 0.895314\n",
      "[40]\ttraining's auc: 0.896549\n",
      "[41]\ttraining's auc: 0.898031\n",
      "[42]\ttraining's auc: 0.899338\n",
      "[43]\ttraining's auc: 0.900062\n",
      "[44]\ttraining's auc: 0.902487\n",
      "[45]\ttraining's auc: 0.903952\n",
      "[46]\ttraining's auc: 0.905534\n",
      "[47]\ttraining's auc: 0.90633\n",
      "[48]\ttraining's auc: 0.907602\n",
      "[49]\ttraining's auc: 0.908221\n",
      "[50]\ttraining's auc: 0.908702\n",
      "[51]\ttraining's auc: 0.909201\n",
      "[52]\ttraining's auc: 0.909178\n",
      "[53]\ttraining's auc: 0.909945\n",
      "[54]\ttraining's auc: 0.910474\n",
      "[55]\ttraining's auc: 0.910983\n",
      "[56]\ttraining's auc: 0.911424\n",
      "[57]\ttraining's auc: 0.911642\n",
      "[58]\ttraining's auc: 0.9122\n",
      "[59]\ttraining's auc: 0.912529\n",
      "[60]\ttraining's auc: 0.913555\n",
      "[61]\ttraining's auc: 0.915151\n",
      "[62]\ttraining's auc: 0.917375\n",
      "[63]\ttraining's auc: 0.918727\n",
      "[64]\ttraining's auc: 0.920131\n",
      "[65]\ttraining's auc: 0.921423\n",
      "[66]\ttraining's auc: 0.922725\n",
      "[67]\ttraining's auc: 0.924069\n",
      "[68]\ttraining's auc: 0.925043\n",
      "[69]\ttraining's auc: 0.925462\n",
      "[70]\ttraining's auc: 0.927054\n",
      "[71]\ttraining's auc: 0.927735\n",
      "[72]\ttraining's auc: 0.9286\n",
      "[73]\ttraining's auc: 0.928983\n",
      "[74]\ttraining's auc: 0.929411\n",
      "[75]\ttraining's auc: 0.929904\n",
      "[76]\ttraining's auc: 0.93019\n",
      "[77]\ttraining's auc: 0.930629\n",
      "[78]\ttraining's auc: 0.931173\n",
      "[79]\ttraining's auc: 0.931565\n",
      "[80]\ttraining's auc: 0.932257\n",
      "[81]\ttraining's auc: 0.934113\n",
      "[82]\ttraining's auc: 0.935034\n",
      "[83]\ttraining's auc: 0.936173\n",
      "[84]\ttraining's auc: 0.937343\n",
      "[85]\ttraining's auc: 0.937694\n",
      "[86]\ttraining's auc: 0.938886\n",
      "[87]\ttraining's auc: 0.939937\n",
      "[88]\ttraining's auc: 0.940916\n",
      "[89]\ttraining's auc: 0.941686\n",
      "[90]\ttraining's auc: 0.942564\n",
      "[91]\ttraining's auc: 0.94316\n",
      "[92]\ttraining's auc: 0.94392\n",
      "[93]\ttraining's auc: 0.944103\n",
      "[94]\ttraining's auc: 0.945006\n",
      "[95]\ttraining's auc: 0.945697\n",
      "[96]\ttraining's auc: 0.946235\n",
      "[97]\ttraining's auc: 0.946615\n",
      "[98]\ttraining's auc: 0.947072\n",
      "[99]\ttraining's auc: 0.947307\n",
      "[100]\ttraining's auc: 0.947817\n",
      "Did not meet early stopping. Best iteration is:\n",
      "[100]\ttraining's auc: 0.947817\n"
     ]
    }
   ],
   "source": [
    "# create dataset for lightgbm\n",
    "lgb_train = lgb.Dataset(X_train, y_train)\n",
    "#lgb_eval = lgb.Dataset(X_val, y_val, reference=lgb_train)\n",
    "\n",
    "\n",
    "#can replace 'is_unbalance': 'true', by 'scale_pos_weight': 10,\n",
    "\n",
    "parameters = {\n",
    "    'application': 'binary',\n",
    "    'objective': 'binary',\n",
    "    'metric': 'auc',\n",
    "    'boosting': 'gbdt',\n",
    "    'is_unbalance': 'true',\n",
    "    'num_leaves': 25,\n",
    "    'feature_fraction': 0.5,\n",
    "    'bagging_fraction': 0.5,\n",
    "    'bagging_freq': 20,\n",
    "    'learning_rate': 0.05,\n",
    "    'verbose': 0\n",
    "}\n",
    "\n",
    "model = lgb.train(parameters,\n",
    "                       lgb_train,\n",
    "                       valid_sets=lgb_train,\n",
    "                       num_boost_round=100,\n",
    "                       early_stopping_rounds=100)\n",
    "\n",
    "predictions = model.predict(X_test)\n"
   ]
  },
  {
   "cell_type": "code",
   "execution_count": 331,
   "metadata": {},
   "outputs": [
    {
     "data": {
      "image/png": "[encoded data removed]",
      "text/plain": [
       "<Figure size 432x288 with 1 Axes>"
      ]
     },
     "metadata": {
      "needs_background": "light"
     },
     "output_type": "display_data"
    }
   ],
   "source": [
    "import sklearn.metrics as metrics\n",
    "\n",
    "fpr, tpr, threshold = metrics.roc_curve(y_test, predictions)\n",
    "roc_auc = metrics.auc(fpr, tpr)\n",
    "\n",
    "# method I: plt\n",
    "import matplotlib.pyplot as plt\n",
    "%matplotlib inline\n",
    "plt.title('Receiver Operating Characteristic')\n",
    "plt.plot(fpr, tpr, 'b', label = 'AUC = %0.2f' % roc_auc)\n",
    "plt.legend(loc = 'lower right')\n",
    "plt.plot([0, 1], [0, 1],'r--')\n",
    "plt.xlim([0, 1])\n",
    "plt.ylim([0, 1])\n",
    "plt.ylabel('True Positive Rate')\n",
    "plt.xlabel('False Positive Rate')\n",
    "plt.show()"
   ]
  },
  {
   "cell_type": "code",
   "execution_count": 332,
   "metadata": {},
   "outputs": [
    {
     "data": {
      "image/png": "[encoded data removed]",
      "text/plain": [
       "<Figure size 432x288 with 1 Axes>"
      ]
     },
     "metadata": {
      "needs_background": "light"
     },
     "output_type": "display_data"
    }
   ],
   "source": [
    "from sklearn.metrics import precision_recall_curve\n",
    "# calculate precision-recall curve\n",
    "precision, recall, thresholds = precision_recall_curve(y_test,predictions)\n",
    "# calculate precision-recall AUC\n",
    "precision_auc = metrics.auc(recall, precision)\n",
    "\n",
    "plt.title('Receiver Operating Characteristic')\n",
    "plt.plot(thresholds, precision[:len(precision)-1], 'b', label = 'Precision AUC = %0.2f' % precision_auc)\n",
    "plt.legend(loc = 'lower right')\n",
    "plt.xlim([0, 1])\n",
    "plt.ylim([0, 1])\n",
    "plt.ylabel('Precision')\n",
    "plt.xlabel('Threshold')\n",
    "plt.show()"
   ]
  },
  {
   "cell_type": "code",
   "execution_count": 333,
   "metadata": {},
   "outputs": [
    {
     "data": {
      "text/plain": [
       "array([[1026,    0],\n",
       "       [ 140,    0]])"
      ]
     },
     "execution_count": 333,
     "metadata": {},
     "output_type": "execute_result"
    }
   ],
   "source": [
    "from sklearn.metrics import confusion_matrix\n",
    "\n",
    "predictions_matrix = [1 if pred > 0.90 else 0 for pred in predictions]\n",
    "confusion_matrix(y_test,predictions_matrix)"
   ]
  },
  {
   "cell_type": "code",
   "execution_count": 307,
   "metadata": {},
   "outputs": [
    {
     "name": "stdout",
     "output_type": "stream",
     "text": [
      "205 spotify_duration_ms\n",
      "93 spotify_track_number\n",
      "63 spotify_key\n",
      "189 spotify_danceability\n",
      "176 spotify_energy\n",
      "146 spotify_loudness\n",
      "147 spotify_speechiness\n",
      "143 spotify_acousticness\n",
      "76 spotify_instrumentalness\n",
      "134 spotify_liveness\n",
      "167 spotify_valence\n",
      "163 spotify_tempo\n",
      "94 award_num\n",
      "97 gold_count\n",
      "96 platinum_count\n",
      "68 num_songs_awards\n",
      "125 firstrank\n",
      "47 label_category_group\n",
      "109 datetime_year\n",
      "62 datetime_month\n"
     ]
    }
   ],
   "source": [
    "# Record the feature importances\n",
    "feature_importances = model.feature_importance()\n",
    "for i in range(len(feature_importances)):\n",
    "    print(feature_importances[i],X_train.columns[i])"
   ]
  },
  {
   "cell_type": "code",
   "execution_count": 286,
   "metadata": {},
   "outputs": [
    {
     "name": "stderr",
     "output_type": "stream",
     "text": [
      "/Users/iliasmiraoui/anaconda3/lib/python3.7/site-packages/sklearn/linear_model/logistic.py:432: FutureWarning: Default solver will be changed to 'lbfgs' in 0.22. Specify a solver to silence this warning.\n",
      "  FutureWarning)\n"
     ]
    },
    {
     "data": {
      "text/plain": [
       "LogisticRegression(C=1.0, class_weight=None, dual=False, fit_intercept=True,\n",
       "                   intercept_scaling=1, l1_ratio=None, max_iter=100,\n",
       "                   multi_class='warn', n_jobs=None, penalty='l2',\n",
       "                   random_state=None, solver='warn', tol=0.0001, verbose=0,\n",
       "                   warm_start=False)"
      ]
     },
     "execution_count": 286,
     "metadata": {},
     "output_type": "execute_result"
    }
   ],
   "source": [
    "from sklearn.linear_model import LogisticRegression\n",
    "from sklearn import metrics\n",
    "logreg = LogisticRegression()\n",
    "logreg.fit(X_train, y_train)"
   ]
  },
  {
   "cell_type": "code",
   "execution_count": 287,
   "metadata": {},
   "outputs": [
    {
     "name": "stdout",
     "output_type": "stream",
     "text": [
      "Accuracy of logistic regression classifier on test set: 0.88\n"
     ]
    }
   ],
   "source": [
    "y_pred = logreg.predict(X_test)\n",
    "print('Accuracy of logistic regression classifier on test set: {:.2f}'.format(logreg.score(X_test, y_test)))"
   ]
  },
  {
   "cell_type": "code",
   "execution_count": 288,
   "metadata": {},
   "outputs": [
    {
     "data": {
      "image/png": "[encoded data removed]",
      "text/plain": [
       "<Figure size 432x288 with 1 Axes>"
      ]
     },
     "metadata": {
      "needs_background": "light"
     },
     "output_type": "display_data"
    }
   ],
   "source": [
    "import sklearn.metrics as metrics\n",
    "\n",
    "fpr, tpr, threshold = metrics.roc_curve(y_test, y_pred)\n",
    "roc_auc = metrics.auc(fpr, tpr)\n",
    "\n",
    "# method I: plt\n",
    "import matplotlib.pyplot as plt\n",
    "%matplotlib inline\n",
    "plt.title('Receiver Operating Characteristic')\n",
    "plt.plot(fpr, tpr, 'b', label = 'AUC = %0.2f' % roc_auc)\n",
    "plt.legend(loc = 'lower right')\n",
    "plt.plot([0, 1], [0, 1],'r--')\n",
    "plt.xlim([0, 1])\n",
    "plt.ylim([0, 1])\n",
    "plt.ylabel('True Positive Rate')\n",
    "plt.xlabel('False Positive Rate')\n",
    "plt.show()"
   ]
  },
  {
   "cell_type": "code",
   "execution_count": 266,
   "metadata": {},
   "outputs": [
    {
     "data": {
      "text/plain": [
       "0.14575411913814956"
      ]
     },
     "execution_count": 266,
     "metadata": {},
     "output_type": "execute_result"
    }
   ],
   "source": []
  },
  {
   "cell_type": "code",
   "execution_count": null,
   "metadata": {},
   "outputs": [],
   "source": []
  }
 ],
 "metadata": {
  "kernelspec": {
   "display_name": "Python 3",
   "language": "python",
   "name": "python3"
  },
  "language_info": {
   "codemirror_mode": {
    "name": "ipython",
    "version": 3
   },
   "file_extension": ".py",
   "mimetype": "text/x-python",
   "name": "python",
   "nbconvert_exporter": "python",
   "pygments_lexer": "ipython3",
   "version": "3.7.4"
  }
 },
 "nbformat": 4,
 "nbformat_minor": 2
}
