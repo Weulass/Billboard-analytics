{
 "cells": [
  {
   "cell_type": "code",
   "execution_count": 1,
   "metadata": {},
   "outputs": [
    {
     "name": "stderr",
     "output_type": "stream",
     "text": [
      "/Users/iliasmiraoui/anaconda3/lib/python3.7/site-packages/lightgbm/__init__.py:48: UserWarning: Starting from version 2.2.1, the library file in distribution wheels for macOS is built by the Apple Clang (Xcode_8.3.3) compiler.\n",
      "This means that in case of installing LightGBM from PyPI via the ``pip install lightgbm`` command, you don't need to install the gcc compiler anymore.\n",
      "Instead of that, you need to install the OpenMP library, which is required for running LightGBM on the system with the Apple Clang compiler.\n",
      "You can install the OpenMP library by the following command: ``brew install libomp``.\n",
      "  \"You can install the OpenMP library by the following command: ``brew install libomp``.\", UserWarning)\n"
     ]
    }
   ],
   "source": [
    "import pandas as pd\n",
    "from sklearn.model_selection import train_test_split\n",
    "import lightgbm as lgb\n",
    "import numpy as np\n",
    "from sklearn import preprocessing\n",
    "import pickle\n",
    "from sklearn.model_selection import StratifiedShuffleSplit"
   ]
  },
  {
   "cell_type": "code",
   "execution_count": 8,
   "metadata": {},
   "outputs": [],
   "source": [
    "with open('song_df_aggregate.pkl', 'rb') as f:\n",
    "        song_df= pickle.load(f)  "
   ]
  },
  {
   "cell_type": "code",
   "execution_count": 9,
   "metadata": {},
   "outputs": [],
   "source": [
    "song_df[\"top10\"] = song_df[\"bestrank\"] <50"
   ]
  },
  {
   "cell_type": "code",
   "execution_count": 10,
   "metadata": {},
   "outputs": [
    {
     "data": {
      "text/plain": [
       "0         1\n",
       "1         2\n",
       "2         1\n",
       "3         1\n",
       "4         1\n",
       "       ... \n",
       "8514     79\n",
       "8515     93\n",
       "8516     95\n",
       "8517     99\n",
       "8518    100\n",
       "Name: bestrank, Length: 8519, dtype: int64"
      ]
     },
     "execution_count": 10,
     "metadata": {},
     "output_type": "execute_result"
    }
   ],
   "source": [
    "to_pop =[\"artist\",\"title\",\"isnew\",\"rank\",\"date\",\"spotify_id\",\"spotify_explicit\",\n",
    "             \"spotify_album_id\",\"spotify_album_release_date\",\"spotify_album_release_date_precision\",\"album_label\",\n",
    "             \"join\",\"spotify_album_release_date_datetime\",\"numberofappearances\",\"spotify_disc_number\"]\n",
    "#\"spotify_mode\",\"spotify_time_signature\",\"num_artists\",\"artist_has_award\",\"gold_count\",\"platinum_count\",\"spotify_track_number\"\n",
    "[song_df.pop(i) for i in to_pop]\n",
    "song_df.pop(\"last_award_type\")\n",
    "song_df.pop(\"spotify_key\")\n",
    "song_df.pop(\"bestrank\")"
   ]
  },
  {
   "cell_type": "code",
   "execution_count": 11,
   "metadata": {},
   "outputs": [],
   "source": [
    "song_df.pop(\"artist_has_award\")\n",
    "song_df = song_df.dropna()\n",
    "top10 = song_df.pop(\"top10\")\n"
   ]
  },
  {
   "cell_type": "code",
   "execution_count": 12,
   "metadata": {},
   "outputs": [],
   "source": [
    "X_train, X_test, y_train, y_test = train_test_split(song_df, top10, test_size=0.2)"
   ]
  },
  {
   "cell_type": "code",
   "execution_count": 13,
   "metadata": {},
   "outputs": [
    {
     "name": "stdout",
     "output_type": "stream",
     "text": [
      "[1]\ttraining's auc: 0.939625\n",
      "Training until validation scores don't improve for 100 rounds\n",
      "[2]\ttraining's auc: 1\n",
      "[3]\ttraining's auc: 0.99997\n",
      "[4]\ttraining's auc: 0.999212\n",
      "[5]\ttraining's auc: 1\n",
      "[6]\ttraining's auc: 1\n",
      "[7]\ttraining's auc: 0.999999\n",
      "[8]\ttraining's auc: 1\n",
      "[9]\ttraining's auc: 1\n",
      "[10]\ttraining's auc: 1\n",
      "[11]\ttraining's auc: 1\n",
      "[12]\ttraining's auc: 1\n",
      "[13]\ttraining's auc: 1\n",
      "[14]\ttraining's auc: 1\n",
      "[15]\ttraining's auc: 1\n",
      "[16]\ttraining's auc: 1\n",
      "[17]\ttraining's auc: 1\n",
      "[18]\ttraining's auc: 1\n",
      "[19]\ttraining's auc: 1\n",
      "[20]\ttraining's auc: 1\n",
      "[21]\ttraining's auc: 1\n",
      "[22]\ttraining's auc: 1\n",
      "[23]\ttraining's auc: 1\n",
      "[24]\ttraining's auc: 1\n",
      "[25]\ttraining's auc: 1\n",
      "[26]\ttraining's auc: 1\n",
      "[27]\ttraining's auc: 1\n",
      "[28]\ttraining's auc: 1\n",
      "[29]\ttraining's auc: 1\n",
      "[30]\ttraining's auc: 1\n",
      "[31]\ttraining's auc: 1\n",
      "[32]\ttraining's auc: 1\n",
      "[33]\ttraining's auc: 1\n",
      "[34]\ttraining's auc: 1\n",
      "[35]\ttraining's auc: 1\n",
      "[36]\ttraining's auc: 1\n",
      "[37]\ttraining's auc: 1\n",
      "[38]\ttraining's auc: 1\n",
      "[39]\ttraining's auc: 1\n",
      "[40]\ttraining's auc: 1\n",
      "[41]\ttraining's auc: 1\n",
      "[42]\ttraining's auc: 1\n",
      "[43]\ttraining's auc: 1\n",
      "[44]\ttraining's auc: 1\n",
      "[45]\ttraining's auc: 1\n",
      "[46]\ttraining's auc: 1\n",
      "[47]\ttraining's auc: 1\n",
      "[48]\ttraining's auc: 1\n",
      "[49]\ttraining's auc: 1\n",
      "[50]\ttraining's auc: 1\n",
      "[51]\ttraining's auc: 1\n",
      "[52]\ttraining's auc: 1\n",
      "[53]\ttraining's auc: 1\n",
      "[54]\ttraining's auc: 1\n",
      "[55]\ttraining's auc: 1\n",
      "[56]\ttraining's auc: 1\n",
      "[57]\ttraining's auc: 1\n",
      "[58]\ttraining's auc: 1\n",
      "[59]\ttraining's auc: 1\n",
      "[60]\ttraining's auc: 1\n",
      "[61]\ttraining's auc: 1\n",
      "[62]\ttraining's auc: 1\n",
      "[63]\ttraining's auc: 1\n",
      "[64]\ttraining's auc: 1\n",
      "[65]\ttraining's auc: 1\n",
      "[66]\ttraining's auc: 1\n",
      "[67]\ttraining's auc: 1\n",
      "[68]\ttraining's auc: 1\n",
      "[69]\ttraining's auc: 1\n",
      "[70]\ttraining's auc: 1\n",
      "[71]\ttraining's auc: 1\n",
      "[72]\ttraining's auc: 1\n",
      "[73]\ttraining's auc: 1\n",
      "[74]\ttraining's auc: 1\n",
      "[75]\ttraining's auc: 1\n",
      "[76]\ttraining's auc: 1\n",
      "[77]\ttraining's auc: 1\n",
      "[78]\ttraining's auc: 1\n",
      "[79]\ttraining's auc: 1\n",
      "[80]\ttraining's auc: 1\n",
      "[81]\ttraining's auc: 1\n",
      "[82]\ttraining's auc: 1\n",
      "[83]\ttraining's auc: 1\n",
      "[84]\ttraining's auc: 1\n",
      "[85]\ttraining's auc: 1\n",
      "[86]\ttraining's auc: 1\n",
      "[87]\ttraining's auc: 1\n",
      "[88]\ttraining's auc: 1\n",
      "[89]\ttraining's auc: 1\n",
      "[90]\ttraining's auc: 1\n",
      "[91]\ttraining's auc: 1\n",
      "[92]\ttraining's auc: 1\n",
      "[93]\ttraining's auc: 1\n",
      "[94]\ttraining's auc: 1\n",
      "[95]\ttraining's auc: 1\n",
      "[96]\ttraining's auc: 1\n",
      "[97]\ttraining's auc: 1\n",
      "[98]\ttraining's auc: 1\n",
      "[99]\ttraining's auc: 1\n",
      "[100]\ttraining's auc: 1\n",
      "Did not meet early stopping. Best iteration is:\n",
      "[2]\ttraining's auc: 1\n"
     ]
    }
   ],
   "source": [
    "# create dataset for lightgbm\n",
    "lgb_train = lgb.Dataset(X_train, y_train)\n",
    "#lgb_eval = lgb.Dataset(X_val, y_val, reference=lgb_train)\n",
    "\n",
    "\n",
    "#can replace 'is_unbalance': 'true', by 'scale_pos_weight': 10,\n",
    "\n",
    "parameters = {\n",
    "    'application': 'binary',\n",
    "    'objective': 'binary',\n",
    "    'metric': 'auc',\n",
    "    'boosting': 'gbdt',\n",
    "    'is_unbalance': 'true',\n",
    "    'num_leaves': 25,\n",
    "    'feature_fraction': 0.5,\n",
    "    'bagging_fraction': 0.5,\n",
    "    'bagging_freq': 20,\n",
    "    'learning_rate': 0.05,\n",
    "    'verbose': 0\n",
    "}\n",
    "\n",
    "model = lgb.train(parameters,\n",
    "                       lgb_train,\n",
    "                       valid_sets=lgb_train,\n",
    "                       num_boost_round=100,\n",
    "                       early_stopping_rounds=100)\n",
    "\n",
    "predictions = model.predict(X_test)\n"
   ]
  },
  {
   "cell_type": "code",
   "execution_count": 14,
   "metadata": {},
   "outputs": [
    {
     "data": {
      "image/png": "[encoded data removed]",
      "text/plain": [
       "<Figure size 432x288 with 1 Axes>"
      ]
     },
     "metadata": {
      "needs_background": "light"
     },
     "output_type": "display_data"
    }
   ],
   "source": [
    "import sklearn.metrics as metrics\n",
    "\n",
    "fpr, tpr, threshold = metrics.roc_curve(y_test, predictions)\n",
    "roc_auc = metrics.auc(fpr, tpr)\n",
    "\n",
    "# method I: plt\n",
    "import matplotlib.pyplot as plt\n",
    "%matplotlib inline\n",
    "plt.title('Receiver Operating Characteristic')\n",
    "plt.plot(fpr, tpr, 'b', label = 'AUC = %0.2f' % roc_auc)\n",
    "plt.legend(loc = 'lower right')\n",
    "plt.plot([0, 1], [0, 1],'r--')\n",
    "plt.xlim([0, 1])\n",
    "plt.ylim([0, 1])\n",
    "plt.ylabel('True Positive Rate')\n",
    "plt.xlabel('False Positive Rate')\n",
    "plt.show()"
   ]
  },
  {
   "cell_type": "code",
   "execution_count": 15,
   "metadata": {},
   "outputs": [
    {
     "name": "stdout",
     "output_type": "stream",
     "text": [
      "8 spotify_duration_ms\n",
      "0 spotify_track_number\n",
      "0 spotify_danceability\n",
      "6 spotify_energy\n",
      "0 spotify_loudness\n",
      "0 spotify_mode\n",
      "7 spotify_speechiness\n",
      "1 spotify_acousticness\n",
      "5 spotify_instrumentalness\n",
      "1 spotify_liveness\n",
      "4 spotify_valence\n",
      "0 spotify_tempo\n",
      "0 spotify_time_signature\n",
      "0 num_artists\n",
      "1 award_num\n",
      "0 gold_count\n",
      "0 platinum_count\n",
      "0 num_songs_awards\n",
      "11 firstrank\n",
      "1 top50\n",
      "2 top25\n",
      "1 top75\n",
      "0 top5\n"
     ]
    }
   ],
   "source": [
    "# Record the feature importances\n",
    "feature_importances = model.feature_importance()\n",
    "for i in range(len(feature_importances)):\n",
    "    print(feature_importances[i],X_train.columns[i])"
   ]
  },
  {
   "cell_type": "code",
   "execution_count": 16,
   "metadata": {},
   "outputs": [
    {
     "name": "stderr",
     "output_type": "stream",
     "text": [
      "/Users/iliasmiraoui/anaconda3/lib/python3.7/site-packages/sklearn/linear_model/logistic.py:432: FutureWarning: Default solver will be changed to 'lbfgs' in 0.22. Specify a solver to silence this warning.\n",
      "  FutureWarning)\n"
     ]
    },
    {
     "data": {
      "text/plain": [
       "LogisticRegression(C=1.0, class_weight=None, dual=False, fit_intercept=True,\n",
       "                   intercept_scaling=1, l1_ratio=None, max_iter=100,\n",
       "                   multi_class='warn', n_jobs=None, penalty='l2',\n",
       "                   random_state=None, solver='warn', tol=0.0001, verbose=0,\n",
       "                   warm_start=False)"
      ]
     },
     "execution_count": 16,
     "metadata": {},
     "output_type": "execute_result"
    }
   ],
   "source": [
    "from sklearn.linear_model import LogisticRegression\n",
    "from sklearn import metrics\n",
    "logreg = LogisticRegression()\n",
    "logreg.fit(X_train, y_train)"
   ]
  },
  {
   "cell_type": "code",
   "execution_count": 17,
   "metadata": {},
   "outputs": [
    {
     "name": "stdout",
     "output_type": "stream",
     "text": [
      "Accuracy of logistic regression classifier on test set: 1.00\n"
     ]
    }
   ],
   "source": [
    "y_pred = logreg.predict(X_test)\n",
    "print('Accuracy of logistic regression classifier on test set: {:.2f}'.format(logreg.score(X_test, y_test)))"
   ]
  },
  {
   "cell_type": "code",
   "execution_count": 18,
   "metadata": {},
   "outputs": [
    {
     "data": {
      "image/png": "[encoded data removed]",
      "text/plain": [
       "<Figure size 432x288 with 1 Axes>"
      ]
     },
     "metadata": {
      "needs_background": "light"
     },
     "output_type": "display_data"
    }
   ],
   "source": [
    "import sklearn.metrics as metrics\n",
    "\n",
    "fpr, tpr, threshold = metrics.roc_curve(y_test, y_pred)\n",
    "roc_auc = metrics.auc(fpr, tpr)\n",
    "\n",
    "# method I: plt\n",
    "import matplotlib.pyplot as plt\n",
    "%matplotlib inline\n",
    "plt.title('Receiver Operating Characteristic')\n",
    "plt.plot(fpr, tpr, 'b', label = 'AUC = %0.2f' % roc_auc)\n",
    "plt.legend(loc = 'lower right')\n",
    "plt.plot([0, 1], [0, 1],'r--')\n",
    "plt.xlim([0, 1])\n",
    "plt.ylim([0, 1])\n",
    "plt.ylabel('True Positive Rate')\n",
    "plt.xlabel('False Positive Rate')\n",
    "plt.show()"
   ]
  },
  {
   "cell_type": "code",
   "execution_count": 19,
   "metadata": {},
   "outputs": [
    {
     "data": {
      "text/plain": [
       "array([[752,  63],\n",
       "       [  0, 839]])"
      ]
     },
     "execution_count": 19,
     "metadata": {},
     "output_type": "execute_result"
    }
   ],
   "source": [
    "from sklearn.metrics import confusion_matrix\n",
    "\n",
    "predictions_matrix = [1 if pred > 0.5 else 0 for pred in predictions]\n",
    "confusion_matrix(y_test,predictions_matrix)"
   ]
  },
  {
   "cell_type": "code",
   "execution_count": null,
   "metadata": {},
   "outputs": [],
   "source": []
  },
  {
   "cell_type": "code",
   "execution_count": null,
   "metadata": {},
   "outputs": [],
   "source": []
  },
  {
   "cell_type": "code",
   "execution_count": null,
   "metadata": {},
   "outputs": [],
   "source": []
  }
 ],
 "metadata": {
  "kernelspec": {
   "display_name": "Python 3",
   "language": "python",
   "name": "python3"
  },
  "language_info": {
   "codemirror_mode": {
    "name": "ipython",
    "version": 3
   },
   "file_extension": ".py",
   "mimetype": "text/x-python",
   "name": "python",
   "nbconvert_exporter": "python",
   "pygments_lexer": "ipython3",
   "version": "3.7.4"
  }
 },
 "nbformat": 4,
 "nbformat_minor": 2
}
