{
 "cells": [
  {
   "cell_type": "code",
   "execution_count": 164,
   "metadata": {},
   "outputs": [],
   "source": [
    "import pandas as pd\n",
    "from sklearn.model_selection import train_test_split\n",
    "import lightgbm as lgb\n",
    "import numpy as np\n",
    "from sklearn import preprocessing\n",
    "import pickle\n",
    "from sklearn.model_selection import StratifiedShuffleSplit"
   ]
  },
  {
   "cell_type": "code",
   "execution_count": 165,
   "metadata": {},
   "outputs": [],
   "source": [
    "with open('song_df_aggregate.pkl', 'rb') as f:\n",
    "        song_df= pickle.load(f)  "
   ]
  },
  {
   "cell_type": "code",
   "execution_count": 166,
   "metadata": {},
   "outputs": [],
   "source": [
    "song_df[\"top10\"] = song_df[\"bestrank\"] <50"
   ]
  },
  {
   "cell_type": "code",
   "execution_count": 167,
   "metadata": {},
   "outputs": [
    {
     "data": {
      "text/plain": [
       "0         1\n",
       "1         2\n",
       "2         1\n",
       "3         1\n",
       "4         1\n",
       "       ... \n",
       "8514     79\n",
       "8515     93\n",
       "8516     95\n",
       "8517     99\n",
       "8518    100\n",
       "Name: bestrank, Length: 8519, dtype: int64"
      ]
     },
     "execution_count": 167,
     "metadata": {},
     "output_type": "execute_result"
    }
   ],
   "source": [
    "to_pop =[\"artist\",\"title\",\"isnew\",\"rank\",\"date\",\"spotify_id\",\"spotify_explicit\",\n",
    "             \"spotify_album_id\",\"spotify_album_release_date\",\"spotify_album_release_date_precision\",\"album_label\",\n",
    "             \"join\",\"spotify_album_release_date_datetime\",\"firstrank\",\"numberofappearances\",\"spotify_disc_number\"]\n",
    "#\"spotify_mode\",\"spotify_time_signature\",\"num_artists\",\"artist_has_award\",\"gold_count\",\"platinum_count\",\"spotify_track_number\"\n",
    "[song_df.pop(i) for i in to_pop]\n",
    "song_df.pop(\"last_award_type\")\n",
    "song_df.pop(\"spotify_key\")\n",
    "song_df.pop(\"bestrank\")"
   ]
  },
  {
   "cell_type": "code",
   "execution_count": 168,
   "metadata": {},
   "outputs": [],
   "source": [
    "song_df.pop(\"artist_has_award\")\n",
    "song_df = song_df.dropna()\n",
    "top10 = song_df.pop(\"top10\")\n"
   ]
  },
  {
   "cell_type": "code",
   "execution_count": 169,
   "metadata": {},
   "outputs": [],
   "source": [
    "X_train, X_test, y_train, y_test = train_test_split(song_df, top10, test_size=0.2)"
   ]
  },
  {
   "cell_type": "code",
   "execution_count": 170,
   "metadata": {},
   "outputs": [
    {
     "name": "stdout",
     "output_type": "stream",
     "text": [
      "[1]\ttraining's auc: 0.58209\n",
      "Training until validation scores don't improve for 100 rounds\n",
      "[2]\ttraining's auc: 0.615208\n",
      "[3]\ttraining's auc: 0.637543\n",
      "[4]\ttraining's auc: 0.64278\n",
      "[5]\ttraining's auc: 0.652743\n",
      "[6]\ttraining's auc: 0.653834\n",
      "[7]\ttraining's auc: 0.657703\n",
      "[8]\ttraining's auc: 0.662104\n",
      "[9]\ttraining's auc: 0.663745\n",
      "[10]\ttraining's auc: 0.672948\n",
      "[11]\ttraining's auc: 0.674834\n",
      "[12]\ttraining's auc: 0.678173\n",
      "[13]\ttraining's auc: 0.682189\n",
      "[14]\ttraining's auc: 0.684083\n",
      "[15]\ttraining's auc: 0.689101\n",
      "[16]\ttraining's auc: 0.694293\n",
      "[17]\ttraining's auc: 0.694679\n",
      "[18]\ttraining's auc: 0.697316\n",
      "[19]\ttraining's auc: 0.699226\n",
      "[20]\ttraining's auc: 0.701037\n",
      "[21]\ttraining's auc: 0.703258\n",
      "[22]\ttraining's auc: 0.705316\n",
      "[23]\ttraining's auc: 0.708834\n",
      "[24]\ttraining's auc: 0.712705\n",
      "[25]\ttraining's auc: 0.713991\n",
      "[26]\ttraining's auc: 0.714794\n",
      "[27]\ttraining's auc: 0.71566\n",
      "[28]\ttraining's auc: 0.718564\n",
      "[29]\ttraining's auc: 0.721057\n",
      "[30]\ttraining's auc: 0.723183\n",
      "[31]\ttraining's auc: 0.724247\n",
      "[32]\ttraining's auc: 0.725059\n",
      "[33]\ttraining's auc: 0.725487\n",
      "[34]\ttraining's auc: 0.726442\n",
      "[35]\ttraining's auc: 0.728237\n",
      "[36]\ttraining's auc: 0.729421\n",
      "[37]\ttraining's auc: 0.729948\n",
      "[38]\ttraining's auc: 0.731594\n",
      "[39]\ttraining's auc: 0.732196\n",
      "[40]\ttraining's auc: 0.733513\n",
      "[41]\ttraining's auc: 0.735645\n",
      "[42]\ttraining's auc: 0.737578\n",
      "[43]\ttraining's auc: 0.739743\n",
      "[44]\ttraining's auc: 0.742126\n",
      "[45]\ttraining's auc: 0.74362\n",
      "[46]\ttraining's auc: 0.746516\n",
      "[47]\ttraining's auc: 0.748324\n",
      "[48]\ttraining's auc: 0.750575\n",
      "[49]\ttraining's auc: 0.751797\n",
      "[50]\ttraining's auc: 0.753027\n",
      "[51]\ttraining's auc: 0.754824\n",
      "[52]\ttraining's auc: 0.754862\n",
      "[53]\ttraining's auc: 0.756149\n",
      "[54]\ttraining's auc: 0.757264\n",
      "[55]\ttraining's auc: 0.759025\n",
      "[56]\ttraining's auc: 0.760563\n",
      "[57]\ttraining's auc: 0.761281\n",
      "[58]\ttraining's auc: 0.762713\n",
      "[59]\ttraining's auc: 0.763072\n",
      "[60]\ttraining's auc: 0.763698\n",
      "[61]\ttraining's auc: 0.767099\n",
      "[62]\ttraining's auc: 0.76918\n",
      "[63]\ttraining's auc: 0.770369\n",
      "[64]\ttraining's auc: 0.772792\n",
      "[65]\ttraining's auc: 0.774943\n",
      "[66]\ttraining's auc: 0.776687\n",
      "[67]\ttraining's auc: 0.778508\n",
      "[68]\ttraining's auc: 0.780058\n",
      "[69]\ttraining's auc: 0.781521\n",
      "[70]\ttraining's auc: 0.783565\n",
      "[71]\ttraining's auc: 0.784552\n",
      "[72]\ttraining's auc: 0.786454\n",
      "[73]\ttraining's auc: 0.787078\n",
      "[74]\ttraining's auc: 0.787906\n",
      "[75]\ttraining's auc: 0.788646\n",
      "[76]\ttraining's auc: 0.789945\n",
      "[77]\ttraining's auc: 0.791324\n",
      "[78]\ttraining's auc: 0.791666\n",
      "[79]\ttraining's auc: 0.792564\n",
      "[80]\ttraining's auc: 0.793618\n",
      "[81]\ttraining's auc: 0.794667\n",
      "[82]\ttraining's auc: 0.795183\n",
      "[83]\ttraining's auc: 0.795848\n",
      "[84]\ttraining's auc: 0.796124\n",
      "[85]\ttraining's auc: 0.797049\n",
      "[86]\ttraining's auc: 0.796891\n",
      "[87]\ttraining's auc: 0.796954\n",
      "[88]\ttraining's auc: 0.79709\n",
      "[89]\ttraining's auc: 0.798075\n",
      "[90]\ttraining's auc: 0.798306\n",
      "[91]\ttraining's auc: 0.799737\n",
      "[92]\ttraining's auc: 0.801427\n",
      "[93]\ttraining's auc: 0.802178\n",
      "[94]\ttraining's auc: 0.803376\n",
      "[95]\ttraining's auc: 0.804508\n",
      "[96]\ttraining's auc: 0.804244\n",
      "[97]\ttraining's auc: 0.804567\n",
      "[98]\ttraining's auc: 0.805778\n",
      "[99]\ttraining's auc: 0.805965\n",
      "[100]\ttraining's auc: 0.807179\n",
      "Did not meet early stopping. Best iteration is:\n",
      "[100]\ttraining's auc: 0.807179\n"
     ]
    }
   ],
   "source": [
    "# create dataset for lightgbm\n",
    "lgb_train = lgb.Dataset(X_train, y_train)\n",
    "#lgb_eval = lgb.Dataset(X_val, y_val, reference=lgb_train)\n",
    "\n",
    "\n",
    "#can replace 'is_unbalance': 'true', by 'scale_pos_weight': 10,\n",
    "\n",
    "parameters = {\n",
    "    'application': 'binary',\n",
    "    'objective': 'binary',\n",
    "    'metric': 'auc',\n",
    "    'boosting': 'gbdt',\n",
    "    'is_unbalance': 'true',\n",
    "    'num_leaves': 25,\n",
    "    'feature_fraction': 0.5,\n",
    "    'bagging_fraction': 0.5,\n",
    "    'bagging_freq': 20,\n",
    "    'learning_rate': 0.05,\n",
    "    'verbose': 0\n",
    "}\n",
    "\n",
    "model = lgb.train(parameters,\n",
    "                       lgb_train,\n",
    "                       valid_sets=lgb_train,\n",
    "                       num_boost_round=100,\n",
    "                       early_stopping_rounds=100)\n",
    "\n",
    "predictions = model.predict(X_test)\n"
   ]
  },
  {
   "cell_type": "code",
   "execution_count": 171,
   "metadata": {},
   "outputs": [
    {
     "data": {
      "image/png": "[encoded data removed]",
      "text/plain": [
       "<Figure size 432x288 with 1 Axes>"
      ]
     },
     "metadata": {
      "needs_background": "light"
     },
     "output_type": "display_data"
    }
   ],
   "source": [
    "import sklearn.metrics as metrics\n",
    "\n",
    "fpr, tpr, threshold = metrics.roc_curve(y_test, predictions)\n",
    "roc_auc = metrics.auc(fpr, tpr)\n",
    "\n",
    "# method I: plt\n",
    "import matplotlib.pyplot as plt\n",
    "%matplotlib inline\n",
    "plt.title('Receiver Operating Characteristic')\n",
    "plt.plot(fpr, tpr, 'b', label = 'AUC = %0.2f' % roc_auc)\n",
    "plt.legend(loc = 'lower right')\n",
    "plt.plot([0, 1], [0, 1],'r--')\n",
    "plt.xlim([0, 1])\n",
    "plt.ylim([0, 1])\n",
    "plt.ylabel('True Positive Rate')\n",
    "plt.xlabel('False Positive Rate')\n",
    "plt.show()"
   ]
  },
  {
   "cell_type": "code",
   "execution_count": 172,
   "metadata": {},
   "outputs": [
    {
     "name": "stdout",
     "output_type": "stream",
     "text": [
      "218 spotify_duration_ms\n",
      "83 spotify_track_number\n",
      "233 spotify_danceability\n",
      "186 spotify_energy\n",
      "119 spotify_loudness\n",
      "21 spotify_mode\n",
      "217 spotify_speechiness\n",
      "236 spotify_acousticness\n",
      "113 spotify_instrumentalness\n",
      "191 spotify_liveness\n",
      "167 spotify_valence\n",
      "221 spotify_tempo\n",
      "16 spotify_time_signature\n",
      "15 num_artists\n",
      "112 award_num\n",
      "81 gold_count\n",
      "102 platinum_count\n",
      "69 num_songs_awards\n"
     ]
    }
   ],
   "source": [
    "# Record the feature importances\n",
    "feature_importances = model.feature_importance()\n",
    "for i in range(len(feature_importances)):\n",
    "    print(feature_importances[i],X_train.columns[i])"
   ]
  },
  {
   "cell_type": "code",
   "execution_count": 173,
   "metadata": {},
   "outputs": [
    {
     "name": "stderr",
     "output_type": "stream",
     "text": [
      "/Users/iliasmiraoui/anaconda3/lib/python3.7/site-packages/sklearn/linear_model/logistic.py:432: FutureWarning: Default solver will be changed to 'lbfgs' in 0.22. Specify a solver to silence this warning.\n",
      "  FutureWarning)\n"
     ]
    },
    {
     "data": {
      "text/plain": [
       "LogisticRegression(C=1.0, class_weight=None, dual=False, fit_intercept=True,\n",
       "                   intercept_scaling=1, l1_ratio=None, max_iter=100,\n",
       "                   multi_class='warn', n_jobs=None, penalty='l2',\n",
       "                   random_state=None, solver='warn', tol=0.0001, verbose=0,\n",
       "                   warm_start=False)"
      ]
     },
     "execution_count": 173,
     "metadata": {},
     "output_type": "execute_result"
    }
   ],
   "source": [
    "from sklearn.linear_model import LogisticRegression\n",
    "from sklearn import metrics\n",
    "logreg = LogisticRegression()\n",
    "logreg.fit(X_train, y_train)"
   ]
  },
  {
   "cell_type": "code",
   "execution_count": 174,
   "metadata": {},
   "outputs": [
    {
     "name": "stdout",
     "output_type": "stream",
     "text": [
      "Accuracy of logistic regression classifier on test set: 0.56\n"
     ]
    }
   ],
   "source": [
    "y_pred = logreg.predict(X_test)\n",
    "print('Accuracy of logistic regression classifier on test set: {:.2f}'.format(logreg.score(X_test, y_test)))"
   ]
  },
  {
   "cell_type": "code",
   "execution_count": 175,
   "metadata": {},
   "outputs": [
    {
     "data": {
      "image/png": "[encoded data removed]",
      "text/plain": [
       "<Figure size 432x288 with 1 Axes>"
      ]
     },
     "metadata": {
      "needs_background": "light"
     },
     "output_type": "display_data"
    }
   ],
   "source": [
    "import sklearn.metrics as metrics\n",
    "\n",
    "fpr, tpr, threshold = metrics.roc_curve(y_test, y_pred)\n",
    "roc_auc = metrics.auc(fpr, tpr)\n",
    "\n",
    "# method I: plt\n",
    "import matplotlib.pyplot as plt\n",
    "%matplotlib inline\n",
    "plt.title('Receiver Operating Characteristic')\n",
    "plt.plot(fpr, tpr, 'b', label = 'AUC = %0.2f' % roc_auc)\n",
    "plt.legend(loc = 'lower right')\n",
    "plt.plot([0, 1], [0, 1],'r--')\n",
    "plt.xlim([0, 1])\n",
    "plt.ylim([0, 1])\n",
    "plt.ylabel('True Positive Rate')\n",
    "plt.xlabel('False Positive Rate')\n",
    "plt.show()"
   ]
  },
  {
   "cell_type": "code",
   "execution_count": 176,
   "metadata": {},
   "outputs": [
    {
     "data": {
      "text/plain": [
       "array([[450, 339],\n",
       "       [340, 525]])"
      ]
     },
     "execution_count": 176,
     "metadata": {},
     "output_type": "execute_result"
    }
   ],
   "source": [
    "from sklearn.metrics import confusion_matrix\n",
    "\n",
    "predictions_matrix = [1 if pred > 0.5 else 0 for pred in predictions]\n",
    "confusion_matrix(y_test,predictions_matrix)"
   ]
  },
  {
   "cell_type": "code",
   "execution_count": null,
   "metadata": {},
   "outputs": [],
   "source": []
  },
  {
   "cell_type": "code",
   "execution_count": null,
   "metadata": {},
   "outputs": [],
   "source": []
  },
  {
   "cell_type": "code",
   "execution_count": null,
   "metadata": {},
   "outputs": [],
   "source": []
  }
 ],
 "metadata": {
  "kernelspec": {
   "display_name": "Python 3",
   "language": "python",
   "name": "python3"
  },
  "language_info": {
   "codemirror_mode": {
    "name": "ipython",
    "version": 3
   },
   "file_extension": ".py",
   "mimetype": "text/x-python",
   "name": "python",
   "nbconvert_exporter": "python",
   "pygments_lexer": "ipython3",
   "version": "3.7.4"
  }
 },
 "nbformat": 4,
 "nbformat_minor": 2
}
