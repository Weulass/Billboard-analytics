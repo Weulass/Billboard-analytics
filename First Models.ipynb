{
 "cells": [
  {
   "cell_type": "code",
   "execution_count": 135,
   "metadata": {},
   "outputs": [],
   "source": [
    "import pandas as pd\n",
    "from sklearn.model_selection import train_test_split\n",
    "import lightgbm as lgb\n",
    "import numpy as np\n",
    "from sklearn import preprocessing\n",
    "import pickle\n",
    "from sklearn.model_selection import StratifiedShuffleSplit"
   ]
  },
  {
   "cell_type": "code",
   "execution_count": 136,
   "metadata": {},
   "outputs": [],
   "source": [
    "with open('song_df_aggregate.pkl', 'rb') as f:\n",
    "        song_df= pickle.load(f)  "
   ]
  },
  {
   "cell_type": "code",
   "execution_count": 137,
   "metadata": {},
   "outputs": [],
   "source": [
    "song_df[\"top10\"] = song_df[\"bestrank\"] <50"
   ]
  },
  {
   "cell_type": "code",
   "execution_count": 138,
   "metadata": {},
   "outputs": [
    {
     "data": {
      "text/plain": [
       "0         1\n",
       "1         2\n",
       "2         1\n",
       "3         1\n",
       "4         1\n",
       "       ... \n",
       "8514     79\n",
       "8515     93\n",
       "8516     95\n",
       "8517     99\n",
       "8518    100\n",
       "Name: bestrank, Length: 8519, dtype: int64"
      ]
     },
     "execution_count": 138,
     "metadata": {},
     "output_type": "execute_result"
    }
   ],
   "source": [
    "to_pop =[\"artist\",\"title\",\"isnew\",\"rank\",\"date\",\"spotify_id\",\"spotify_explicit\",\n",
    "             \"spotify_album_id\",\"spotify_album_release_date\",\"spotify_album_release_date_precision\",\"album_label\",\n",
    "             \"join\",\"spotify_album_release_date_datetime\",\"firstrank\",\"numberofappearances\",\"spotify_disc_number\",\"spotify_mode\",\"spotify_time_signature\",\"num_artists\",\"gold_count\",\"platinum_count\",\"spotify_track_number\"]\n",
    "[song_df.pop(i) for i in to_pop]\n",
    "song_df.pop(\"last_award_type\")\n",
    "song_df.pop(\"spotify_key\")\n",
    "song_df.pop(\"bestrank\")"
   ]
  },
  {
   "cell_type": "code",
   "execution_count": 139,
   "metadata": {},
   "outputs": [],
   "source": [
    "song_df.pop(\"artist_has_award\")\n",
    "song_df = song_df.dropna()\n",
    "top10 = song_df.pop(\"top10\")\n"
   ]
  },
  {
   "cell_type": "code",
   "execution_count": 140,
   "metadata": {},
   "outputs": [
    {
     "data": {
      "text/plain": [
       "[0        True\n",
       " 1        True\n",
       " 2        True\n",
       " 3        True\n",
       " 4        True\n",
       "         ...  \n",
       " 8514    False\n",
       " 8515    False\n",
       " 8516    False\n",
       " 8517    False\n",
       " 8518    False\n",
       " Name: top10, Length: 8269, dtype: bool, 0        True\n",
       " 1        True\n",
       " 2        True\n",
       " 3        True\n",
       " 4        True\n",
       "         ...  \n",
       " 8514    False\n",
       " 8515    False\n",
       " 8516    False\n",
       " 8517    False\n",
       " 8518    False\n",
       " Name: top25, Length: 8269, dtype: bool, 0        True\n",
       " 1        True\n",
       " 2        True\n",
       " 3        True\n",
       " 4        True\n",
       "         ...  \n",
       " 8514    False\n",
       " 8515    False\n",
       " 8516    False\n",
       " 8517    False\n",
       " 8518    False\n",
       " Name: top50, Length: 8269, dtype: bool, 0        True\n",
       " 1        True\n",
       " 2        True\n",
       " 3        True\n",
       " 4        True\n",
       "         ...  \n",
       " 8514    False\n",
       " 8515    False\n",
       " 8516    False\n",
       " 8517    False\n",
       " 8518    False\n",
       " Name: top5, Length: 8269, dtype: bool, 0         1.0\n",
       " 1       107.0\n",
       " 2        76.0\n",
       " 3       211.0\n",
       " 4        70.0\n",
       "         ...  \n",
       " 8514     60.0\n",
       " 8515     69.0\n",
       " 8516      2.0\n",
       " 8517     73.0\n",
       " 8518     98.0\n",
       " Name: label_appearance_count, Length: 8269, dtype: float64, 0        Mini Label\n",
       " 1       Great Label\n",
       " 2         Big Label\n",
       " 3        Mega Label\n",
       " 4         Big Label\n",
       "            ...     \n",
       " 8514      Big Label\n",
       " 8515      Big Label\n",
       " 8516     Mini Label\n",
       " 8517      Big Label\n",
       " 8518      Big Label\n",
       " Name: label_category, Length: 8269, dtype: object, 0        Mini Label\n",
       " 1       Great Label\n",
       " 2         Big Label\n",
       " 3        Mega Label\n",
       " 4        Mega Label\n",
       "            ...     \n",
       " 8514      Big Label\n",
       " 8515      Big Label\n",
       " 8516      Big Label\n",
       " 8517      Big Label\n",
       " 8518      Big Label\n",
       " Name: label_category_group, Length: 8269, dtype: object]"
      ]
     },
     "execution_count": 140,
     "metadata": {},
     "output_type": "execute_result"
    }
   ],
   "source": [
    "to_pop =[\"top50\",\"top25\",\"top75\",\"top5\",\"label_appearance_count\",\"label_category\",\"label_category_group\"]\n",
    "[song_df.pop(i) for i in to_pop]"
   ]
  },
  {
   "cell_type": "code",
   "execution_count": 141,
   "metadata": {},
   "outputs": [],
   "source": [
    "X_train, X_test, y_train, y_test = train_test_split(song_df, top10, test_size=0.3)"
   ]
  },
  {
   "cell_type": "code",
   "execution_count": 142,
   "metadata": {},
   "outputs": [
    {
     "name": "stdout",
     "output_type": "stream",
     "text": [
      "[1]\ttraining's auc: 0.593521\n",
      "Training until validation scores don't improve for 100 rounds\n",
      "[2]\ttraining's auc: 0.62308\n",
      "[3]\ttraining's auc: 0.642952\n",
      "[4]\ttraining's auc: 0.654634\n",
      "[5]\ttraining's auc: 0.662763\n",
      "[6]\ttraining's auc: 0.672843\n",
      "[7]\ttraining's auc: 0.679112\n",
      "[8]\ttraining's auc: 0.683784\n",
      "[9]\ttraining's auc: 0.690531\n",
      "[10]\ttraining's auc: 0.691998\n",
      "[11]\ttraining's auc: 0.693738\n",
      "[12]\ttraining's auc: 0.694877\n",
      "[13]\ttraining's auc: 0.699273\n",
      "[14]\ttraining's auc: 0.703327\n",
      "[15]\ttraining's auc: 0.705767\n",
      "[16]\ttraining's auc: 0.708505\n",
      "[17]\ttraining's auc: 0.710435\n",
      "[18]\ttraining's auc: 0.71194\n",
      "[19]\ttraining's auc: 0.714415\n",
      "[20]\ttraining's auc: 0.715283\n",
      "[21]\ttraining's auc: 0.718898\n",
      "[22]\ttraining's auc: 0.722293\n",
      "[23]\ttraining's auc: 0.728097\n",
      "[24]\ttraining's auc: 0.732729\n",
      "[25]\ttraining's auc: 0.737776\n",
      "[26]\ttraining's auc: 0.739921\n",
      "[27]\ttraining's auc: 0.742134\n",
      "[28]\ttraining's auc: 0.743559\n",
      "[29]\ttraining's auc: 0.745886\n",
      "[30]\ttraining's auc: 0.746413\n",
      "[31]\ttraining's auc: 0.748963\n",
      "[32]\ttraining's auc: 0.751267\n",
      "[33]\ttraining's auc: 0.750927\n",
      "[34]\ttraining's auc: 0.751185\n",
      "[35]\ttraining's auc: 0.753774\n",
      "[36]\ttraining's auc: 0.755063\n",
      "[37]\ttraining's auc: 0.757179\n",
      "[38]\ttraining's auc: 0.759923\n",
      "[39]\ttraining's auc: 0.761906\n",
      "[40]\ttraining's auc: 0.762611\n",
      "[41]\ttraining's auc: 0.765972\n",
      "[42]\ttraining's auc: 0.768767\n",
      "[43]\ttraining's auc: 0.771091\n",
      "[44]\ttraining's auc: 0.773428\n",
      "[45]\ttraining's auc: 0.775322\n",
      "[46]\ttraining's auc: 0.777029\n",
      "[47]\ttraining's auc: 0.779375\n",
      "[48]\ttraining's auc: 0.781884\n",
      "[49]\ttraining's auc: 0.783882\n",
      "[50]\ttraining's auc: 0.785817\n",
      "[51]\ttraining's auc: 0.787182\n",
      "[52]\ttraining's auc: 0.787888\n",
      "[53]\ttraining's auc: 0.789569\n",
      "[54]\ttraining's auc: 0.79114\n",
      "[55]\ttraining's auc: 0.793391\n",
      "[56]\ttraining's auc: 0.796131\n",
      "[57]\ttraining's auc: 0.797487\n",
      "[58]\ttraining's auc: 0.799034\n",
      "[59]\ttraining's auc: 0.800678\n",
      "[60]\ttraining's auc: 0.803038\n",
      "[61]\ttraining's auc: 0.806281\n",
      "[62]\ttraining's auc: 0.807929\n",
      "[63]\ttraining's auc: 0.810407\n",
      "[64]\ttraining's auc: 0.812433\n",
      "[65]\ttraining's auc: 0.814747\n",
      "[66]\ttraining's auc: 0.815813\n",
      "[67]\ttraining's auc: 0.81812\n",
      "[68]\ttraining's auc: 0.819011\n",
      "[69]\ttraining's auc: 0.820662\n",
      "[70]\ttraining's auc: 0.822321\n",
      "[71]\ttraining's auc: 0.823188\n",
      "[72]\ttraining's auc: 0.824417\n",
      "[73]\ttraining's auc: 0.825483\n",
      "[74]\ttraining's auc: 0.826131\n",
      "[75]\ttraining's auc: 0.826769\n",
      "[76]\ttraining's auc: 0.828052\n",
      "[77]\ttraining's auc: 0.82922\n",
      "[78]\ttraining's auc: 0.830007\n",
      "[79]\ttraining's auc: 0.830781\n",
      "[80]\ttraining's auc: 0.831579\n",
      "[81]\ttraining's auc: 0.834298\n",
      "[82]\ttraining's auc: 0.835647\n",
      "[83]\ttraining's auc: 0.836927\n",
      "[84]\ttraining's auc: 0.837398\n",
      "[85]\ttraining's auc: 0.839735\n",
      "[86]\ttraining's auc: 0.841487\n",
      "[87]\ttraining's auc: 0.843077\n",
      "[88]\ttraining's auc: 0.843454\n",
      "[89]\ttraining's auc: 0.844963\n",
      "[90]\ttraining's auc: 0.845915\n",
      "[91]\ttraining's auc: 0.846787\n",
      "[92]\ttraining's auc: 0.847502\n",
      "[93]\ttraining's auc: 0.8483\n",
      "[94]\ttraining's auc: 0.848303\n",
      "[95]\ttraining's auc: 0.849199\n",
      "[96]\ttraining's auc: 0.850487\n",
      "[97]\ttraining's auc: 0.851594\n",
      "[98]\ttraining's auc: 0.851967\n",
      "[99]\ttraining's auc: 0.85172\n",
      "[100]\ttraining's auc: 0.852155\n",
      "Did not meet early stopping. Best iteration is:\n",
      "[100]\ttraining's auc: 0.852155\n"
     ]
    }
   ],
   "source": [
    "# create dataset for lightgbm\n",
    "lgb_train = lgb.Dataset(X_train, y_train)\n",
    "#lgb_eval = lgb.Dataset(X_val, y_val, reference=lgb_train)\n",
    "\n",
    "\n",
    "#can replace 'is_unbalance': 'true', by 'scale_pos_weight': 10,\n",
    "\n",
    "parameters = {\n",
    "    'application': 'binary',\n",
    "    'objective': 'binary',\n",
    "    'metric': 'auc',\n",
    "    'boosting': 'gbdt',\n",
    "    'is_unbalance': 'true',\n",
    "    'num_leaves': 25,\n",
    "    'feature_fraction': 0.5,\n",
    "    'bagging_fraction': 0.5,\n",
    "    'bagging_freq': 20,\n",
    "    'learning_rate': 0.05,\n",
    "    'verbose': 0\n",
    "}\n",
    "\n",
    "model = lgb.train(parameters,\n",
    "                       lgb_train,\n",
    "                       valid_sets=lgb_train,\n",
    "                       num_boost_round=100,\n",
    "                       early_stopping_rounds=100)\n",
    "\n",
    "predictions = model.predict(X_test)\n"
   ]
  },
  {
   "cell_type": "code",
   "execution_count": 143,
   "metadata": {},
   "outputs": [
    {
     "data": {
      "image/png": "[encoded data removed]",
      "text/plain": [
       "<Figure size 432x288 with 1 Axes>"
      ]
     },
     "metadata": {
      "needs_background": "light"
     },
     "output_type": "display_data"
    }
   ],
   "source": [
    "import sklearn.metrics as metrics\n",
    "\n",
    "fpr, tpr, threshold = metrics.roc_curve(y_test, predictions)\n",
    "roc_auc = metrics.auc(fpr, tpr)\n",
    "\n",
    "# method I: plt\n",
    "import matplotlib.pyplot as plt\n",
    "%matplotlib inline\n",
    "plt.title('Receiver Operating Characteristic')\n",
    "plt.plot(fpr, tpr, 'b', label = 'AUC = %0.2f' % roc_auc)\n",
    "plt.legend(loc = 'lower right')\n",
    "plt.plot([0, 1], [0, 1],'r--')\n",
    "plt.xlim([0, 1])\n",
    "plt.ylim([0, 1])\n",
    "plt.ylabel('True Positive Rate')\n",
    "plt.xlabel('False Positive Rate')\n",
    "plt.show()"
   ]
  },
  {
   "cell_type": "code",
   "execution_count": 122,
   "metadata": {},
   "outputs": [
    {
     "name": "stdout",
     "output_type": "stream",
     "text": [
      "226 spotify_duration_ms\n",
      "213 spotify_danceability\n",
      "219 spotify_energy\n",
      "167 spotify_loudness\n",
      "249 spotify_speechiness\n",
      "204 spotify_acousticness\n",
      "117 spotify_instrumentalness\n",
      "172 spotify_liveness\n",
      "161 spotify_valence\n",
      "252 spotify_tempo\n",
      "137 award_num\n",
      "109 num_songs_awards\n",
      "174 label_appearance_count_group\n"
     ]
    }
   ],
   "source": [
    "# Record the feature importances\n",
    "feature_importances = model.feature_importance()\n",
    "for i in range(len(feature_importances)):\n",
    "    print(feature_importances[i],X_train.columns[i])"
   ]
  },
  {
   "cell_type": "code",
   "execution_count": 123,
   "metadata": {},
   "outputs": [
    {
     "name": "stderr",
     "output_type": "stream",
     "text": [
      "/Users/iliasmiraoui/anaconda3/lib/python3.7/site-packages/sklearn/linear_model/logistic.py:432: FutureWarning: Default solver will be changed to 'lbfgs' in 0.22. Specify a solver to silence this warning.\n",
      "  FutureWarning)\n"
     ]
    },
    {
     "data": {
      "text/plain": [
       "LogisticRegression(C=1.0, class_weight=None, dual=False, fit_intercept=True,\n",
       "                   intercept_scaling=1, l1_ratio=None, max_iter=100,\n",
       "                   multi_class='warn', n_jobs=None, penalty='l2',\n",
       "                   random_state=None, solver='warn', tol=0.0001, verbose=0,\n",
       "                   warm_start=False)"
      ]
     },
     "execution_count": 123,
     "metadata": {},
     "output_type": "execute_result"
    }
   ],
   "source": [
    "from sklearn.linear_model import LogisticRegression\n",
    "from sklearn import metrics\n",
    "logreg = LogisticRegression()\n",
    "logreg.fit(X_train, y_train)"
   ]
  },
  {
   "cell_type": "code",
   "execution_count": 124,
   "metadata": {},
   "outputs": [
    {
     "name": "stdout",
     "output_type": "stream",
     "text": [
      "Accuracy of logistic regression classifier on test set: 0.54\n"
     ]
    }
   ],
   "source": [
    "y_pred = logreg.predict(X_test)\n",
    "print('Accuracy of logistic regression classifier on test set: {:.2f}'.format(logreg.score(X_test, y_test)))"
   ]
  },
  {
   "cell_type": "code",
   "execution_count": 125,
   "metadata": {},
   "outputs": [
    {
     "data": {
      "image/png": "[encoded data removed]",
      "text/plain": [
       "<Figure size 432x288 with 1 Axes>"
      ]
     },
     "metadata": {
      "needs_background": "light"
     },
     "output_type": "display_data"
    }
   ],
   "source": [
    "import sklearn.metrics as metrics\n",
    "\n",
    "fpr, tpr, threshold = metrics.roc_curve(y_test, y_pred)\n",
    "roc_auc = metrics.auc(fpr, tpr)\n",
    "\n",
    "# method I: plt\n",
    "import matplotlib.pyplot as plt\n",
    "%matplotlib inline\n",
    "plt.title('Receiver Operating Characteristic')\n",
    "plt.plot(fpr, tpr, 'b', label = 'AUC = %0.2f' % roc_auc)\n",
    "plt.legend(loc = 'lower right')\n",
    "plt.plot([0, 1], [0, 1],'r--')\n",
    "plt.xlim([0, 1])\n",
    "plt.ylim([0, 1])\n",
    "plt.ylabel('True Positive Rate')\n",
    "plt.xlabel('False Positive Rate')\n",
    "plt.show()"
   ]
  },
  {
   "cell_type": "code",
   "execution_count": 74,
   "metadata": {},
   "outputs": [
    {
     "data": {
      "text/plain": [
       "array([[416, 372],\n",
       "       [314, 552]])"
      ]
     },
     "execution_count": 74,
     "metadata": {},
     "output_type": "execute_result"
    }
   ],
   "source": [
    "from sklearn.metrics import confusion_matrix\n",
    "\n",
    "predictions_matrix = [1 if pred > 0.5 else 0 for pred in predictions]\n",
    "confusion_matrix(y_test,predictions_matrix)"
   ]
  },
  {
   "cell_type": "code",
   "execution_count": null,
   "metadata": {},
   "outputs": [],
   "source": []
  },
  {
   "cell_type": "code",
   "execution_count": null,
   "metadata": {},
   "outputs": [],
   "source": []
  },
  {
   "cell_type": "code",
   "execution_count": null,
   "metadata": {},
   "outputs": [],
   "source": []
  }
 ],
 "metadata": {
  "kernelspec": {
   "display_name": "Python 3",
   "language": "python",
   "name": "python3"
  },
  "language_info": {
   "codemirror_mode": {
    "name": "ipython",
    "version": 3
   },
   "file_extension": ".py",
   "mimetype": "text/x-python",
   "name": "python",
   "nbconvert_exporter": "python",
   "pygments_lexer": "ipython3",
   "version": "3.7.4"
  }
 },
 "nbformat": 4,
 "nbformat_minor": 2
}
