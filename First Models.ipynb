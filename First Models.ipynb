{
 "cells": [
  {
   "cell_type": "code",
   "execution_count": 154,
   "metadata": {},
   "outputs": [],
   "source": [
    "import pandas as pd\n",
    "from sklearn.model_selection import train_test_split\n",
    "import lightgbm as lgb\n",
    "import numpy as np\n",
    "from sklearn import preprocessing\n",
    "import pickle\n",
    "from sklearn.model_selection import StratifiedShuffleSplit"
   ]
  },
  {
   "cell_type": "code",
   "execution_count": 155,
   "metadata": {},
   "outputs": [],
   "source": [
    "with open('song_df_aggregate.pkl', 'rb') as f:\n",
    "        song_df= pickle.load(f)  "
   ]
  },
  {
   "cell_type": "code",
   "execution_count": 156,
   "metadata": {},
   "outputs": [],
   "source": [
    "song_df[\"top10\"] = song_df[\"bestrank\"] <50"
   ]
  },
  {
   "cell_type": "code",
   "execution_count": 157,
   "metadata": {},
   "outputs": [
    {
     "data": {
      "text/plain": [
       "0         1\n",
       "1         2\n",
       "2         1\n",
       "3         1\n",
       "4         1\n",
       "       ... \n",
       "8514     79\n",
       "8515     93\n",
       "8516     95\n",
       "8517     99\n",
       "8518    100\n",
       "Name: bestrank, Length: 8519, dtype: int64"
      ]
     },
     "execution_count": 157,
     "metadata": {},
     "output_type": "execute_result"
    }
   ],
   "source": [
    "to_pop =[\"artist\",\"title\",\"isnew\",\"rank\",\"date\",\"spotify_id\",\"spotify_explicit\",\n",
    "             \"spotify_album_id\",\"spotify_album_release_date\",\"spotify_album_release_date_precision\",\"album_label\",\n",
    "             \"join\",\"spotify_album_release_date_datetime\",\"numberofappearances\",\"spotify_disc_number\",\"spotify_mode\",\"spotify_time_signature\",\"num_artists\",\"gold_count\",\"platinum_count\",\"spotify_track_number\"]\n",
    "[song_df.pop(i) for i in to_pop]\n",
    "song_df.pop(\"last_award_type\")\n",
    "song_df.pop(\"spotify_key\")\n",
    "song_df.pop(\"bestrank\")"
   ]
  },
  {
   "cell_type": "code",
   "execution_count": 158,
   "metadata": {},
   "outputs": [],
   "source": [
    "song_df.pop(\"artist_has_award\")\n",
    "song_df = song_df.dropna()\n",
    "top10 = song_df.pop(\"top10\")\n"
   ]
  },
  {
   "cell_type": "code",
   "execution_count": 159,
   "metadata": {},
   "outputs": [
    {
     "data": {
      "text/plain": [
       "[0        True\n",
       " 1        True\n",
       " 2        True\n",
       " 3        True\n",
       " 4        True\n",
       "         ...  \n",
       " 8514    False\n",
       " 8515    False\n",
       " 8516    False\n",
       " 8517    False\n",
       " 8518    False\n",
       " Name: top50, Length: 8269, dtype: bool, 0        True\n",
       " 1        True\n",
       " 2        True\n",
       " 3        True\n",
       " 4        True\n",
       "         ...  \n",
       " 8514    False\n",
       " 8515    False\n",
       " 8516    False\n",
       " 8517    False\n",
       " 8518    False\n",
       " Name: top25, Length: 8269, dtype: bool, 0        True\n",
       " 1        True\n",
       " 2        True\n",
       " 3        True\n",
       " 4        True\n",
       "         ...  \n",
       " 8514    False\n",
       " 8515    False\n",
       " 8516    False\n",
       " 8517    False\n",
       " 8518    False\n",
       " Name: top75, Length: 8269, dtype: bool, 0        True\n",
       " 1        True\n",
       " 2        True\n",
       " 3        True\n",
       " 4        True\n",
       "         ...  \n",
       " 8514    False\n",
       " 8515    False\n",
       " 8516    False\n",
       " 8517    False\n",
       " 8518    False\n",
       " Name: top5, Length: 8269, dtype: bool, 0         1.0\n",
       " 1       107.0\n",
       " 2        76.0\n",
       " 3       211.0\n",
       " 4        70.0\n",
       "         ...  \n",
       " 8514     60.0\n",
       " 8515     69.0\n",
       " 8516      2.0\n",
       " 8517     73.0\n",
       " 8518     98.0\n",
       " Name: label_appearance_count, Length: 8269, dtype: float64, 0        Mini Label\n",
       " 1       Great Label\n",
       " 2         Big Label\n",
       " 3        Mega Label\n",
       " 4         Big Label\n",
       "            ...     \n",
       " 8514      Big Label\n",
       " 8515      Big Label\n",
       " 8516     Mini Label\n",
       " 8517      Big Label\n",
       " 8518      Big Label\n",
       " Name: label_category, Length: 8269, dtype: object, 0        Mini Label\n",
       " 1       Great Label\n",
       " 2         Big Label\n",
       " 3        Mega Label\n",
       " 4        Mega Label\n",
       "            ...     \n",
       " 8514      Big Label\n",
       " 8515      Big Label\n",
       " 8516      Big Label\n",
       " 8517      Big Label\n",
       " 8518      Big Label\n",
       " Name: label_category_group, Length: 8269, dtype: object]"
      ]
     },
     "execution_count": 159,
     "metadata": {},
     "output_type": "execute_result"
    }
   ],
   "source": [
    "to_pop =[\"top50\",\"top25\",\"top75\",\"top5\",\"label_appearance_count\",\"label_category\",\"label_category_group\"]\n",
    "[song_df.pop(i) for i in to_pop]"
   ]
  },
  {
   "cell_type": "code",
   "execution_count": 160,
   "metadata": {},
   "outputs": [],
   "source": [
    "X_train, X_test, y_train, y_test = train_test_split(song_df, top10, test_size=0.3)"
   ]
  },
  {
   "cell_type": "code",
   "execution_count": 161,
   "metadata": {},
   "outputs": [
    {
     "name": "stdout",
     "output_type": "stream",
     "text": [
      "[1]\ttraining's auc: 0.749387\n",
      "Training until validation scores don't improve for 100 rounds\n",
      "[2]\ttraining's auc: 0.768288\n",
      "[3]\ttraining's auc: 0.780476\n",
      "[4]\ttraining's auc: 0.785654\n",
      "[5]\ttraining's auc: 0.789734\n",
      "[6]\ttraining's auc: 0.792751\n",
      "[7]\ttraining's auc: 0.79621\n",
      "[8]\ttraining's auc: 0.798731\n",
      "[9]\ttraining's auc: 0.801556\n",
      "[10]\ttraining's auc: 0.805817\n",
      "[11]\ttraining's auc: 0.808716\n",
      "[12]\ttraining's auc: 0.810845\n",
      "[13]\ttraining's auc: 0.810054\n",
      "[14]\ttraining's auc: 0.810538\n",
      "[15]\ttraining's auc: 0.8124\n",
      "[16]\ttraining's auc: 0.814637\n",
      "[17]\ttraining's auc: 0.816755\n",
      "[18]\ttraining's auc: 0.81714\n",
      "[19]\ttraining's auc: 0.819569\n",
      "[20]\ttraining's auc: 0.820615\n",
      "[21]\ttraining's auc: 0.82387\n",
      "[22]\ttraining's auc: 0.825528\n",
      "[23]\ttraining's auc: 0.82907\n",
      "[24]\ttraining's auc: 0.831505\n",
      "[25]\ttraining's auc: 0.833169\n",
      "[26]\ttraining's auc: 0.83456\n",
      "[27]\ttraining's auc: 0.836012\n",
      "[28]\ttraining's auc: 0.837588\n",
      "[29]\ttraining's auc: 0.838846\n",
      "[30]\ttraining's auc: 0.840756\n",
      "[31]\ttraining's auc: 0.842006\n",
      "[32]\ttraining's auc: 0.843105\n",
      "[33]\ttraining's auc: 0.843588\n",
      "[34]\ttraining's auc: 0.844241\n",
      "[35]\ttraining's auc: 0.845202\n",
      "[36]\ttraining's auc: 0.84665\n",
      "[37]\ttraining's auc: 0.847728\n",
      "[38]\ttraining's auc: 0.848523\n",
      "[39]\ttraining's auc: 0.849387\n",
      "[40]\ttraining's auc: 0.8503\n",
      "[41]\ttraining's auc: 0.851176\n",
      "[42]\ttraining's auc: 0.852342\n",
      "[43]\ttraining's auc: 0.8534\n",
      "[44]\ttraining's auc: 0.854326\n",
      "[45]\ttraining's auc: 0.854805\n",
      "[46]\ttraining's auc: 0.855485\n",
      "[47]\ttraining's auc: 0.856165\n",
      "[48]\ttraining's auc: 0.857053\n",
      "[49]\ttraining's auc: 0.857914\n",
      "[50]\ttraining's auc: 0.859008\n",
      "[51]\ttraining's auc: 0.860038\n",
      "[52]\ttraining's auc: 0.860627\n",
      "[53]\ttraining's auc: 0.860779\n",
      "[54]\ttraining's auc: 0.861581\n",
      "[55]\ttraining's auc: 0.862107\n",
      "[56]\ttraining's auc: 0.862093\n",
      "[57]\ttraining's auc: 0.862748\n",
      "[58]\ttraining's auc: 0.863385\n",
      "[59]\ttraining's auc: 0.864476\n",
      "[60]\ttraining's auc: 0.865195\n",
      "[61]\ttraining's auc: 0.866118\n",
      "[62]\ttraining's auc: 0.867074\n",
      "[63]\ttraining's auc: 0.868398\n",
      "[64]\ttraining's auc: 0.869228\n",
      "[65]\ttraining's auc: 0.87045\n",
      "[66]\ttraining's auc: 0.871151\n",
      "[67]\ttraining's auc: 0.87159\n",
      "[68]\ttraining's auc: 0.872318\n",
      "[69]\ttraining's auc: 0.872825\n",
      "[70]\ttraining's auc: 0.874179\n",
      "[71]\ttraining's auc: 0.875278\n",
      "[72]\ttraining's auc: 0.87548\n",
      "[73]\ttraining's auc: 0.875753\n",
      "[74]\ttraining's auc: 0.876426\n",
      "[75]\ttraining's auc: 0.876675\n",
      "[76]\ttraining's auc: 0.876989\n",
      "[77]\ttraining's auc: 0.877466\n",
      "[78]\ttraining's auc: 0.878624\n",
      "[79]\ttraining's auc: 0.879165\n",
      "[80]\ttraining's auc: 0.879661\n",
      "[81]\ttraining's auc: 0.881135\n",
      "[82]\ttraining's auc: 0.881575\n",
      "[83]\ttraining's auc: 0.882085\n",
      "[84]\ttraining's auc: 0.882745\n",
      "[85]\ttraining's auc: 0.883907\n",
      "[86]\ttraining's auc: 0.884812\n",
      "[87]\ttraining's auc: 0.885518\n",
      "[88]\ttraining's auc: 0.886175\n",
      "[89]\ttraining's auc: 0.886447\n",
      "[90]\ttraining's auc: 0.887664\n",
      "[91]\ttraining's auc: 0.888462\n",
      "[92]\ttraining's auc: 0.889048\n",
      "[93]\ttraining's auc: 0.889251\n",
      "[94]\ttraining's auc: 0.889761\n",
      "[95]\ttraining's auc: 0.890046\n",
      "[96]\ttraining's auc: 0.890774\n",
      "[97]\ttraining's auc: 0.891516\n",
      "[98]\ttraining's auc: 0.891935\n",
      "[99]\ttraining's auc: 0.892436\n",
      "[100]\ttraining's auc: 0.893092\n",
      "Did not meet early stopping. Best iteration is:\n",
      "[100]\ttraining's auc: 0.893092\n"
     ]
    }
   ],
   "source": [
    "# create dataset for lightgbm\n",
    "lgb_train = lgb.Dataset(X_train, y_train)\n",
    "#lgb_eval = lgb.Dataset(X_val, y_val, reference=lgb_train)\n",
    "\n",
    "\n",
    "#can replace 'is_unbalance': 'true', by 'scale_pos_weight': 10,\n",
    "\n",
    "parameters = {\n",
    "    'application': 'binary',\n",
    "    'objective': 'binary',\n",
    "    'metric': 'auc',\n",
    "    'boosting': 'gbdt',\n",
    "    'is_unbalance': 'true',\n",
    "    'num_leaves': 25,\n",
    "    'feature_fraction': 0.5,\n",
    "    'bagging_fraction': 0.5,\n",
    "    'bagging_freq': 20,\n",
    "    'learning_rate': 0.05,\n",
    "    'verbose': 0\n",
    "}\n",
    "\n",
    "model = lgb.train(parameters,\n",
    "                       lgb_train,\n",
    "                       valid_sets=lgb_train,\n",
    "                       num_boost_round=100,\n",
    "                       early_stopping_rounds=100)\n",
    "\n",
    "predictions = model.predict(X_test)\n"
   ]
  },
  {
   "cell_type": "code",
   "execution_count": 162,
   "metadata": {},
   "outputs": [
    {
     "data": {
      "image/png": "[encoded data removed]",
      "text/plain": [
       "<Figure size 432x288 with 1 Axes>"
      ]
     },
     "metadata": {
      "needs_background": "light"
     },
     "output_type": "display_data"
    }
   ],
   "source": [
    "import sklearn.metrics as metrics\n",
    "\n",
    "fpr, tpr, threshold = metrics.roc_curve(y_test, predictions)\n",
    "roc_auc = metrics.auc(fpr, tpr)\n",
    "\n",
    "# method I: plt\n",
    "import matplotlib.pyplot as plt\n",
    "%matplotlib inline\n",
    "plt.title('Receiver Operating Characteristic')\n",
    "plt.plot(fpr, tpr, 'b', label = 'AUC = %0.2f' % roc_auc)\n",
    "plt.legend(loc = 'lower right')\n",
    "plt.plot([0, 1], [0, 1],'r--')\n",
    "plt.xlim([0, 1])\n",
    "plt.ylim([0, 1])\n",
    "plt.ylabel('True Positive Rate')\n",
    "plt.xlabel('False Positive Rate')\n",
    "plt.show()"
   ]
  },
  {
   "cell_type": "code",
   "execution_count": 163,
   "metadata": {},
   "outputs": [
    {
     "name": "stdout",
     "output_type": "stream",
     "text": [
      "228 spotify_duration_ms\n",
      "201 spotify_danceability\n",
      "182 spotify_energy\n",
      "159 spotify_loudness\n",
      "184 spotify_speechiness\n",
      "200 spotify_acousticness\n",
      "126 spotify_instrumentalness\n",
      "178 spotify_liveness\n",
      "185 spotify_valence\n",
      "177 spotify_tempo\n",
      "160 award_num\n",
      "84 num_songs_awards\n",
      "173 firstrank\n",
      "163 label_appearance_count_group\n"
     ]
    }
   ],
   "source": [
    "# Record the feature importances\n",
    "feature_importances = model.feature_importance()\n",
    "for i in range(len(feature_importances)):\n",
    "    print(feature_importances[i],X_train.columns[i])"
   ]
  },
  {
   "cell_type": "code",
   "execution_count": 164,
   "metadata": {},
   "outputs": [
    {
     "name": "stderr",
     "output_type": "stream",
     "text": [
      "/Users/iliasmiraoui/anaconda3/lib/python3.7/site-packages/sklearn/linear_model/logistic.py:432: FutureWarning: Default solver will be changed to 'lbfgs' in 0.22. Specify a solver to silence this warning.\n",
      "  FutureWarning)\n"
     ]
    },
    {
     "data": {
      "text/plain": [
       "LogisticRegression(C=1.0, class_weight=None, dual=False, fit_intercept=True,\n",
       "                   intercept_scaling=1, l1_ratio=None, max_iter=100,\n",
       "                   multi_class='warn', n_jobs=None, penalty='l2',\n",
       "                   random_state=None, solver='warn', tol=0.0001, verbose=0,\n",
       "                   warm_start=False)"
      ]
     },
     "execution_count": 164,
     "metadata": {},
     "output_type": "execute_result"
    }
   ],
   "source": [
    "from sklearn.linear_model import LogisticRegression\n",
    "from sklearn import metrics\n",
    "logreg = LogisticRegression()\n",
    "logreg.fit(X_train, y_train)"
   ]
  },
  {
   "cell_type": "code",
   "execution_count": 165,
   "metadata": {},
   "outputs": [
    {
     "name": "stdout",
     "output_type": "stream",
     "text": [
      "Accuracy of logistic regression classifier on test set: 0.65\n"
     ]
    }
   ],
   "source": [
    "y_pred = logreg.predict(X_test)\n",
    "print('Accuracy of logistic regression classifier on test set: {:.2f}'.format(logreg.score(X_test, y_test)))"
   ]
  },
  {
   "cell_type": "code",
   "execution_count": 166,
   "metadata": {},
   "outputs": [
    {
     "data": {
      "image/png": "[encoded data removed]",
      "text/plain": [
       "<Figure size 432x288 with 1 Axes>"
      ]
     },
     "metadata": {
      "needs_background": "light"
     },
     "output_type": "display_data"
    }
   ],
   "source": [
    "import sklearn.metrics as metrics\n",
    "\n",
    "fpr, tpr, threshold = metrics.roc_curve(y_test, y_pred)\n",
    "roc_auc = metrics.auc(fpr, tpr)\n",
    "\n",
    "# method I: plt\n",
    "import matplotlib.pyplot as plt\n",
    "%matplotlib inline\n",
    "plt.title('Receiver Operating Characteristic')\n",
    "plt.plot(fpr, tpr, 'b', label = 'AUC = %0.2f' % roc_auc)\n",
    "plt.legend(loc = 'lower right')\n",
    "plt.plot([0, 1], [0, 1],'r--')\n",
    "plt.xlim([0, 1])\n",
    "plt.ylim([0, 1])\n",
    "plt.ylabel('True Positive Rate')\n",
    "plt.xlabel('False Positive Rate')\n",
    "plt.show()"
   ]
  },
  {
   "cell_type": "code",
   "execution_count": 167,
   "metadata": {},
   "outputs": [
    {
     "data": {
      "text/plain": [
       "array([[981, 208],\n",
       "       [503, 789]])"
      ]
     },
     "execution_count": 167,
     "metadata": {},
     "output_type": "execute_result"
    }
   ],
   "source": [
    "from sklearn.metrics import confusion_matrix\n",
    "\n",
    "predictions_matrix = [1 if pred > 0.5 else 0 for pred in predictions]\n",
    "confusion_matrix(y_test,predictions_matrix)"
   ]
  }
 ],
 "metadata": {
  "kernelspec": {
   "display_name": "Python 3",
   "language": "python",
   "name": "python3"
  },
  "language_info": {
   "codemirror_mode": {
    "name": "ipython",
    "version": 3
   },
   "file_extension": ".py",
   "mimetype": "text/x-python",
   "name": "python",
   "nbconvert_exporter": "python",
   "pygments_lexer": "ipython3",
   "version": "3.7.4"
  }
 },
 "nbformat": 4,
 "nbformat_minor": 2
}
