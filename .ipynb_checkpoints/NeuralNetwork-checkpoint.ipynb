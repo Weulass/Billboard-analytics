{
 "cells": [
  {
   "cell_type": "code",
   "execution_count": 91,
   "metadata": {},
   "outputs": [],
   "source": [
    "import pandas as pd\n",
    "import tensorflow as tf\n",
    "from sklearn.model_selection import train_test_split\n",
    "from sklearn import preprocessing\n",
    "import pickle"
   ]
  },
  {
   "cell_type": "code",
   "execution_count": 92,
   "metadata": {},
   "outputs": [],
   "source": [
    "with open('test_set.pkl', 'rb') as f:\n",
    "        X_test= pickle.load(f)  \n",
    "with open('train_set.pkl', 'rb') as f:\n",
    "        X_train= pickle.load(f)  \n",
    "with open('ytest.pkl', 'rb') as f:\n",
    "        y_test= pickle.load(f)  \n",
    "with open('ytrain.pkl', 'rb') as f:\n",
    "        y_train= pickle.load(f)  \n",
    "for i in [X_train,X_test]:\n",
    "    #i.pop(\"spotify_explicit\")\n",
    "    #i.pop(\"spotify_mode\")\n",
    "   #i.pop(\"num_artists\")\n",
    "    i.pop(\"artist_has_award\")\n",
    "    #i.pop(\"album_type\")\n",
    "    #i.pop(\"gold_count\")\n",
    "    #i.pop(\"spotify_time_signature\")\n",
    "    #i.pop(\"datetime_month\")\n",
    "    #i.pop(\"award_num\")\n",
    "    #i.pop(\"label_category_group\")\n",
    "    #i.pop(\"datetime_year\")\n",
    "    #i.pop(\"firstrank\")\n",
    "    #i.pop(\"num_songs_awards\")\n",
    "    #i.pop(\"platinum_count\")"
   ]
  },
  {
   "cell_type": "code",
   "execution_count": 93,
   "metadata": {},
   "outputs": [
    {
     "name": "stderr",
     "output_type": "stream",
     "text": [
      "/Users/iliasmiraoui/anaconda3/lib/python3.7/site-packages/sklearn/utils/validation.py:724: DataConversionWarning: A column-vector y was passed when a 1d array was expected. Please change the shape of y to (n_samples, ), for example using ravel().\n",
      "  y = column_or_1d(y, warn=True)\n"
     ]
    }
   ],
   "source": [
    "\"\"\"X_train[\"top10\"] = y_train\n",
    "X_train = X_train.sample(frac=1)\n",
    "top_df = X_train.loc[X_train['top10'] == 1]\n",
    "non_top_df = X_train.loc[X_train['top10'] == 0][:600]\n",
    "X_train = pd.concat([top_df, non_top_df])\n",
    "y_train = X_train.pop(\"top10\")\"\"\"\n",
    "from imblearn.over_sampling import SMOTE\n",
    "\n",
    "sm = SMOTE(random_state=27, ratio=1.0)\n",
    "X_train, y_train = sm.fit_sample(X_train, y_train)\n"
   ]
  },
  {
   "cell_type": "code",
   "execution_count": 88,
   "metadata": {},
   "outputs": [],
   "source": [
    "from sklearn.decomposition import PCA\n",
    "pca = PCA(n_components=4)\n",
    "principalComponents = pca.fit(X_train)\n",
    "X_train = pca.transform(X_train)\n",
    "X_test = pca.transform(X_test)"
   ]
  },
  {
   "cell_type": "code",
   "execution_count": 95,
   "metadata": {},
   "outputs": [
    {
     "name": "stderr",
     "output_type": "stream",
     "text": [
      "W1208 15:43:41.477916 4548394304 base_layer.py:1814] Layer sequential_20 is casting an input tensor from dtype float64 to the layer's dtype of float32, which is new behavior in TensorFlow 2.  The layer has dtype float32 because it's dtype defaults to floatx.\n",
      "\n",
      "If you intended to run this layer in float32, you can safely ignore this warning. If in doubt, this warning is likely only an issue if you are porting a TensorFlow 1.X model to TensorFlow 2.\n",
      "\n",
      "To change all layers to have dtype float64 by default, call `tf.keras.backend.set_floatx('float64')`. To change just this layer, pass dtype='float64' to the layer constructor. If you are the author of this layer, you can disable autocasting by passing autocast=False to the base Layer constructor.\n",
      "\n"
     ]
    },
    {
     "name": "stdout",
     "output_type": "stream",
     "text": [
      "Epoch 1/15\n",
      "364/364 [==============================] - 7s 20ms/step - loss: 310.5646 - accuracy: 0.5036\n",
      "Epoch 2/15\n",
      "364/364 [==============================] - 6s 18ms/step - loss: 0.9135 - accuracy: 0.4950\n",
      "Epoch 3/15\n",
      "364/364 [==============================] - 6s 16ms/step - loss: 0.7532 - accuracy: 0.5016\n",
      "Epoch 4/15\n",
      "364/364 [==============================] - 6s 16ms/step - loss: 0.7259 - accuracy: 0.5022\n",
      "Epoch 5/15\n",
      "364/364 [==============================] - 6s 16ms/step - loss: 0.7218 - accuracy: 0.4962\n",
      "Epoch 6/15\n",
      "364/364 [==============================] - 6s 16ms/step - loss: 0.7102 - accuracy: 0.4901\n",
      "Epoch 7/15\n",
      "364/364 [==============================] - 6s 17ms/step - loss: 0.7009 - accuracy: 0.4940\n",
      "Epoch 8/15\n",
      "364/364 [==============================] - 6s 15ms/step - loss: 0.6966 - accuracy: 0.4958\n",
      "Epoch 9/15\n",
      "364/364 [==============================] - 6s 16ms/step - loss: 0.6957 - accuracy: 0.5050\n",
      "Epoch 10/15\n",
      "364/364 [==============================] - 6s 15ms/step - loss: 0.7106 - accuracy: 0.4971\n",
      "Epoch 11/15\n",
      "364/364 [==============================] - 6s 16ms/step - loss: 0.6945 - accuracy: 0.5000\n",
      "Epoch 12/15\n",
      "364/364 [==============================] - 7s 18ms/step - loss: 0.6977 - accuracy: 0.4911\n",
      "Epoch 13/15\n",
      "364/364 [==============================] - 6s 17ms/step - loss: 0.6978 - accuracy: 0.4976\n",
      "Epoch 14/15\n",
      "364/364 [==============================] - 6s 17ms/step - loss: 0.6970 - accuracy: 0.4954\n",
      "Epoch 15/15\n",
      "364/364 [==============================] - 6s 17ms/step - loss: 0.6949 - accuracy: 0.5013\n"
     ]
    }
   ],
   "source": [
    "dataset = tf.data.Dataset.from_tensor_slices((X_train, y_train))\n",
    "train_dataset = dataset.shuffle(len(X_train)).batch(32)\n",
    "\n",
    "def get_compiled_model():\n",
    "    model = tf.keras.Sequential([\n",
    "    tf.keras.layers.Dense(1000, activation='relu'),\n",
    "    tf.keras.layers.Dropout(0.2),\n",
    "    tf.keras.layers.Dense(1000, activation='relu'),\n",
    "    tf.keras.layers.Dropout(0.2),\n",
    "    tf.keras.layers.Dense(1000, activation='relu'),\n",
    "    tf.keras.layers.Dropout(0.2),\n",
    "    tf.keras.layers.Dense(1000, activation='relu'),\n",
    "    tf.keras.layers.Dropout(0.2),\n",
    "    tf.keras.layers.Dense(1, activation='sigmoid')\n",
    "    ])\n",
    "    model.compile(optimizer='adam',\n",
    "              loss='binary_crossentropy',\n",
    "              metrics=['accuracy'])\n",
    "    return model\n",
    "\n",
    "model = get_compiled_model()\n",
    "model.fit(train_dataset, epochs=15)\n",
    "model.save(\"neuralnet1.h5\")"
   ]
  },
  {
   "cell_type": "code",
   "execution_count": 97,
   "metadata": {},
   "outputs": [
    {
     "data": {
      "text/plain": [
       "array([[1572,    0],\n",
       "       [  67,    0]])"
      ]
     },
     "execution_count": 97,
     "metadata": {},
     "output_type": "execute_result"
    }
   ],
   "source": [
    "predictions = model(X_test.values)\n",
    "from sklearn.metrics import confusion_matrix\n",
    "predictions_matrix = [1 if pred > 0.5 else 0 for pred in predictions]\n",
    "confusion_matrix(y_test,predictions_matrix)"
   ]
  },
  {
   "cell_type": "code",
   "execution_count": 98,
   "metadata": {},
   "outputs": [
    {
     "data": {
      "image/png": "[encoded data removed]",
      "text/plain": [
       "<Figure size 432x288 with 1 Axes>"
      ]
     },
     "metadata": {
      "needs_background": "light"
     },
     "output_type": "display_data"
    }
   ],
   "source": [
    "import sklearn.metrics as metrics\n",
    "\n",
    "fpr, tpr, threshold = metrics.roc_curve(y_test, predictions)\n",
    "roc_auc = metrics.auc(fpr, tpr)\n",
    "\n",
    "# method I: plt\n",
    "import matplotlib.pyplot as plt\n",
    "%matplotlib inline\n",
    "plt.title('Receiver Operating Characteristic')\n",
    "plt.plot(fpr, tpr, 'b', label = 'AUC = %0.2f' % roc_auc)\n",
    "plt.legend(loc = 'lower right')\n",
    "plt.plot([0, 1], [0, 1],'r--')\n",
    "plt.xlim([0, 1])\n",
    "plt.ylim([0, 1])\n",
    "plt.ylabel('True Positive Rate')\n",
    "plt.xlabel('False Positive Rate')\n",
    "plt.show()"
   ]
  },
  {
   "cell_type": "code",
   "execution_count": null,
   "metadata": {},
   "outputs": [],
   "source": []
  }
 ],
 "metadata": {
  "kernelspec": {
   "display_name": "Python 3",
   "language": "python",
   "name": "python3"
  },
  "language_info": {
   "codemirror_mode": {
    "name": "ipython",
    "version": 3
   },
   "file_extension": ".py",
   "mimetype": "text/x-python",
   "name": "python",
   "nbconvert_exporter": "python",
   "pygments_lexer": "ipython3",
   "version": "3.7.4"
  }
 },
 "nbformat": 4,
 "nbformat_minor": 2
}
