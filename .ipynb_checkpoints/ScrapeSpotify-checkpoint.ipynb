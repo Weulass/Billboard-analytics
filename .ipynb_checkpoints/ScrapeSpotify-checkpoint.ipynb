{
 "cells": [
  {
   "cell_type": "code",
   "execution_count": 38,
   "metadata": {},
   "outputs": [],
   "source": [
    "import spotipy\n",
    "import spotipy.util as util\n",
    "import pickle\n",
    "import sys\n",
    "import requests\n",
    "from tqdm import tqdm\n",
    "import os\n",
    "import pandas as pd\n",
    "import numpy as np\n",
    "from multiprocessing import Pool\n",
    "from fuzzywuzzy import fuzz\n",
    "import string\n",
    "import json\n",
    "import unidecode"
   ]
  },
  {
   "cell_type": "code",
   "execution_count": 39,
   "metadata": {},
   "outputs": [],
   "source": [
    "\n",
    "\n",
    "# Spotify Infos\n",
    "scope = 'user-library-read'\n",
    "username = \"ilias.miraoui@gmail.com\"\n",
    "\n",
    "token = util.prompt_for_user_token(username, scope, client_id='6d6b00a4a500471e94c5a3f1559e8cc6', client_secret='500950b79db94ac88f6859d24e4e6033', redirect_uri='http://localhost:8888/callback')\n",
    "if token:\n",
    "    spotify = spotipy.Spotify(auth=token)\n",
    "else:\n",
    "    print(\"Connexion to spotify API failed.\")\n",
    "    sys.exit()\n",
    "\n",
    "    \n"
   ]
  },
  {
   "cell_type": "code",
   "execution_count": 40,
   "metadata": {},
   "outputs": [],
   "source": [
    "def simplify_string(s):\n",
    "    return unidecode.unidecode(s.lower()).replace('the', ' ').replace(' ', '').translate(str.maketrans('', '', string.punctuation))\n",
    "\n",
    "\n",
    "def similar(a, b, threshold=80):\n",
    "    return fuzz.ratio(simplify_string(a), simplify_string(b)) >= threshold"
   ]
  },
  {
   "cell_type": "code",
   "execution_count": 56,
   "metadata": {},
   "outputs": [],
   "source": [
    "def get_song_details(artist,track):\n",
    "    song_details = dict()\n",
    "    results = spotify.search(q=\" track:\" + track + ' artist:' + artist  , type='track')\n",
    "    if results['tracks']['total'] > 0:\n",
    "        for i in results['tracks']['items']:\n",
    "            if similar(track, i['name'], 80) and similar(artist, i[\"artists\"][0][\"name\"], 80):\n",
    "                maxi = i\n",
    "                break\n",
    "        if maxi is None:\n",
    "            return None\n",
    "        if results is None or len(results) == 0:\n",
    "            return None\n",
    "    _id = maxi[\"id\"] \n",
    "    song_details[_id] = dict()\n",
    "    song_details[_id][\"explicit\"] = maxi[\"explicit\"]\n",
    "    song_details[_id][\"duration_ms\"] = maxi[\"duration_ms\"]\n",
    "    song_details[_id][\"disc_number\"] = maxi[\"disc_number\"]\n",
    "    song_details[_id][\"track_number\"] = maxi[\"track_number\"]\n",
    "    return song_details\n",
    "\n",
    "\n",
    "    "
   ]
  },
  {
   "cell_type": "code",
   "execution_count": 68,
   "metadata": {},
   "outputs": [],
   "source": [
    "def get_song_features(_id):\n",
    "    song_features = dict()\n",
    "    results = spotify.audio_features(_id)[0]\n",
    "    song_features[\"danceability\"] = results[\"danceability\"]\n",
    "    song_features[\"energy\"] = results[\"energy\"]\n",
    "    song_features[\"key\"] = results[\"key\"]\n",
    "    song_features[\"loudness\"] = results[\"loudness\"]\n",
    "    song_features[\"mode\"] = results[\"mode\"]\n",
    "    song_features[\"speechiness\"] = results[\"speechiness\"]\n",
    "    song_features[\"acousticness\"] = results[\"acousticness\"]\n",
    "    song_features[\"instrumentalness\"] = results[\"instrumentalness\"]\n",
    "    song_features[\"liveness\"] = results[\"liveness\"]\n",
    "    song_features[\"valence\"] = results[\"valence\"]\n",
    "    song_features[\"tempo\"] = results[\"tempo\"]\n",
    "    song_features[\"time_signature\"] = results[\"time_signature\"]\n",
    "    return song_features"
   ]
  },
  {
   "cell_type": "code",
   "execution_count": 58,
   "metadata": {},
   "outputs": [],
   "source": [
    "song = get_song_details(\"Jimi Hendrix\",\"Purple Haze\")\n",
    "features = get_song_features(song.keys())"
   ]
  },
  {
   "cell_type": "code",
   "execution_count": 66,
   "metadata": {},
   "outputs": [
    {
     "data": {
      "text/plain": [
       "dict_keys(['0wJoRiX5K5BxlqZTolB2LD'])"
      ]
     },
     "execution_count": 66,
     "metadata": {},
     "output_type": "execute_result"
    }
   ],
   "source": [
    "song.keys()"
   ]
  }
 ],
 "metadata": {
  "kernelspec": {
   "display_name": "Python 3",
   "language": "python",
   "name": "python3"
  },
  "language_info": {
   "codemirror_mode": {
    "name": "ipython",
    "version": 3
   },
   "file_extension": ".py",
   "mimetype": "text/x-python",
   "name": "python",
   "nbconvert_exporter": "python",
   "pygments_lexer": "ipython3",
   "version": "3.7.4"
  }
 },
 "nbformat": 4,
 "nbformat_minor": 2
}
