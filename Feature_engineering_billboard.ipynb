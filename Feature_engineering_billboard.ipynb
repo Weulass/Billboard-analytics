{
 "cells": [
  {
   "cell_type": "code",
   "execution_count": 22,
   "metadata": {},
   "outputs": [],
   "source": [
    "#Python libraries we may need\n",
    "import pickle\n",
    "import pandas as pd\n",
    "import matplotlib.pyplot as plt\n",
    "import datetime\n",
    "from datetime import timedelta\n",
    "import numpy as np"
   ]
  },
  {
   "cell_type": "raw",
   "metadata": {},
   "source": [
    "We upload the original database df"
   ]
  },
  {
   "cell_type": "code",
   "execution_count": null,
   "metadata": {},
   "outputs": [],
   "source": [
    "with open('hot-100_data.pkl', 'rb') as f:\n",
    "        df = pickle.load(f)"
   ]
  },
  {
   "cell_type": "code",
   "execution_count": null,
   "metadata": {
    "scrolled": true
   },
   "outputs": [],
   "source": [
    "#we check the database\n",
    "df"
   ]
  },
  {
   "cell_type": "raw",
   "metadata": {},
   "source": [
    "We add new useful features such as numberofappearances, best rank and first rank for each song\n",
    "We also count the number of songs each artist placed on the Hot 100 and Hot 10 before releasing the song "
   ]
  },
  {
   "cell_type": "code",
   "execution_count": null,
   "metadata": {},
   "outputs": [],
   "source": [
    "df[\"numberofappearances\"]=0\n",
    "df[\"bestrank\"]=0\n",
    "df[\"firstrank\"]=0\n",
    "df[\"numberofappearances_artist\"]=0\n",
    "df[\"numberofappearances_artist_top10\"]=0\n",
    "for i in range(len(df)):\n",
    "    title=df.title.loc[i]\n",
    "    artist=df.artist.loc[i]\n",
    "    date=df.date.loc[i]\n",
    "    new_df=df[df[\"artist\"] == artist][df[\"title\"] == title][df[\"date\"] <= date]\n",
    "    table=new_df[new_df.artist==artist]\n",
    "    table=table[table.title==title]\n",
    "    df[\"numberofappearances\"].loc[i]=len(table)\n",
    "    df[\"bestrank\"].loc[i]=table[\"rank\"].min()\n",
    "    df[\"firstrank\"].loc[i]=table[\"rank\"].iloc[-1]\n",
    "    df[\"numberofappearances_artist\"].loc[i]=len(df[df[\"artist\"] == artist][df[\"title\"] != title][df[\"date\"] <= date].title.unique())\n",
    "    df[\"numberofappearances_artist_top10\"].loc[i]=len(df[df[\"artist\"] == artist][df[\"title\"] != title][df[\"date\"] <= date][df[\"rank\"]<11].title.unique())\n",
    "        "
   ]
  },
  {
   "cell_type": "raw",
   "metadata": {},
   "source": [
    "To clean our dataset, we compute the median time for a song to reach the top 10."
   ]
  },
  {
   "cell_type": "code",
   "execution_count": 26,
   "metadata": {},
   "outputs": [
    {
     "name": "stderr",
     "output_type": "stream",
     "text": [
      "/opt/anaconda3/lib/python3.7/site-packages/ipykernel_launcher.py:8: UserWarning: Boolean Series key will be reindexed to match DataFrame index.\n",
      "  \n",
      "/opt/anaconda3/lib/python3.7/site-packages/ipykernel_launcher.py:9: UserWarning: Boolean Series key will be reindexed to match DataFrame index.\n",
      "  if __name__ == '__main__':\n"
     ]
    }
   ],
   "source": [
    "datetimeFormat = '%Y-%m-%d'\n",
    "times=[]\n",
    "top10=df[df[\"rank\"]<11]\n",
    "artists_top10=top10.artist.unique()\n",
    "for artist in artists_top10:\n",
    "    titles_top10=top10[top10[\"artist\"]==artist].title.unique()\n",
    "    for title in titles_top10:\n",
    "        date1=df[df.title==title][df[\"artist\"]==artist][df[\"rank\"]<11].date.min()\n",
    "        date2=df[df.title==title][df[\"artist\"]==artist].date.min()\n",
    "        diff=date1-date2\n",
    "        diff= diff.days\n",
    "        times.append(diff)"
   ]
  },
  {
   "cell_type": "raw",
   "metadata": {},
   "source": [
    "We take the median time to reduce the influence of outliers"
   ]
  },
  {
   "cell_type": "code",
   "execution_count": 27,
   "metadata": {},
   "outputs": [],
   "source": [
    "med_time_to_top10=np.median(times)/7 #6 weeks!"
   ]
  },
  {
   "cell_type": "code",
   "execution_count": 28,
   "metadata": {},
   "outputs": [
    {
     "data": {
      "text/plain": [
       "6.0"
      ]
     },
     "execution_count": 28,
     "metadata": {},
     "output_type": "execute_result"
    }
   ],
   "source": [
    "med_time_to_top10"
   ]
  },
  {
   "cell_type": "raw",
   "metadata": {},
   "source": [
    "We will thus remove the latest 6 weeks from our training and test set to make sure we use complete informations\n",
    "\n",
    "We export our dataframe into a pickle file to share with the other members"
   ]
  },
  {
   "cell_type": "code",
   "execution_count": null,
   "metadata": {},
   "outputs": [],
   "source": [
    "df.to_pickle(\"hot_100_updated.pkl\")"
   ]
  }
 ],
 "metadata": {
  "kernelspec": {
   "display_name": "Python 3",
   "language": "python",
   "name": "python3"
  },
  "language_info": {
   "codemirror_mode": {
    "name": "ipython",
    "version": 3
   },
   "file_extension": ".py",
   "mimetype": "text/x-python",
   "name": "python",
   "nbconvert_exporter": "python",
   "pygments_lexer": "ipython3",
   "version": "3.7.4"
  }
 },
 "nbformat": 4,
 "nbformat_minor": 2
}
