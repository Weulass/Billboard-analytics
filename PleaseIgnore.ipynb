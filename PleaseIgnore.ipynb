{
 "cells": [
  {
   "cell_type": "code",
   "execution_count": 3,
   "metadata": {},
   "outputs": [],
   "source": [
    "import pandas as pd\n",
    "import urllib.parse\n",
    "from tqdm import tqdm_notebook as tqdm\n",
    "import pickle \n",
    "with open('artist_df.pkl', 'rb') as f:\n",
    "        artist_df = pickle.load(f)\n",
    "with open('song_df_100.pkl', 'rb') as f:\n",
    "        song_df = pickle.load(f)"
   ]
  },
  {
   "cell_type": "code",
   "execution_count": 13,
   "metadata": {},
   "outputs": [
    {
     "data": {
      "application/vnd.jupyter.widget-view+json": {
       "model_id": "7bdd1e274a624b13838e857d7d1c9879",
       "version_major": 2,
       "version_minor": 0
      },
      "text/plain": [
       "HBox(children=(IntProgress(value=0, max=3930), HTML(value='')))"
      ]
     },
     "metadata": {},
     "output_type": "display_data"
    },
    {
     "name": "stdout",
     "output_type": "stream",
     "text": [
      "\n"
     ]
    }
   ],
   "source": [
    "pbar = tqdm(song_df[\"artist\"].unique())\n",
    "i = 0\n",
    "for artist in pbar:\n",
    "    if (artist not in artist_df[\"artist\"].unique()) and (artist not in artist_df[0].unique()) :\n",
    "        None\n",
    "    else:\n",
    "        i=i+1"
   ]
  },
  {
   "cell_type": "code",
   "execution_count": 14,
   "metadata": {},
   "outputs": [
    {
     "data": {
      "text/plain": [
       "307"
      ]
     },
     "execution_count": 14,
     "metadata": {},
     "output_type": "execute_result"
    }
   ],
   "source": [
    "i"
   ]
  },
  {
   "cell_type": "code",
   "execution_count": 32,
   "metadata": {},
   "outputs": [],
   "source": [
    "keywords = [\" Featuring \",\" Feauring \", \" featuring \", \" & \", \", \",\" X \", \" x \",\" Presents \", \" From \"]\n",
    "new_df = artist_df.dropna(subset=[0])\n"
   ]
  },
  {
   "cell_type": "code",
   "execution_count": 31,
   "metadata": {},
   "outputs": [
    {
     "data": {
      "text/plain": [
       "[['tesdt &', 'test'],\n",
       " ['tesdt & Featuring test'],\n",
       " ['tesdt & Featuring test'],\n",
       " ['tesdt ', ' Featuring test'],\n",
       " ['tesdt & Featuring test'],\n",
       " ['tesdt & Featuring test'],\n",
       " ['tesdt & Featuring test'],\n",
       " ['tesdt & Featuring test'],\n",
       " ['tesdt & Featuring test']]"
      ]
     },
     "execution_count": 31,
     "metadata": {},
     "output_type": "execute_result"
    }
   ],
   "source": [
    "[\"tesdt & Featuring test\".split(keyword) for keyword in keywords]"
   ]
  },
  {
   "cell_type": "code",
   "execution_count": null,
   "metadata": {},
   "outputs": [],
   "source": []
  }
 ],
 "metadata": {
  "kernelspec": {
   "display_name": "Python 3",
   "language": "python",
   "name": "python3"
  },
  "language_info": {
   "codemirror_mode": {
    "name": "ipython",
    "version": 3
   },
   "file_extension": ".py",
   "mimetype": "text/x-python",
   "name": "python",
   "nbconvert_exporter": "python",
   "pygments_lexer": "ipython3",
   "version": "3.7.4"
  }
 },
 "nbformat": 4,
 "nbformat_minor": 2
}
